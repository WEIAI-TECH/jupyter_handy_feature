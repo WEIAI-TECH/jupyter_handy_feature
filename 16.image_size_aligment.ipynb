{
 "cells": [
  {
   "cell_type": "markdown",
   "id": "vocal-energy",
   "metadata": {
    "slideshow": {
     "slide_type": "slide"
    }
   },
   "source": [
    "<img src=\"./images/weiailogo2.png\"\n",
    "     style=\"float: right\"\n",
    "     width=150\n",
    "     style=\"padding-bottom:30px;\"/>\n",
    "<br>\n",
    "\n",
    "<img style=\"float: left;\" src= \"./images/python-logo.svg\" width=\"400\">    \n",
    "<img  style=\"float: center;\" src=\"./images/jupyter-logo.svg\" width=\"130\">\n",
    "\n",
    "\n",
    "#  How to Size and Align Images in Jupyter Notebook\n",
    "\n",
    "## Sigmund S. Wei, Ph.D. Professor"
   ]
  },
  {
   "cell_type": "markdown",
   "id": "inclusive-unemployment",
   "metadata": {
    "slideshow": {
     "slide_type": "slide"
    }
   },
   "source": [
    "## Normal way to insert an image in Markdown\n",
    " \n",
    "![](./images/line3.png)\n",
    "\n",
    "－But it does not work to just the size and align the position"
   ]
  },
  {
   "cell_type": "markdown",
   "id": "noticed-company",
   "metadata": {},
   "source": [
    "<img src=\"./images/line3.png\" \n",
    "     align=\"left\" \n",
    "     width=\"500\" />"
   ]
  },
  {
   "cell_type": "markdown",
   "id": "behavioral-patient",
   "metadata": {
    "slideshow": {
     "slide_type": "slide"
    }
   },
   "source": [
    "## Two or More images on one row \n",
    "\n",
    "<img src=\"./images/simpleLine.png\" \n",
    "     alt=\"alt_text\" align=\"left\" \n",
    "     width=\"450\" />\n",
    "<img src=\"./images/simpleBar.png\" \n",
    "     alt=\"alt_text\" align=\"center\" \n",
    "     width=\"450\" />"
   ]
  },
  {
   "cell_type": "markdown",
   "id": "forbidden-christmas",
   "metadata": {
    "slideshow": {
     "slide_type": "slide"
    }
   },
   "source": [
    "<table>\n",
    "    <tr>\n",
    "      <td>\n",
    "      <img src='./images/simplePie.png'width=300>\n",
    "      </td>\n",
    "      <td>\n",
    "      <img src='./images/simpleBar.png'width=300>\n",
    "      </td>\n",
    "      <td>\n",
    "      <img src='./images/simpleLine.png'width=300>\n",
    "      </td>\n",
    "     </tr>\n",
    "</table>"
   ]
  },
  {
   "cell_type": "code",
   "execution_count": null,
   "id": "sexual-director",
   "metadata": {},
   "outputs": [],
   "source": []
  }
 ],
 "metadata": {
  "kernelspec": {
   "display_name": "Python 3",
   "language": "python",
   "name": "python3"
  },
  "language_info": {
   "codemirror_mode": {
    "name": "ipython",
    "version": 3
   },
   "file_extension": ".py",
   "mimetype": "text/x-python",
   "name": "python",
   "nbconvert_exporter": "python",
   "pygments_lexer": "ipython3",
   "version": "3.8.8"
  }
 },
 "nbformat": 4,
 "nbformat_minor": 5
}
