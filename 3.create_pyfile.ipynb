{
 "cells": [
  {
   "cell_type": "markdown",
   "id": "vocal-energy",
   "metadata": {
    "slideshow": {
     "slide_type": "slide"
    }
   },
   "source": [
    "<img src=\"./images/python-logo.png\" \n",
    "     alt=\"alt_text\" align=\"left\" \n",
    "     width=\"400\" />\n",
    "     \n",
    "<img src=\"./images/jupyter-logo.svg\" \n",
    "     alt=\"alt_text\" align=\"center\" \n",
    "     width=\"100\" />\n",
    "\n",
    "\n",
    "#  Pretty Handy Features of Jupyter Notebook: (2) Create `.py` file\n",
    " \n",
    "\n",
    "## Shouke Wei, Ph.D. Professor\n",
    "\n",
    "## Email: shouke.wei@gmail.com\n",
    "\n",
    "### 2021-02-20"
   ]
  },
  {
   "cell_type": "markdown",
   "id": "inclusive-unemployment",
   "metadata": {
    "slideshow": {
     "slide_type": "slide"
    }
   },
   "source": [
    "## 2. Create .py file: \n",
    "\n",
    "### (1) From Text Editor\n",
    "### (2) Inisde Jupyter Notebook\n",
    "### (3) %%writefile command"
   ]
  },
  {
   "cell_type": "code",
   "execution_count": null,
   "id": "proprietary-panama",
   "metadata": {},
   "outputs": [],
   "source": []
  }
 ],
 "metadata": {
  "celltoolbar": "Slideshow",
  "kernelspec": {
   "display_name": "Python 3",
   "language": "python",
   "name": "python3"
  },
  "language_info": {
   "codemirror_mode": {
    "name": "ipython",
    "version": 3
   },
   "file_extension": ".py",
   "mimetype": "text/x-python",
   "name": "python",
   "nbconvert_exporter": "python",
   "pygments_lexer": "ipython3",
   "version": "3.8.5"
  }
 },
 "nbformat": 4,
 "nbformat_minor": 5
}
