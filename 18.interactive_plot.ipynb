{
 "cells": [
  {
   "cell_type": "markdown",
   "id": "reduced-department",
   "metadata": {
    "slideshow": {
     "slide_type": "slide"
    }
   },
   "source": [
    "<img src=\"./images/weiailogo2.png\"\n",
    "     style=\"float: right\"\n",
    "     width=100\n",
    "     style=\"padding-bottom:30px;\"/>\n",
    "<br>\n",
    "\n",
    "<img style=\"float: left;\" src= \"./images/python-logo.svg\" width=\"300\">    \n",
    "<img  style=\"float: center;\" src=\"./images/jupyter-logo.svg\" width=\"100\">\n",
    "\n",
    "\n",
    "# How to Create Interactive Widgets for Plots in Jupyter Notebook\n",
    "\n",
    "## Sigmund S. Wei, Ph.D. Professor"
   ]
  },
  {
   "cell_type": "code",
   "execution_count": null,
   "id": "sunrise-verse",
   "metadata": {},
   "outputs": [],
   "source": []
  },
  {
   "cell_type": "markdown",
   "id": "utility-warner",
   "metadata": {},
   "source": [
    "The easiest way to get started with interactive widgets is using IPython’s widgets(`ipywidgets`)."
   ]
  },
  {
   "cell_type": "code",
   "execution_count": 4,
   "id": "caroline-wisconsin",
   "metadata": {},
   "outputs": [],
   "source": [
    "import ipywidgets as widgets"
   ]
  },
  {
   "cell_type": "markdown",
   "id": "higher-pitch",
   "metadata": {},
   "source": [
    "## 1. Installing ipywidgets\n",
    "\n",
    "With pip, do:\n",
    "\n",
    "`pip install ipywidgets`\n",
    "\n",
    "or with conda, do:\n",
    "\n",
    "`conda install -c conda-forge ipywidgets`"
   ]
  },
  {
   "cell_type": "markdown",
   "id": "realistic-industry",
   "metadata": {},
   "source": [
    "For an old version of Jupyter Notebook installed, the ipywidgets notebook extension needs manually enable:\n",
    "\n",
    "`jupyter nbextension enable --py widgetsnbextension`\n"
   ]
  },
  {
   "cell_type": "markdown",
   "id": "subsequent-roads",
   "metadata": {},
   "source": [
    "## 2. Methods of Interactive Widgets for Plots\n",
    "\n",
    "Take the following standard sine wave function with three arguments for instance. \n",
    "\n",
    "$y(x) = Asin(2\\pi{fx}+\\varphi)$\n",
    "\n",
    "where:\n",
    "\n",
    "$A$, **amplitude**, the peak deviation of the function from zero.    \n",
    "$f$, ordinary **frequency**, the number of oscillations (cycles) that occur each second of time.   \n",
    "$\\varphi$ , phi, specifies (in radians) where in its cycle the **oscillation** is at t = 0."
   ]
  },
  {
   "cell_type": "markdown",
   "id": "smoking-presence",
   "metadata": {},
   "source": [
    "### 2.1 Interact function for Plots\n",
    "Interact() function allows you to automatically creates user interface (UI) controls for interactive data exploration and visualization. "
   ]
  },
  {
   "cell_type": "code",
   "execution_count": 5,
   "id": "confirmed-share",
   "metadata": {},
   "outputs": [],
   "source": [
    "import numpy as np\n",
    "import matplotlib.pyplot as plt\n",
    "\n",
    "from ipywidgets import interact"
   ]
  },
  {
   "cell_type": "code",
   "execution_count": 6,
   "id": "accomplished-gothic",
   "metadata": {},
   "outputs": [
    {
     "data": {
      "application/vnd.jupyter.widget-view+json": {
       "model_id": "a32300e273ac48b59aa5f7e0ec8a9139",
       "version_major": 2,
       "version_minor": 0
      },
      "text/plain": [
       "interactive(children=(FloatSlider(value=2.0, description='A', max=4.0), IntSlider(value=5, description='f', ma…"
      ]
     },
     "metadata": {},
     "output_type": "display_data"
    },
    {
     "data": {
      "text/plain": [
       "<function __main__.sinwave(A, f, phi)>"
      ]
     },
     "execution_count": 6,
     "metadata": {},
     "output_type": "execute_result"
    }
   ],
   "source": [
    "def sinwave(A, f, phi):\n",
    "    # set up plot\n",
    "    fig, ax = plt.subplots(figsize=(6, 4))\n",
    "    ax.set_ylim([-4, 4])\n",
    "    ax.grid(True)\n",
    "    \n",
    "    # generate x values\n",
    "    x = np.linspace(0, 2 * np.pi, 100)\n",
    "    y = A*np.sin(x*f + phi);\n",
    "    ax.plot(x,y)\n",
    "\n",
    "interact(sinwave,A=(0, 4, 0.1),f=(0, 10, 1), phi=(0, 2, 0.5))"
   ]
  },
  {
   "cell_type": "markdown",
   "id": "bibliographic-equality",
   "metadata": {},
   "source": [
    "### Fixed argument\n",
    "\n",
    "In order to fix one or more arguments, we have to import both `interact` and `fixed` method. "
   ]
  },
  {
   "cell_type": "code",
   "execution_count": 7,
   "id": "numerical-laser",
   "metadata": {},
   "outputs": [],
   "source": [
    "from ipywidgets import interact,fixed"
   ]
  },
  {
   "cell_type": "markdown",
   "id": "immediate-toyota",
   "metadata": {},
   "source": [
    "For example, call interact, you pass `fixed(6)` for phi to hold it fixed at a value of 6."
   ]
  },
  {
   "cell_type": "code",
   "execution_count": 8,
   "id": "affiliated-cooper",
   "metadata": {
    "scrolled": false
   },
   "outputs": [
    {
     "data": {
      "application/vnd.jupyter.widget-view+json": {
       "model_id": "d74afd62a04645e0a255fd535370c585",
       "version_major": 2,
       "version_minor": 0
      },
      "text/plain": [
       "interactive(children=(FloatSlider(value=2.0, description='A', max=4.0), IntSlider(value=5, description='f', ma…"
      ]
     },
     "metadata": {},
     "output_type": "display_data"
    },
    {
     "data": {
      "text/plain": [
       "<function __main__.sinwave(A, f, phi)>"
      ]
     },
     "execution_count": 8,
     "metadata": {},
     "output_type": "execute_result"
    }
   ],
   "source": [
    "interact(sinwave,A=(0, 4, .1),f=(0, 10, 1), phi=fixed(6)) "
   ]
  },
  {
   "cell_type": "markdown",
   "id": "adjacent-license",
   "metadata": {},
   "source": [
    "### Dropdowns\n",
    "\n",
    "Dropdown menus are created by passing a list of strings to the function. In this case, the strings are both used as the names in the dropdown menu UI and passed to the underlying Python function."
   ]
  },
  {
   "cell_type": "code",
   "execution_count": 9,
   "id": "awful-twins",
   "metadata": {},
   "outputs": [
    {
     "data": {
      "application/vnd.jupyter.widget-view+json": {
       "model_id": "1fd66a94b7204326b0232c9718484273",
       "version_major": 2,
       "version_minor": 0
      },
      "text/plain": [
       "interactive(children=(FloatSlider(value=2.0, description='A', max=4.0), IntSlider(value=5, description='f', ma…"
      ]
     },
     "metadata": {},
     "output_type": "display_data"
    },
    {
     "data": {
      "text/plain": [
       "<function __main__.sinwave(A, f, phi, color)>"
      ]
     },
     "execution_count": 9,
     "metadata": {},
     "output_type": "execute_result"
    }
   ],
   "source": [
    "def sinwave(A, f, phi,color):\n",
    "    # set up plot\n",
    "    fig, ax = plt.subplots(figsize=(6, 4))\n",
    "    ax.set_ylim([-4, 4])\n",
    "    ax.grid(True)\n",
    "    \n",
    "    # generate x values\n",
    "    x = np.linspace(0, 2 * np.pi, 100)\n",
    "    y = A*np.sin(x*f + phi);\n",
    "    ax.plot(x,y,color)\n",
    "\n",
    "colors = ['blue', 'red', 'orange']\n",
    "interact(sinwave,A=(0, 4, .1),f=(0, 10, 1), phi=fixed(6),color=colors)"
   ]
  },
  {
   "cell_type": "markdown",
   "id": "advisory-mitchell",
   "metadata": {},
   "source": [
    "### List of pairs\n",
    "\n",
    "You can also pass a list of ('label', value) pairs to a dropdown menu."
   ]
  },
  {
   "cell_type": "code",
   "execution_count": 10,
   "id": "numeric-british",
   "metadata": {},
   "outputs": [
    {
     "data": {
      "application/vnd.jupyter.widget-view+json": {
       "model_id": "28c458ea4ff94a73a9f78949bbd7cac7",
       "version_major": 2,
       "version_minor": 0
      },
      "text/plain": [
       "interactive(children=(Dropdown(description='A', options=(('one', 1), ('two', 2), ('three', 3)), value=1), Drop…"
      ]
     },
     "metadata": {},
     "output_type": "display_data"
    },
    {
     "data": {
      "text/plain": [
       "<function __main__.sinwave(A, f, phi, color)>"
      ]
     },
     "execution_count": 10,
     "metadata": {},
     "output_type": "execute_result"
    }
   ],
   "source": [
    "A = [('one', 1), ('two', 2), ('three', 3)]\n",
    "\n",
    "interact(sinwave,A=A,f=fixed(8),phi=fixed(6),color=colors)"
   ]
  },
  {
   "cell_type": "markdown",
   "id": "acceptable-decrease",
   "metadata": {},
   "source": [
    "### Dictionary value\n",
    "\n",
    "You can also pass a dictionary instead of the list of ('label', value) pairs to realize the same drop."
   ]
  },
  {
   "cell_type": "code",
   "execution_count": 11,
   "id": "representative-level",
   "metadata": {},
   "outputs": [
    {
     "data": {
      "application/vnd.jupyter.widget-view+json": {
       "model_id": "b7ef0cf2d3fe466f8707a026bdbf1754",
       "version_major": 2,
       "version_minor": 0
      },
      "text/plain": [
       "interactive(children=(Dropdown(description='A', options={'one': 1, 'two': 2, 'three': 3}, value=1), Dropdown(d…"
      ]
     },
     "metadata": {},
     "output_type": "display_data"
    },
    {
     "data": {
      "text/plain": [
       "<function __main__.sinwave(A, f, phi, color)>"
      ]
     },
     "execution_count": 11,
     "metadata": {},
     "output_type": "execute_result"
    }
   ],
   "source": [
    "A = {'one':1,'two':2, 'three':3}\n",
    "\n",
    "interact(sinwave,A=A,f=fixed(8),phi=fixed(6),color=colors)"
   ]
  },
  {
   "cell_type": "markdown",
   "id": "stable-pennsylvania",
   "metadata": {},
   "source": [
    "### 2.2 Interact as Decorator"
   ]
  },
  {
   "cell_type": "code",
   "execution_count": 12,
   "id": "burning-degree",
   "metadata": {
    "scrolled": true
   },
   "outputs": [
    {
     "data": {
      "application/vnd.jupyter.widget-view+json": {
       "model_id": "84afbb0dfe00476880f77542b1e1e63e",
       "version_major": 2,
       "version_minor": 0
      },
      "text/plain": [
       "interactive(children=(Dropdown(description='colors', options=('blue', 'red', 'orange'), value='blue'), FloatSl…"
      ]
     },
     "metadata": {},
     "output_type": "display_data"
    }
   ],
   "source": [
    "@interact(A=(0, 4, .1),f=fixed(10), phi=fixed(6),\n",
    "          colors = ['blue', 'red', 'orange'])\n",
    "\n",
    "def sinwave(colors, A, f, phi):\n",
    "    # set up plot\n",
    "    fig, ax = plt.subplots(figsize=(6, 4))\n",
    "    ax.set_ylim([-4, 4])\n",
    "    ax.grid(True)\n",
    "    \n",
    "    # generate x values\n",
    "    x = np.linspace(0, 2 * np.pi, 100)\n",
    "    y = A*np.sin(x*f + phi);\n",
    "    ax.plot(x,y)"
   ]
  },
  {
   "cell_type": "markdown",
   "id": "palestinian-hydrogen",
   "metadata": {},
   "source": [
    "### 2.3 Interactive Function\n",
    "\n",
    "Unlike `interact`, `interactive` returns a Widget instance rather than automatically displaying the widget. `interactive` is useful if you need reuse the widgets. "
   ]
  },
  {
   "cell_type": "code",
   "execution_count": 13,
   "id": "acoustic-happiness",
   "metadata": {},
   "outputs": [],
   "source": [
    "from ipywidgets import interactive\n",
    "from IPython.display import display\n",
    "\n",
    "def sinwave(A, f, phi):\n",
    "    # set up plot\n",
    "    fig, ax = plt.subplots(figsize=(6, 4))\n",
    "    ax.set_ylim([-4, 4])\n",
    "    ax.grid(True)\n",
    "    \n",
    "    # generate x values\n",
    "    x = np.linspace(0, 2 * np.pi, 100)\n",
    "    y = A*np.sin(x*f + phi);\n",
    "    ax.plot(x,y)"
   ]
  },
  {
   "cell_type": "code",
   "execution_count": 14,
   "id": "hispanic-effects",
   "metadata": {},
   "outputs": [],
   "source": [
    "sinplot = interactive(sinwave, A=(0, 4, .1),f=(0, 10, 1), phi=fixed(6))"
   ]
  },
  {
   "cell_type": "markdown",
   "id": "convertible-bearing",
   "metadata": {},
   "source": [
    "To actually display the widgets, you can use IPython’s `display` function."
   ]
  },
  {
   "cell_type": "code",
   "execution_count": 15,
   "id": "protecting-basic",
   "metadata": {},
   "outputs": [
    {
     "data": {
      "application/vnd.jupyter.widget-view+json": {
       "model_id": "692a2abf59b14875a9a86bb2e52d954c",
       "version_major": 2,
       "version_minor": 0
      },
      "text/plain": [
       "interactive(children=(FloatSlider(value=2.0, description='A', max=4.0), IntSlider(value=5, description='f', ma…"
      ]
     },
     "metadata": {},
     "output_type": "display_data"
    }
   ],
   "source": [
    "display(sinplot)"
   ]
  },
  {
   "cell_type": "markdown",
   "id": "advisory-chrome",
   "metadata": {},
   "source": [
    "### 2.4 interact_manual\n",
    "\n",
    "A button is added to the interact controls that allows you to trigger an execute event when you need."
   ]
  },
  {
   "cell_type": "code",
   "execution_count": 16,
   "id": "stuck-aluminum",
   "metadata": {},
   "outputs": [
    {
     "data": {
      "application/vnd.jupyter.widget-view+json": {
       "model_id": "4ea0b8d41b984347bf5a406bb60bdb36",
       "version_major": 2,
       "version_minor": 0
      },
      "text/plain": [
       "interactive(children=(FloatSlider(value=2.0, description='A', max=4.0), IntSlider(value=5, description='f', ma…"
      ]
     },
     "metadata": {},
     "output_type": "display_data"
    }
   ],
   "source": [
    "#import ipywidgets as widgets\n",
    "from ipywidgets import fixed, interact_manual\n",
    "\n",
    "def sinwave(A, f, phi):\n",
    "    # set up plot\n",
    "    fig, ax = plt.subplots(figsize=(6, 4))\n",
    "    ax.set_ylim([-4, 4])\n",
    "    ax.grid(True)\n",
    "    \n",
    "    # generate x values\n",
    "    x = np.linspace(0, 2 * np.pi, 100)\n",
    "    y = A*np.sin(x*f + phi);\n",
    "    ax.plot(x,y)\n",
    "    \n",
    "interact_manual(sinwave, A=(0, 4, .1),f=(0, 10, 1), phi=fixed(6));"
   ]
  },
  {
   "cell_type": "markdown",
   "id": "descending-morocco",
   "metadata": {},
   "source": [
    "This is useful with long-lasting computations that should not run every time a widget value changes. "
   ]
  },
  {
   "cell_type": "markdown",
   "id": "classified-meaning",
   "metadata": {},
   "source": [
    "### 2.5 interact_manual decorator "
   ]
  },
  {
   "cell_type": "code",
   "execution_count": 18,
   "id": "placed-apollo",
   "metadata": {
    "scrolled": true
   },
   "outputs": [
    {
     "data": {
      "application/vnd.jupyter.widget-view+json": {
       "model_id": "f7e3cefc42ab4219b2096ecbe02022fe",
       "version_major": 2,
       "version_minor": 0
      },
      "text/plain": [
       "interactive(children=(Dropdown(description='colors', options=('blue', 'red', 'orange'), value='blue'), FloatSl…"
      ]
     },
     "metadata": {},
     "output_type": "display_data"
    }
   ],
   "source": [
    "@interact_manual(A=(0, 4, .1),f=fixed(10), phi=fixed(6),\n",
    "          colors = ['blue', 'red', 'orange'])\n",
    "\n",
    "def sinwave(colors, A, f, phi):\n",
    "    # set up plot\n",
    "    fig, ax = plt.subplots(figsize=(6, 4))\n",
    "    ax.set_ylim([-4, 4])\n",
    "    ax.grid(True)\n",
    "    \n",
    "    # generate x values\n",
    "    x = np.linspace(0, 2 * np.pi, 100)\n",
    "    y = A*np.sin(x*f + phi);\n",
    "    ax.plot(x,y,colors)"
   ]
  },
  {
   "cell_type": "code",
   "execution_count": null,
   "id": "robust-attempt",
   "metadata": {},
   "outputs": [],
   "source": []
  }
 ],
 "metadata": {
  "kernelspec": {
   "display_name": "Python 3",
   "language": "python",
   "name": "python3"
  },
  "language_info": {
   "codemirror_mode": {
    "name": "ipython",
    "version": 3
   },
   "file_extension": ".py",
   "mimetype": "text/x-python",
   "name": "python",
   "nbconvert_exporter": "python",
   "pygments_lexer": "ipython3",
   "version": "3.8.8"
  }
 },
 "nbformat": 4,
 "nbformat_minor": 5
}
