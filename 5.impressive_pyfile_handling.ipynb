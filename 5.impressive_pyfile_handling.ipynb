{
 "cells": [
  {
   "cell_type": "markdown",
   "id": "vocal-energy",
   "metadata": {
    "slideshow": {
     "slide_type": "slide"
    }
   },
   "source": [
    "<img src=\"./images/weiailogo2.png\"\n",
    "     style=\"float: right\"\n",
    "     width=150\n",
    "     style=\"padding-bottom:30px;\"/>\n",
    "<br>\n",
    "\n",
    "<img style=\"float: left;\" src= \"./images/python-logo.svg\" width=\"400\">    \n",
    "<img  style=\"float: center;\" src=\"./images/jupyter-logo.svg\" width=\"130\">\n",
    "\n",
    "\n",
    "#  Impressive Methods to Handle . py Files in Jupyter Notebook Cell: Create, Read, Append, Update,  and Run\n",
    "\n",
    "## Sigmund S. Wei, Ph.D. Professor\n",
    "\n",
    "### 2021-02-28"
   ]
  },
  {
   "cell_type": "markdown",
   "id": "fitting-affect",
   "metadata": {
    "slideshow": {
     "slide_type": "slide"
    }
   },
   "source": [
    "## Contents\n",
    "1. Create a `.py` File \n",
    "2. Read a `.py` File \n",
    "3. Append to a `.py` File  \n",
    "4. Update a `.py` File \n",
    "5. Run a `.py` File"
   ]
  },
  {
   "cell_type": "markdown",
   "id": "inclusive-unemployment",
   "metadata": {
    "slideshow": {
     "slide_type": "slide"
    }
   },
   "source": [
    "## 1. Create `.py` File\n",
    "- using `%%writefile` magic command"
   ]
  },
  {
   "cell_type": "code",
   "execution_count": 20,
   "id": "comfortable-venture",
   "metadata": {
    "slideshow": {
     "slide_type": "slide"
    }
   },
   "outputs": [
    {
     "name": "stdout",
     "output_type": "stream",
     "text": [
      "Writing hello.py\n"
     ]
    }
   ],
   "source": [
    "%%writefile hello.py\n",
    "def hello(name):\n",
    "    print(f\"Hello, {name}!\")"
   ]
  },
  {
   "cell_type": "markdown",
   "id": "fabulous-lingerie",
   "metadata": {
    "slideshow": {
     "slide_type": "slide"
    }
   },
   "source": [
    "## 2. Read `.py` File \n",
    "- using `!cat` to show the code"
   ]
  },
  {
   "cell_type": "code",
   "execution_count": 21,
   "id": "printable-welsh",
   "metadata": {
    "slideshow": {
     "slide_type": "slide"
    }
   },
   "outputs": [
    {
     "name": "stdout",
     "output_type": "stream",
     "text": [
      "def hello(name):\r\n",
      "    print(f\"Hello, {name}!\")\r\n"
     ]
    }
   ],
   "source": [
    "!cat hello.py\n"
   ]
  },
  {
   "cell_type": "markdown",
   "id": "hispanic-suffering",
   "metadata": {
    "slideshow": {
     "slide_type": "slide"
    }
   },
   "source": [
    "## 3. Append `.py` File \n",
    "- using magic command `%%writefile -a`"
   ]
  },
  {
   "cell_type": "code",
   "execution_count": 22,
   "id": "appreciated-postage",
   "metadata": {
    "slideshow": {
     "slide_type": "slide"
    }
   },
   "outputs": [
    {
     "name": "stdout",
     "output_type": "stream",
     "text": [
      "Appending to hello.py\n"
     ]
    }
   ],
   "source": [
    "%%writefile -a hello.py\n",
    "hello(\"Sigmund\")"
   ]
  },
  {
   "cell_type": "code",
   "execution_count": 23,
   "id": "bored-hobby",
   "metadata": {
    "slideshow": {
     "slide_type": "slide"
    }
   },
   "outputs": [
    {
     "name": "stdout",
     "output_type": "stream",
     "text": [
      "def hello(name):\r\n",
      "    print(f\"Hello, {name}!\")\r\n",
      "hello(\"Sigmund\")\r\n"
     ]
    }
   ],
   "source": [
    "!cat hello.py"
   ]
  },
  {
   "cell_type": "markdown",
   "id": "sitting-equivalent",
   "metadata": {
    "slideshow": {
     "slide_type": "slide"
    }
   },
   "source": [
    "## 4. Update `.py` File\n",
    "-  `%%writefile` to overwtite the old "
   ]
  },
  {
   "cell_type": "code",
   "execution_count": 29,
   "id": "monetary-subscription",
   "metadata": {
    "slideshow": {
     "slide_type": "slide"
    }
   },
   "outputs": [
    {
     "name": "stdout",
     "output_type": "stream",
     "text": [
      "Overwriting hello.py\n"
     ]
    }
   ],
   "source": [
    "%%writefile hello.py\n",
    "def hello(fname,lname):\n",
    "    print(f\"Hello, {fname} {lname}!\")\n",
    "\n",
    "hello(\"Sigmund\",\"Wei\")"
   ]
  },
  {
   "cell_type": "markdown",
   "id": "buried-travel",
   "metadata": {
    "slideshow": {
     "slide_type": "slide"
    }
   },
   "source": [
    "## 5. Run `.py` File\n",
    "- use magic command %run\n",
    "- even run withour %"
   ]
  },
  {
   "cell_type": "code",
   "execution_count": 30,
   "id": "pediatric-cooking",
   "metadata": {
    "slideshow": {
     "slide_type": "slide"
    }
   },
   "outputs": [
    {
     "name": "stdout",
     "output_type": "stream",
     "text": [
      "Hello, Sigmund Wei!\n"
     ]
    }
   ],
   "source": [
    "%run hello.py"
   ]
  },
  {
   "cell_type": "code",
   "execution_count": 31,
   "id": "classified-abortion",
   "metadata": {
    "slideshow": {
     "slide_type": "slide"
    }
   },
   "outputs": [
    {
     "name": "stdout",
     "output_type": "stream",
     "text": [
      "Hello, Sigmund Wei!\n"
     ]
    }
   ],
   "source": [
    "run hello.py"
   ]
  }
 ],
 "metadata": {
  "celltoolbar": "Slideshow",
  "kernelspec": {
   "display_name": "Python 3",
   "language": "python",
   "name": "python3"
  },
  "language_info": {
   "codemirror_mode": {
    "name": "ipython",
    "version": 3
   },
   "file_extension": ".py",
   "mimetype": "text/x-python",
   "name": "python",
   "nbconvert_exporter": "python",
   "pygments_lexer": "ipython3",
   "version": "3.8.5"
  }
 },
 "nbformat": 4,
 "nbformat_minor": 5
}
