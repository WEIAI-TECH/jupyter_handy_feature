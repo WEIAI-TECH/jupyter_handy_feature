{
 "cells": [
  {
   "cell_type": "markdown",
   "id": "vocal-energy",
   "metadata": {
    "slideshow": {
     "slide_type": "slide"
    }
   },
   "source": [
    "<img src=\"./images/weiailogo2.png\"\n",
    "     style=\"float: right\"\n",
    "     width=150\n",
    "     style=\"padding-bottom:30px;\"/>\n",
    "<br>\n",
    "\n",
    "<img style=\"float: left;\" src= \"./images/python-logo.svg\" width=\"400\">    \n",
    "<img  style=\"float: center;\" src=\"./images/jupyter-logo.svg\" width=\"130\">\n",
    "\n",
    "\n",
    "#  Operations of Working Directory in Jupyter Notebook\n",
    "\n",
    "## Sigmund S. Wei, Ph.D. Professor\n",
    "\n",
    "### 2021-03-01"
   ]
  },
  {
   "cell_type": "markdown",
   "id": "standing-prescription",
   "metadata": {
    "slideshow": {
     "slide_type": "slide"
    }
   },
   "source": [
    "## Contents\n",
    "- Check the Working Directory\n",
    "- Diplay the Contents in the Working Direcotry\n",
    "- Change the Working Directory"
   ]
  },
  {
   "cell_type": "markdown",
   "id": "inclusive-unemployment",
   "metadata": {
    "slideshow": {
     "slide_type": "slide"
    }
   },
   "source": [
    "## 1. Check your current directory"
   ]
  },
  {
   "cell_type": "code",
   "execution_count": 1,
   "id": "adjustable-maple",
   "metadata": {
    "slideshow": {
     "slide_type": "slide"
    }
   },
   "outputs": [
    {
     "name": "stdout",
     "output_type": "stream",
     "text": [
      "/home/sigmund/Documents/myCourse/jupyter_handy_feature\r\n"
     ]
    }
   ],
   "source": [
    "!pwd"
   ]
  },
  {
   "cell_type": "code",
   "execution_count": 2,
   "id": "athletic-pitch",
   "metadata": {
    "slideshow": {
     "slide_type": "slide"
    }
   },
   "outputs": [
    {
     "data": {
      "text/plain": [
       "'/home/sigmund/Documents/myCourse/jupyter_handy_feature'"
      ]
     },
     "execution_count": 2,
     "metadata": {},
     "output_type": "execute_result"
    }
   ],
   "source": [
    "%pwd"
   ]
  },
  {
   "cell_type": "code",
   "execution_count": 3,
   "id": "vietnamese-tracker",
   "metadata": {
    "slideshow": {
     "slide_type": "slide"
    }
   },
   "outputs": [
    {
     "data": {
      "text/plain": [
       "'/home/sigmund/Documents/myCourse/jupyter_handy_feature'"
      ]
     },
     "execution_count": 3,
     "metadata": {},
     "output_type": "execute_result"
    }
   ],
   "source": [
    "pwd"
   ]
  },
  {
   "cell_type": "markdown",
   "id": "developmental-documentation",
   "metadata": {
    "slideshow": {
     "slide_type": "slide"
    }
   },
   "source": [
    "## 2. Display the contents in current working directory"
   ]
  },
  {
   "cell_type": "markdown",
   "id": "recent-convergence",
   "metadata": {
    "slideshow": {
     "slide_type": "slide"
    }
   },
   "source": [
    "### Show all "
   ]
  },
  {
   "cell_type": "code",
   "execution_count": 4,
   "id": "effective-journal",
   "metadata": {
    "slideshow": {
     "slide_type": "slide"
    }
   },
   "outputs": [
    {
     "name": "stdout",
     "output_type": "stream",
     "text": [
      " 10.install_packages_check_info.ipynb\r\n",
      " 11.run_codes_other_languages.ipynb\r\n",
      "'12.text aligment.ipynb'\r\n",
      " 13.table_aligment-Copy1.ipynb\r\n",
      " 14.math_equation_aligment.ipynb\r\n",
      " 15.image_size_aligment.ipynb\r\n",
      " 16.Interactive_plot.ipynb\r\n",
      " 17.plot_interactive_widget.ipynb\r\n",
      " 18.notebook_awesome_slideshow.ipynb\r\n",
      "'19.notebook_web applications_dashboards.ipynb'\r\n",
      " 1.change_theme.ipynb\r\n",
      " 1.change_theme.md\r\n",
      "'2.jupyter _terminal_unvaliables.ipynb'\r\n",
      " 3.create_pyfile.ipynb\r\n",
      " 4.run_external_python_codes.ipynb\r\n",
      " 5.impressive_pyfile_handling.ipynb\r\n",
      " 6.smart_code_auto-completion.ipynb\r\n",
      " 7.frequent_shortcuts_cell_operation.ipynb\r\n",
      " 8.operation_work_directory.ipynb\r\n",
      " 9.application_multiline_cursor.ipynb\r\n",
      "'DOCX 文档.docx'\r\n",
      " greeting.py\r\n",
      " hello.py\r\n",
      " hi.py\r\n",
      " images\r\n",
      " jupyter_handy_features.ipynb\r\n",
      " plot.py\r\n",
      " __pycache__\r\n",
      " python\r\n",
      " Untitled.ipynb\r\n"
     ]
    }
   ],
   "source": [
    "!ls"
   ]
  },
  {
   "cell_type": "code",
   "execution_count": 5,
   "id": "brilliant-honolulu",
   "metadata": {
    "slideshow": {
     "slide_type": "slide"
    }
   },
   "outputs": [
    {
     "name": "stdout",
     "output_type": "stream",
     "text": [
      " \u001b[0m\u001b[38;5;167m10.install_packages_check_info.ipynb\u001b[0m\r\n",
      " \u001b[38;5;167m11.run_codes_other_languages.ipynb\u001b[0m\r\n",
      "\u001b[38;5;167m'12.text aligment.ipynb'\u001b[0m\r\n",
      " \u001b[38;5;167m13.table_aligment-Copy1.ipynb\u001b[0m\r\n",
      " \u001b[38;5;167m14.math_equation_aligment.ipynb\u001b[0m\r\n",
      " \u001b[38;5;167m15.image_size_aligment.ipynb\u001b[0m\r\n",
      " \u001b[38;5;167m16.Interactive_plot.ipynb\u001b[0m\r\n",
      " \u001b[38;5;167m17.plot_interactive_widget.ipynb\u001b[0m\r\n",
      " \u001b[38;5;167m18.notebook_awesome_slideshow.ipynb\u001b[0m\r\n",
      "\u001b[38;5;167m'19.notebook_web applications_dashboards.ipynb'\u001b[0m\r\n",
      " \u001b[38;5;167m1.change_theme.ipynb\u001b[0m\r\n",
      " \u001b[38;5;184m1.change_theme.md\u001b[0m\r\n",
      "\u001b[38;5;167m'2.jupyter _terminal_unvaliables.ipynb'\u001b[0m\r\n",
      " \u001b[38;5;167m3.create_pyfile.ipynb\u001b[0m\r\n",
      " \u001b[38;5;167m4.run_external_python_codes.ipynb\u001b[0m\r\n",
      " \u001b[38;5;167m5.impressive_pyfile_handling.ipynb\u001b[0m\r\n",
      " \u001b[38;5;167m6.smart_code_auto-completion.ipynb\u001b[0m\r\n",
      " \u001b[38;5;167m7.frequent_shortcuts_cell_operation.ipynb\u001b[0m\r\n",
      " \u001b[38;5;167m8.operation_work_directory.ipynb\u001b[0m\r\n",
      " \u001b[38;5;167m9.application_multiline_cursor.ipynb\u001b[0m\r\n",
      "\u001b[38;5;190m'DOCX 文档.docx'\u001b[0m\r\n",
      " \u001b[38;5;41mgreeting.py\u001b[0m\r\n",
      " \u001b[38;5;41mhello.py\u001b[0m\r\n",
      " \u001b[38;5;41mhi.py\u001b[0m\r\n",
      " \u001b[38;5;105mimages\u001b[0m/\r\n",
      " \u001b[38;5;167mjupyter_handy_features.ipynb\u001b[0m\r\n",
      " \u001b[38;5;80mplot.py\u001b[0m*\r\n",
      " \u001b[38;5;105m__pycache__\u001b[0m/\r\n",
      " \u001b[38;5;167mpython\u001b[0m\r\n",
      " \u001b[38;5;167mUntitled.ipynb\u001b[0m\r\n"
     ]
    }
   ],
   "source": [
    "%ls\n"
   ]
  },
  {
   "cell_type": "code",
   "execution_count": 6,
   "id": "charming-sending",
   "metadata": {
    "slideshow": {
     "slide_type": "slide"
    }
   },
   "outputs": [
    {
     "name": "stdout",
     "output_type": "stream",
     "text": [
      " \u001b[0m\u001b[38;5;167m10.install_packages_check_info.ipynb\u001b[0m\r\n",
      " \u001b[38;5;167m11.run_codes_other_languages.ipynb\u001b[0m\r\n",
      "\u001b[38;5;167m'12.text aligment.ipynb'\u001b[0m\r\n",
      " \u001b[38;5;167m13.table_aligment-Copy1.ipynb\u001b[0m\r\n",
      " \u001b[38;5;167m14.math_equation_aligment.ipynb\u001b[0m\r\n",
      " \u001b[38;5;167m15.image_size_aligment.ipynb\u001b[0m\r\n",
      " \u001b[38;5;167m16.Interactive_plot.ipynb\u001b[0m\r\n",
      " \u001b[38;5;167m17.plot_interactive_widget.ipynb\u001b[0m\r\n",
      " \u001b[38;5;167m18.notebook_awesome_slideshow.ipynb\u001b[0m\r\n",
      "\u001b[38;5;167m'19.notebook_web applications_dashboards.ipynb'\u001b[0m\r\n",
      " \u001b[38;5;167m1.change_theme.ipynb\u001b[0m\r\n",
      " \u001b[38;5;184m1.change_theme.md\u001b[0m\r\n",
      "\u001b[38;5;167m'2.jupyter _terminal_unvaliables.ipynb'\u001b[0m\r\n",
      " \u001b[38;5;167m3.create_pyfile.ipynb\u001b[0m\r\n",
      " \u001b[38;5;167m4.run_external_python_codes.ipynb\u001b[0m\r\n",
      " \u001b[38;5;167m5.impressive_pyfile_handling.ipynb\u001b[0m\r\n",
      " \u001b[38;5;167m6.smart_code_auto-completion.ipynb\u001b[0m\r\n",
      " \u001b[38;5;167m7.frequent_shortcuts_cell_operation.ipynb\u001b[0m\r\n",
      " \u001b[38;5;167m8.operation_work_directory.ipynb\u001b[0m\r\n",
      " \u001b[38;5;167m9.application_multiline_cursor.ipynb\u001b[0m\r\n",
      "\u001b[38;5;190m'DOCX 文档.docx'\u001b[0m\r\n",
      " \u001b[38;5;41mgreeting.py\u001b[0m\r\n",
      " \u001b[38;5;41mhello.py\u001b[0m\r\n",
      " \u001b[38;5;41mhi.py\u001b[0m\r\n",
      " \u001b[38;5;105mimages\u001b[0m/\r\n",
      " \u001b[38;5;167mjupyter_handy_features.ipynb\u001b[0m\r\n",
      " \u001b[38;5;80mplot.py\u001b[0m*\r\n",
      " \u001b[38;5;105m__pycache__\u001b[0m/\r\n",
      " \u001b[38;5;167mpython\u001b[0m\r\n",
      " \u001b[38;5;167mUntitled.ipynb\u001b[0m\r\n"
     ]
    }
   ],
   "source": [
    "ls\n"
   ]
  },
  {
   "cell_type": "markdown",
   "id": "awful-darwin",
   "metadata": {
    "slideshow": {
     "slide_type": "slide"
    }
   },
   "source": [
    "### Show certain extension files"
   ]
  },
  {
   "cell_type": "code",
   "execution_count": 7,
   "id": "compact-douglas",
   "metadata": {
    "slideshow": {
     "slide_type": "slide"
    }
   },
   "outputs": [
    {
     "name": "stdout",
     "output_type": "stream",
     "text": [
      "greeting.py  hello.py  hi.py  plot.py\r\n"
     ]
    }
   ],
   "source": [
    "!ls *.py"
   ]
  },
  {
   "cell_type": "code",
   "execution_count": 8,
   "id": "empirical-building",
   "metadata": {
    "slideshow": {
     "slide_type": "slide"
    }
   },
   "outputs": [
    {
     "name": "stdout",
     "output_type": "stream",
     "text": [
      "\u001b[0m\u001b[38;5;41mgreeting.py\u001b[0m  \u001b[38;5;41mhello.py\u001b[0m  \u001b[38;5;41mhi.py\u001b[0m  \u001b[38;5;80mplot.py\u001b[0m*\r\n"
     ]
    }
   ],
   "source": [
    "%ls *.py"
   ]
  },
  {
   "cell_type": "code",
   "execution_count": 9,
   "id": "informed-brunei",
   "metadata": {
    "slideshow": {
     "slide_type": "slide"
    }
   },
   "outputs": [
    {
     "name": "stdout",
     "output_type": "stream",
     "text": [
      "\u001b[0m\u001b[38;5;41mgreeting.py\u001b[0m  \u001b[38;5;41mhello.py\u001b[0m  \u001b[38;5;41mhi.py\u001b[0m  \u001b[38;5;80mplot.py\u001b[0m*\r\n"
     ]
    }
   ],
   "source": [
    "ls *.py"
   ]
  },
  {
   "cell_type": "markdown",
   "id": "handy-attempt",
   "metadata": {
    "slideshow": {
     "slide_type": "slide"
    }
   },
   "source": [
    "## 3. Change Woking directory"
   ]
  },
  {
   "cell_type": "code",
   "execution_count": 12,
   "id": "quiet-southwest",
   "metadata": {
    "slideshow": {
     "slide_type": "slide"
    }
   },
   "outputs": [],
   "source": [
    "!cd /home/sigmund/Documents"
   ]
  },
  {
   "cell_type": "code",
   "execution_count": 13,
   "id": "complete-london",
   "metadata": {
    "slideshow": {
     "slide_type": "slide"
    }
   },
   "outputs": [
    {
     "name": "stdout",
     "output_type": "stream",
     "text": [
      "/home/sigmund/Documents/myCourse/jupyter_handy_feature\r\n"
     ]
    }
   ],
   "source": [
    "!pwd"
   ]
  },
  {
   "cell_type": "code",
   "execution_count": 14,
   "id": "egyptian-toner",
   "metadata": {
    "slideshow": {
     "slide_type": "slide"
    }
   },
   "outputs": [
    {
     "name": "stdout",
     "output_type": "stream",
     "text": [
      "/home/sigmund/Documents\n"
     ]
    }
   ],
   "source": [
    "%cd /home/sigmund/Documents"
   ]
  },
  {
   "cell_type": "code",
   "execution_count": 15,
   "id": "celtic-operator",
   "metadata": {
    "slideshow": {
     "slide_type": "slide"
    }
   },
   "outputs": [
    {
     "data": {
      "text/plain": [
       "'/home/sigmund/Documents'"
      ]
     },
     "execution_count": 15,
     "metadata": {},
     "output_type": "execute_result"
    }
   ],
   "source": [
    "%pwd"
   ]
  },
  {
   "cell_type": "code",
   "execution_count": 16,
   "id": "planned-arrest",
   "metadata": {
    "slideshow": {
     "slide_type": "slide"
    }
   },
   "outputs": [
    {
     "name": "stdout",
     "output_type": "stream",
     "text": [
      "/home/sigmund/Documents\n"
     ]
    }
   ],
   "source": [
    "cd /home/sigmund/Documents"
   ]
  }
 ],
 "metadata": {
  "celltoolbar": "Slideshow",
  "kernelspec": {
   "display_name": "Python 3",
   "language": "python",
   "name": "python3"
  },
  "language_info": {
   "codemirror_mode": {
    "name": "ipython",
    "version": 3
   },
   "file_extension": ".py",
   "mimetype": "text/x-python",
   "name": "python",
   "nbconvert_exporter": "python",
   "pygments_lexer": "ipython3",
   "version": "3.8.5"
  }
 },
 "nbformat": 4,
 "nbformat_minor": 5
}
