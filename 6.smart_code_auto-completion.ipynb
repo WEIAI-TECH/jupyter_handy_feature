{
 "cells": [
  {
   "cell_type": "markdown",
   "id": "vocal-energy",
   "metadata": {
    "slideshow": {
     "slide_type": "slide"
    }
   },
   "source": [
    "<img src=\"./images/weiailogo2.png\"\n",
    "     style=\"float: right\"\n",
    "     width=150\n",
    "     style=\"padding-bottom:30px;\"/>\n",
    "<br>\n",
    "\n",
    "<img style=\"float: left;\" src= \"./images/python-logo.svg\" width=\"400\">    \n",
    "<img  style=\"float: center;\" src=\"./images/jupyter-logo.svg\" width=\"130\">\n",
    "\n",
    "\n",
    "#  Smart Code Auto-Completion of Jupyter Notebook\n",
    "\n",
    "## Shouke Wei, Ph.D. Professor\n",
    "\n",
    "### 2021-02-28"
   ]
  },
  {
   "cell_type": "markdown",
   "id": "inclusive-unemployment",
   "metadata": {
    "slideshow": {
     "slide_type": "slide"
    }
   },
   "source": [
    "## 1. Code Completion\n",
    "- Code completion, especially for attributes, is a very convenient way to help you write codes quickly and efficiently \n",
    "- Simply type object_name.\\<TAB> to view the object’s attributes"
   ]
  },
  {
   "cell_type": "code",
   "execution_count": null,
   "id": "printable-welsh",
   "metadata": {
    "slideshow": {
     "slide_type": "slide"
    }
   },
   "outputs": [],
   "source": [
    "# Example: numpy"
   ]
  },
  {
   "cell_type": "markdown",
   "id": "buried-travel",
   "metadata": {
    "slideshow": {
     "slide_type": "slide"
    }
   },
   "source": [
    "## 2. A Smart Code Auto-Completion Plugin\n",
    "- [`TabNine`](https://github.com/codota/jupyter-tabnine) created by wenmin-wu \n",
    "- It is smart auto-completion based on Deep Learning\n",
    "- This plugin supports MacOS, Linux and Windows\n",
    "- It supports Chrome, firefox and Safari browsers, but not IE"
   ]
  },
  {
   "cell_type": "markdown",
   "id": "certain-glasgow",
   "metadata": {
    "slideshow": {
     "slide_type": "slide"
    }
   },
   "source": [
    "### (1) Installation\n",
    "\n",
    "Step 1: install the package    \n",
    "   - `pip3 install jupyter-tabnine --user`\n",
    "\n",
    "Step 2: install the notebook extension\n",
    "   - `jupyter nbextension install --py jupyter_tabnine --user`\n",
    "\n",
    "Step 3: enable notebook extension and server extension\n",
    "   - `jupyter nbextension enable --py jupyter_tabnine --user`\n",
    "   - `jupyter serverextension enable --py jupyter_tabnine --user`\n"
   ]
  },
  {
   "cell_type": "markdown",
   "id": "filled-example",
   "metadata": {
    "slideshow": {
     "slide_type": "slide"
    }
   },
   "source": [
    "### (3) Temporally stop plugin\n",
    "\n",
    "--> `help` menu     \n",
    "--> untick the `check mark` of `Jupyter TabNine`"
   ]
  },
  {
   "cell_type": "markdown",
   "id": "three-college",
   "metadata": {
    "slideshow": {
     "slide_type": "slide"
    }
   },
   "source": [
    "### (4) Unistall the plugin\n",
    "```\n",
    "jupyter nbextension uninstall --py jupyter_tabnine\n",
    "pip3 uninstall jupyter-tabnine\n",
    "```"
   ]
  }
 ],
 "metadata": {
  "celltoolbar": "Slideshow",
  "kernelspec": {
   "display_name": "Python 3",
   "language": "python",
   "name": "python3"
  },
  "language_info": {
   "codemirror_mode": {
    "name": "ipython",
    "version": 3
   },
   "file_extension": ".py",
   "mimetype": "text/x-python",
   "name": "python",
   "nbconvert_exporter": "python",
   "pygments_lexer": "ipython3",
   "version": "3.8.5"
  }
 },
 "nbformat": 4,
 "nbformat_minor": 5
}
