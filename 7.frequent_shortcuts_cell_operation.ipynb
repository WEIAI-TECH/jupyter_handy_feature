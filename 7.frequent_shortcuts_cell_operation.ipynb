{
 "cells": [
  {
   "cell_type": "markdown",
   "id": "vocal-energy",
   "metadata": {
    "slideshow": {
     "slide_type": "slide"
    }
   },
   "source": [
    "<img src=\"./images/weiailogo2.png\"\n",
    "     style=\"float: right\"\n",
    "     width=150\n",
    "     style=\"padding-bottom:30px;\"/>\n",
    "<br>\n",
    "\n",
    "<img style=\"float: left;\" src= \"./images/python-logo.svg\" width=\"400\">    \n",
    "<img  style=\"float: center;\" src=\"./images/jupyter-logo.svg\" width=\"130\">\n",
    "\n",
    "\n",
    "#  Frequently Used Shutcuts for Cell Operation in Jupyter Notebook\n",
    "\n",
    "## Sigmund S. Wei, Ph.D. Professor\n",
    "\n",
    "### 2021-02-29"
   ]
  },
  {
   "cell_type": "markdown",
   "id": "inclusive-unemployment",
   "metadata": {
    "slideshow": {
     "slide_type": "slide"
    }
   },
   "source": [
    "### `Enter` and `Esc`\n",
    "- use “Enter” and “Esc” to switch between command and edit mode"
   ]
  },
  {
   "cell_type": "markdown",
   "id": "behavioral-patient",
   "metadata": {
    "slideshow": {
     "slide_type": "slide"
    }
   },
   "source": [
    "### `Shift-Enter`\n",
    "- runs a cell of code\n",
    "- puts the cursor in the next cell below\n",
    "- makes a new one if you are at the end"
   ]
  },
  {
   "cell_type": "markdown",
   "id": "forbidden-christmas",
   "metadata": {
    "slideshow": {
     "slide_type": "slide"
    }
   },
   "source": [
    "### `Alt-Enter`\n",
    "- forces the creation of a new cell \n",
    "- useful when inserting new content in the middle of an existing notebook"
   ]
  },
  {
   "cell_type": "markdown",
   "id": "imposed-designation",
   "metadata": {
    "slideshow": {
     "slide_type": "slide"
    }
   },
   "source": [
    "### `Control-Enter` \n",
    "- executes the cell and \n",
    "- keeps the cursor in the same cell\n",
    "- useful for quick experimentation of snippets that you don't need to keep permanently."
   ]
  },
  {
   "cell_type": "markdown",
   "id": "creative-quality",
   "metadata": {
    "slideshow": {
     "slide_type": "slide"
    }
   },
   "source": [
    "Once you are in command mode you can use the following shortcuts:\n",
    "- **`a`**: add a new cell **a**bove the current one,\n",
    "- **`b`**: add a new cell **b**elow the current one,\n",
    "- **`d + d`** (d pressed twice): **d**elet current cell,\n",
    "- **`m`**: change cell from code to **m**arkdown,\n",
    "- **`y`**: change cell from markdown to code,\n",
    "- **up and down arrows**: use arrows to change the current cell,"
   ]
  },
  {
   "cell_type": "markdown",
   "id": "advised-gothic",
   "metadata": {
    "slideshow": {
     "slide_type": "slide"
    }
   },
   "source": [
    "### `h`\n",
    "- **h**elp for more Keyboard Shutcuts"
   ]
  },
  {
   "cell_type": "code",
   "execution_count": null,
   "id": "worthy-october",
   "metadata": {},
   "outputs": [],
   "source": [
    "print()"
   ]
  }
 ],
 "metadata": {
  "celltoolbar": "Slideshow",
  "kernelspec": {
   "display_name": "Python 3",
   "language": "python",
   "name": "python3"
  },
  "language_info": {
   "codemirror_mode": {
    "name": "ipython",
    "version": 3
   },
   "file_extension": ".py",
   "mimetype": "text/x-python",
   "name": "python",
   "nbconvert_exporter": "python",
   "pygments_lexer": "ipython3",
   "version": "3.8.5"
  }
 },
 "nbformat": 4,
 "nbformat_minor": 5
}
