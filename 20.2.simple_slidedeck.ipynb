{
 "cells": [
  {
   "cell_type": "markdown",
   "id": "ecological-ceramic",
   "metadata": {
    "slideshow": {
     "slide_type": "slide"
    }
   },
   "source": [
    "<img src=\"./images/weiailogo2.png\"\n",
    "     style=\"float: right\"\n",
    "     width=100\n",
    "     style=\"padding-bottom:30px;\"/>\n",
    "<br>\n",
    "\n",
    "<img src= \"./images/Python-jupyter-logo.png\" \n",
    "     style=\"float: center\" \n",
    "     width=\"700\"\n",
    "     style=\"padding-bottom:10px;\"/>   \n",
    "\n",
    "<h1 style='text-align: center;'>Awesome Immdediate Slideshow in Jupyter Notebook</h1>\n",
    "<h2 style='text-align: center;'>Sigmund S. Wei, Ph.D. Professor</h2>\n",
    "<h3 style='text-align: center;'>Email: shouke.wei@gmail.com</h3>"
   ]
  },
  {
   "cell_type": "markdown",
   "id": "generous-holder",
   "metadata": {
    "slideshow": {
     "slide_type": "slide"
    }
   },
   "source": [
    "<img src=\"./images/weiailogo2.png\"\n",
    "     style=\"float: right\"\n",
    "     width=100\n",
    "     style=\"padding-bottom:30px;\"/>\n",
    "\n",
    "\n",
    "\n",
    "<br>\n",
    "<table>\n",
    "    <tr>\n",
    "      <td>\n",
    "      <img src='./images/Python-jupyter-logo.png'width=700>\n",
    "      </td>\n",
    "     </tr>\n",
    "</table>\n",
    "\n",
    "<h1 style='text-align: center;'>Awesome Immdediate Slideshow in Jupyter Notebook</h1>\n",
    "<h2 style='text-align: center;'>Sigmund S. Wei, Ph.D. Professor</h2>\n",
    "<h3 style='text-align: center;'>Email: shouke.wei@gmail.com</h3>"
   ]
  },
  {
   "cell_type": "markdown",
   "id": "manual-prime",
   "metadata": {
    "slideshow": {
     "slide_type": "slide"
    }
   },
   "source": [
    "## Outline of the Presentation\n",
    "<h3>1. A Python Function</h3>\n",
    "<h3>2. A Simple Line Plot</h3>"
   ]
  },
  {
   "cell_type": "markdown",
   "id": "reserved-university",
   "metadata": {
    "slideshow": {
     "slide_type": "slide"
    }
   },
   "source": [
    "## 1. A Python Function "
   ]
  },
  {
   "cell_type": "code",
   "execution_count": 1,
   "id": "generic-encounter",
   "metadata": {
    "slideshow": {
     "slide_type": "-"
    }
   },
   "outputs": [
    {
     "name": "stdout",
     "output_type": "stream",
     "text": [
      "sum: 68\n"
     ]
    }
   ],
   "source": [
    "# define an adder function to create the sum of three numbers\n",
    "def adder(x,y,z):\n",
    "    print(\"sum:\",x+y+z)\n",
    "\n",
    "adder(8,22,38)"
   ]
  },
  {
   "cell_type": "markdown",
   "id": "occasional-orchestra",
   "metadata": {
    "slideshow": {
     "slide_type": "slide"
    }
   },
   "source": [
    "## 2. A Simple Line Plot"
   ]
  },
  {
   "cell_type": "code",
   "execution_count": 2,
   "id": "obvious-chemical",
   "metadata": {
    "slideshow": {
     "slide_type": "-"
    }
   },
   "outputs": [
    {
     "data": {
      "text/plain": [
       "[<matplotlib.lines.Line2D at 0x7f359a295b20>]"
      ]
     },
     "execution_count": 2,
     "metadata": {},
     "output_type": "execute_result"
    },
    {
     "data": {
      "image/png": "[encoded data removed]",
      "text/plain": [
       "<Figure size 432x288 with 1 Axes>"
      ]
     },
     "metadata": {
      "needs_background": "light"
     },
     "output_type": "display_data"
    }
   ],
   "source": [
    "import matplotlib.pyplot as plt\n",
    "\n",
    "x = [0,1,2,3,4,5,6,7,8,9,10]\n",
    "y = [0,2,4,3,5,7,6,9,8,10,11]\n",
    "\n",
    "plt.plot(x,y)"
   ]
  },
  {
   "cell_type": "markdown",
   "id": "future-monte",
   "metadata": {
    "slideshow": {
     "slide_type": "slide"
    }
   },
   "source": [
    "<h1 style=\"text-align: center\">Thank you for your attention!</h1>"
   ]
  }
 ],
 "metadata": {
  "celltoolbar": "Slideshow",
  "kernelspec": {
   "display_name": "Python 3",
   "language": "python",
   "name": "python3"
  },
  "language_info": {
   "codemirror_mode": {
    "name": "ipython",
    "version": 3
   },
   "file_extension": ".py",
   "mimetype": "text/x-python",
   "name": "python",
   "nbconvert_exporter": "python",
   "pygments_lexer": "ipython3",
   "version": "3.8.8"
  }
 },
 "nbformat": 4,
 "nbformat_minor": 5
}
