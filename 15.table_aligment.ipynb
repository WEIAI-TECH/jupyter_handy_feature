{
 "cells": [
  {
   "cell_type": "markdown",
   "id": "vocal-energy",
   "metadata": {
    "slideshow": {
     "slide_type": "slide"
    }
   },
   "source": [
    "<img src=\"./images/weiailogo2.png\"\n",
    "     style=\"float: right\"\n",
    "     width=150\n",
    "     style=\"padding-bottom:30px;\"/>\n",
    "<br>\n",
    "\n",
    "<img style=\"float: left;\" src= \"./images/python-logo.svg\" width=\"400\">    \n",
    "<img  style=\"float: center;\" src=\"./images/jupyter-logo.svg\" width=\"130\">\n",
    "\n",
    "\n",
    "# How to Align A Table in Jupyter Notebook\n",
    "\n",
    "## Sigmund S. Wei, Ph.D. Professor"
   ]
  },
  {
   "cell_type": "markdown",
   "id": "inclusive-unemployment",
   "metadata": {
    "slideshow": {
     "slide_type": "slide"
    }
   },
   "source": [
    "###  Markdown Table Alignment\n",
    "- It is very handy to make a table use markedown, but\n",
    "- The defaut table is center alignmenment\n",
    "\n",
    "#### Table: left or right alignment"
   ]
  },
  {
   "cell_type": "markdown",
   "id": "behavioral-patient",
   "metadata": {
    "slideshow": {
     "slide_type": "slide"
    }
   },
   "source": [
    "| Name | Gender | Age| Origin| \n",
    "| :--- | :---: | :---: | :---:|\n",
    "| Jack | Male| 23 |USA|\n",
    "|Susan | Female| 22 | Canada |"
   ]
  },
  {
   "cell_type": "code",
   "execution_count": 7,
   "id": "applicable-pearl",
   "metadata": {
    "slideshow": {
     "slide_type": "slide"
    }
   },
   "outputs": [
    {
     "data": {
      "text/html": [
       "<style>\n",
       "table {float:center}\n",
       "</style>\n"
      ],
      "text/plain": [
       "<IPython.core.display.HTML object>"
      ]
     },
     "metadata": {},
     "output_type": "display_data"
    }
   ],
   "source": [
    "%%html\n",
    "<style>\n",
    "table {float:center}\n",
    "</style>"
   ]
  },
  {
   "cell_type": "markdown",
   "id": "noticed-hearts",
   "metadata": {},
   "source": [
    "## HTML Table Alignment"
   ]
  },
  {
   "cell_type": "markdown",
   "id": "advised-gothic",
   "metadata": {
    "slideshow": {
     "slide_type": "slide"
    }
   },
   "source": [
    "<table style='float:right;'>\n",
    "    <tr>\n",
    "        <th style='text-align: center;'>Laptop</th>\n",
    "        <th style='text-align: left;'>Origin</th>\n",
    "        <th style='text-align: left;'>Price</th>\n",
    "    </tr>\n",
    "    <tr>\n",
    "        <td style='text-align: left;'>Lenovo IdeaPad 3 15.6\"</td>\n",
    "        <td style='text-align: left;'>China</td>\n",
    "        <td style='text-align: left;'>&dollar;649.99</td>\n",
    "    </tr>\n",
    "    <tr>\n",
    "        <td style='text-align: left;'>Apple MacBook Pro (2020)13.3\"</td>\n",
    "        <td style='text-align: left;'>USA</td>\n",
    "        <td style='text-align: left;'>&dollar;1,249.59</td>\n",
    "    </tr>\n",
    "    <tr>\n",
    "        <td style='text-align: left;'>HP Touch-Screen Chromebook 14\"</td>\n",
    "        <td style='text-align: left;'>USA</td>\n",
    "        <td style='text-align: left;'>&dollar;339.99 </td>\n",
    "    </tr>\n",
    "</table>"
   ]
  },
  {
   "cell_type": "code",
   "execution_count": null,
   "id": "loved-adams",
   "metadata": {},
   "outputs": [],
   "source": []
  }
 ],
 "metadata": {
  "kernelspec": {
   "display_name": "Python 3",
   "language": "python",
   "name": "python3"
  },
  "language_info": {
   "codemirror_mode": {
    "name": "ipython",
    "version": 3
   },
   "file_extension": ".py",
   "mimetype": "text/x-python",
   "name": "python",
   "nbconvert_exporter": "python",
   "pygments_lexer": "ipython3",
   "version": "3.8.8"
  }
 },
 "nbformat": 4,
 "nbformat_minor": 5
}
