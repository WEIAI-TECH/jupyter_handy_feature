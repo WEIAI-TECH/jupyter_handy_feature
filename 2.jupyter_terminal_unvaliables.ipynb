{
 "cells": [
  {
   "cell_type": "markdown",
   "id": "reduced-department",
   "metadata": {
    "slideshow": {
     "slide_type": "slide"
    }
   },
   "source": [
    "<img src=\"./images/python-logo.png\" \n",
    "     alt=\"alt_text\" align=\"left\" \n",
    "     width=\"500\" />\n",
    "     \n",
    "<img src=\"./images/jupyter-logo.svg\" \n",
    "     alt=\"alt_text\" align=\"center\" \n",
    "     width=\"150\" />\n",
    "\n",
    "\n",
    "## Solve the Unavailable Terminal Problem of Jupyter Notebook in Windows\n",
    " \n",
    "\n",
    "Sigmund S. Wei, Ph.D. Professor\n",
    "\n",
    "Email: shouke.wei@gmail.com\n",
    "\n",
    "2021-02-18"
   ]
  },
  {
   "cell_type": "markdown",
   "id": "intermediate-skiing",
   "metadata": {
    "slideshow": {
     "slide_type": "skip"
    }
   },
   "source": [
    "### Objective\n",
    "- introduce you some pretty handy and interesting features of Jupyter Notebook rather than to \n",
    "- teach you how to use Jupyter notebook in details. "
   ]
  },
  {
   "cell_type": "markdown",
   "id": "adolescent-gardening",
   "metadata": {
    "slideshow": {
     "slide_type": "skip"
    }
   },
   "source": [
    "- The Jupyter Notebook is an open source web application, which you can use to create and share documents that contain live code, equations, visualizations, and text. \n",
    "- It is very easy to install jupyter notebook in Windows, Linux and Macs\n",
    "  - Open your terminal (Linux and Macs), or CMD/Powershell (Windows)\n",
    "  - Run the follwing command   \n",
    "  `pip install jupyter`"
   ]
  },
  {
   "cell_type": "markdown",
   "id": "light-estimate",
   "metadata": {
    "slideshow": {
     "slide_type": "skip"
    }
   },
   "source": [
    "### 1. Chang  the Theme of Jupyter Notebook\n",
    "\n",
    "The defaut theme of Jupyter notebook is white, and there is no menue where we can change the theme. In this tutorial, we will learn how to change the theme of Jupyter notebook. We will talk about four points about theme change of Jupyter notebook.\n",
    "\n",
    "- Install jupyter-theme package\n",
    "- Check the avialable themes in the package\n",
    "- Change the theme\n",
    "- Restore to the orginal theme"
   ]
  },
  {
   "cell_type": "markdown",
   "id": "identical-monte",
   "metadata": {
    "slideshow": {
     "slide_type": "skip"
    }
   },
   "source": [
    "It is easy to change Jupyter theme using the [`jupyter-themes`](https://github.com/dunovank/jupyter-themes) package by Kyle Dunovan"
   ]
  },
  {
   "cell_type": "markdown",
   "id": "intermediate-license",
   "metadata": {
    "slideshow": {
     "slide_type": "skip"
    }
   },
   "source": [
    "#### Installation\n",
    "\n",
    "- Install it with conda:\n",
    "\n",
    "  `conda install -c conda-forge jupyterthemes`\n",
    "\n",
    "- or pip:\n",
    " \n",
    "  `pip install jupyterthemes`\n",
    "\n",
    "- upgrade to latest version:\n",
    "\n",
    "  `pip install --upgrade jupyterthemes`"
   ]
  },
  {
   "cell_type": "markdown",
   "id": "respective-phoenix",
   "metadata": {
    "slideshow": {
     "slide_type": "skip"
    }
   },
   "source": [
    "#### Get the list of available themes\n",
    "    \n",
    "   `jt -l`\n",
    "- Available themes:     \n",
    "  - onedork\n",
    "  - grade3\n",
    "  - oceans16\n",
    "  - chesterish\n",
    "  - monokai\n",
    "  - solarizedl\n",
    "  - solarizedd"
   ]
  },
  {
   "cell_type": "markdown",
   "id": "operational-devil",
   "metadata": {
    "slideshow": {
     "slide_type": "skip"
    }
   },
   "source": [
    "#### Change theme\n",
    "- In terminal, type:  \n",
    "  `jt -t theme-name`\n",
    "- or Inside Jupyter\n",
    "  `!jt -t theme-name`\n",
    "- Example: specify the theme to monokai:  \n",
    "   `jt -t monokai`\n",
    "- start jupyter again\n",
    "  - Retart Jupyter the first time you do it, and later \n",
    "  - refresh is enough to enable the new theme"
   ]
  },
  {
   "cell_type": "markdown",
   "id": "allied-grounds",
   "metadata": {
    "slideshow": {
     "slide_type": "skip"
    }
   },
   "source": [
    "- Toolbar missing\n",
    "- Solve it by\n",
    "  `jt -t gruvboxd -T`\n",
    "- or run this line to enable the toolbar, .\n",
    "  `jt -t oceans16 -T -N`\n",
    "- Remember to activate it after adding -T option\n",
    "```\n",
    "jt -t [THEME] -T\n",
    "Refresh Page\n",
    "If it is still not coming, then \n",
    "View -> Toggle Toolbar\n",
    "```\n",
    " "
   ]
  },
  {
   "cell_type": "markdown",
   "id": "reliable-tractor",
   "metadata": {
    "slideshow": {
     "slide_type": "skip"
    }
   },
   "source": [
    "#### Restore the original theme\n",
    "- In termal:\n",
    " `jt -r`\n",
    "- Inside Jupyter:\n",
    " `!jt -r`\n",
    "\n"
   ]
  },
  {
   "cell_type": "markdown",
   "id": "sound-seminar",
   "metadata": {
    "slideshow": {
     "slide_type": "slide"
    }
   },
   "source": [
    "### 1. Built-in Terminal of Jupyter Notebook\n",
    "- It is very convenient \n",
    "  - You don't need switch windows, \n",
    "  - It does not need change the state of an existing terminal,  \n",
    "  - You can perform a quick command-line task,and \n",
    "  - It need not change the path to your work diretory to run a Python (.py) file"
   ]
  },
  {
   "cell_type": "markdown",
   "id": "armed-guarantee",
   "metadata": {
    "slideshow": {
     "slide_type": "slide"
    }
   },
   "source": [
    "### 2. Jupyter Notebook Built-in Terminal \n",
    "- The terminal supports all applications, including Vim, Nano, and Bash, which would run in a PTY, a pseudo-terminal\n",
    "- It can be started from the dashboard by:   \n",
    "  `go to home page --> clicking on the New tab --> \n",
    "  the New dropdown button --> selecting Terminal\n",
    " "
   ]
  },
  {
   "cell_type": "markdown",
   "id": "cordless-invalid",
   "metadata": {
    "slideshow": {
     "slide_type": "slide"
    }
   },
   "source": [
    "### 3. Problem of Unavailable Terminal on Windows\n",
    "\n",
    "- Many People face a problem of unavailable terminal in Windows after installing Jupyter notebook or Jupyterlab in Python\n",
    "  - because the Windows system does not support PTY defautly\n",
    "  - even installing pywinpty package\n",
    "- There is no such problem for Anaconda"
   ]
  },
  {
   "cell_type": "markdown",
   "id": "major-surveillance",
   "metadata": {
    "slideshow": {
     "slide_type": "slide"
    }
   },
   "source": [
    "### 4. Solution\n",
    "\n",
    "- Finally I solved the problem by using `pipwin` to install wheel and pywinpty\n",
    "  - `pipwin` is like pip, but using to install precompiled Windows binaries provided by Christoph Gohlke.   \n",
    "  \n",
    "Setp 1: Install pipwin\n",
    "\n",
    "Step 2: Check if Wheel and Pywinpty Package installed \n",
    "\n",
    "Step 3: Uninstall them if they were installed\n",
    "\n",
    "Step 4: Reinstall them with pipwin    "
   ]
  },
  {
   "cell_type": "markdown",
   "id": "worst-senator",
   "metadata": {
    "slideshow": {
     "slide_type": "skip"
    }
   },
   "source": [
    "```\n",
    "pip install pipwin\n",
    "\n",
    "pip list\n",
    "\n",
    "pip uninstall wheel\n",
    "pip uninstall pywinpty\n",
    "\n",
    "pipwin install wheel\n",
    "pipwin install pywinpty\n",
    "```"
   ]
  },
  {
   "cell_type": "markdown",
   "id": "periodic-amplifier",
   "metadata": {},
   "source": [
    "### 3. Create Python '.py' File"
   ]
  },
  {
   "cell_type": "markdown",
   "id": "weird-atmosphere",
   "metadata": {},
   "source": [
    "#### Method 1: Jupyter text editor\n",
    "```\n",
    "New --> Text File --> rename the file --> jupyterCode.py --> \n",
    "type: print('Hello Python. Learning Python is fun!')   \n",
    "--> file --> save \n",
    "```\n",
    "It seems okey, but probely we feel something missing."
   ]
  },
  {
   "cell_type": "markdown",
   "id": "billion-sierra",
   "metadata": {},
   "source": [
    "Let's change the process a little bit to see if there is something different\n",
    "\n",
    "```\n",
    "Go to homepage New --> Text File --> rename the file --> jupyterCode.py --> \n",
    "type: print('Hello Python. Learning Python is fun!')   \n",
    "--> file --> save \n",
    "```"
   ]
  },
  {
   "cell_type": "markdown",
   "id": "coral-literature",
   "metadata": {},
   "source": [
    "it automatically creates an indent for you. "
   ]
  },
  {
   "cell_type": "markdown",
   "id": "modified-garage",
   "metadata": {},
   "source": [
    "#### Method 2: Create inside notebook\n",
    "\n",
    "```\n",
    "click new --> Python 3 --> choose the untitled file --> remame --> jupyterCode --> \n",
    "type: `print('Hello Python. Learning Python is fun!')`\n",
    "```"
   ]
  },
  {
   "cell_type": "markdown",
   "id": "guilty-absorption",
   "metadata": {
    "slideshow": {
     "slide_type": "skip"
    }
   },
   "source": [
    "### 4. Run Python `.py` extension file"
   ]
  },
  {
   "cell_type": "markdown",
   "id": "given-faith",
   "metadata": {},
   "source": [
    "#### (1) use magic command %"
   ]
  },
  {
   "cell_type": "markdown",
   "id": "unnecessary-cherry",
   "metadata": {},
   "source": [
    "- Run general codes "
   ]
  },
  {
   "cell_type": "code",
   "execution_count": 20,
   "id": "chubby-aviation",
   "metadata": {},
   "outputs": [
    {
     "data": {
      "image/png": "[encoded data removed]",
      "text/plain": [
       "<Figure size 432x288 with 1 Axes>"
      ]
     },
     "metadata": {
      "needs_background": "light"
     },
     "output_type": "display_data"
    }
   ],
   "source": [
    "%run Plot.py"
   ]
  },
  {
   "cell_type": "markdown",
   "id": "discrete-shopper",
   "metadata": {},
   "source": [
    "- Run a function: 2 ways \n",
    "\n",
    "  - Way 1: run as `.py` file, and then pass an augment to the function\n",
    "  - Way 2: import it as pakcage, and run the function"
   ]
  },
  {
   "cell_type": "code",
   "execution_count": 21,
   "id": "filled-magnitude",
   "metadata": {},
   "outputs": [],
   "source": [
    "%run greeting.py"
   ]
  },
  {
   "cell_type": "code",
   "execution_count": 23,
   "id": "christian-roots",
   "metadata": {},
   "outputs": [
    {
     "name": "stdout",
     "output_type": "stream",
     "text": [
      "Hello, Sigmund!\n"
     ]
    }
   ],
   "source": [
    "hello(\"Sigmund\")"
   ]
  },
  {
   "cell_type": "code",
   "execution_count": 18,
   "id": "graphic-allocation",
   "metadata": {},
   "outputs": [
    {
     "name": "stdout",
     "output_type": "stream",
     "text": [
      "Hello, Sigmund!\n"
     ]
    }
   ],
   "source": [
    "import greeting as gt\n",
    "\n",
    "gt.hello(\"Sigmund\")\n"
   ]
  },
  {
   "cell_type": "markdown",
   "id": "stable-fifth",
   "metadata": {},
   "source": [
    "#### (2) Run `.py` file  in buit-in terminal\n",
    "\n",
    "```\n",
    "python plot.py\n",
    "```\n",
    "```\n",
    "python -c 'from greeting import hello; hello(\"Sigmund\")\n",
    "```\n",
    "```\n",
    "python\n",
    "import greeting as gt\n",
    "gt.hello(\"Sigmund\")\n",
    "```"
   ]
  },
  {
   "cell_type": "markdown",
   "id": "remarkable-navigator",
   "metadata": {},
   "source": [
    "### 5. Run External Files of Jupyter Notebook"
   ]
  },
  {
   "cell_type": "code",
   "execution_count": 23,
   "id": "behavioral-short",
   "metadata": {},
   "outputs": [
    {
     "name": "stdout",
     "output_type": "stream",
     "text": [
      "Hi Python! Learning Python is fun!\n"
     ]
    }
   ],
   "source": [
    "%run hipython.ipynb"
   ]
  },
  {
   "cell_type": "code",
   "execution_count": 35,
   "id": "optional-kitty",
   "metadata": {},
   "outputs": [
    {
     "data": {
      "application/json": {
       "cell": {
        "!": "OSMagics",
        "HTML": "Other",
        "SVG": "Other",
        "bash": "Other",
        "capture": "ExecutionMagics",
        "debug": "ExecutionMagics",
        "file": "Other",
        "html": "DisplayMagics",
        "javascript": "DisplayMagics",
        "js": "DisplayMagics",
        "latex": "DisplayMagics",
        "markdown": "DisplayMagics",
        "perl": "Other",
        "prun": "ExecutionMagics",
        "pypy": "Other",
        "python": "Other",
        "python2": "Other",
        "python3": "Other",
        "ruby": "Other",
        "script": "ScriptMagics",
        "sh": "Other",
        "svg": "DisplayMagics",
        "sx": "OSMagics",
        "system": "OSMagics",
        "time": "ExecutionMagics",
        "timeit": "ExecutionMagics",
        "writefile": "OSMagics"
       },
       "line": {
        "alias": "OSMagics",
        "alias_magic": "BasicMagics",
        "autoawait": "AsyncMagics",
        "autocall": "AutoMagics",
        "automagic": "AutoMagics",
        "autosave": "KernelMagics",
        "bookmark": "OSMagics",
        "cat": "Other",
        "cd": "OSMagics",
        "clear": "KernelMagics",
        "colors": "BasicMagics",
        "conda": "PackagingMagics",
        "config": "ConfigMagics",
        "connect_info": "KernelMagics",
        "cp": "Other",
        "debug": "ExecutionMagics",
        "dhist": "OSMagics",
        "dirs": "OSMagics",
        "doctest_mode": "BasicMagics",
        "ed": "Other",
        "edit": "KernelMagics",
        "env": "OSMagics",
        "gui": "BasicMagics",
        "hist": "Other",
        "history": "HistoryMagics",
        "killbgscripts": "ScriptMagics",
        "ldir": "Other",
        "less": "KernelMagics",
        "lf": "Other",
        "lk": "Other",
        "ll": "Other",
        "load": "CodeMagics",
        "load_ext": "ExtensionMagics",
        "loadpy": "CodeMagics",
        "logoff": "LoggingMagics",
        "logon": "LoggingMagics",
        "logstart": "LoggingMagics",
        "logstate": "LoggingMagics",
        "logstop": "LoggingMagics",
        "ls": "Other",
        "lsmagic": "BasicMagics",
        "lx": "Other",
        "macro": "ExecutionMagics",
        "magic": "BasicMagics",
        "man": "KernelMagics",
        "matplotlib": "PylabMagics",
        "mkdir": "Other",
        "more": "KernelMagics",
        "mv": "Other",
        "notebook": "BasicMagics",
        "page": "BasicMagics",
        "pastebin": "CodeMagics",
        "pdb": "ExecutionMagics",
        "pdef": "NamespaceMagics",
        "pdoc": "NamespaceMagics",
        "pfile": "NamespaceMagics",
        "pinfo": "NamespaceMagics",
        "pinfo2": "NamespaceMagics",
        "pip": "PackagingMagics",
        "popd": "OSMagics",
        "pprint": "BasicMagics",
        "precision": "BasicMagics",
        "prun": "ExecutionMagics",
        "psearch": "NamespaceMagics",
        "psource": "NamespaceMagics",
        "pushd": "OSMagics",
        "pwd": "OSMagics",
        "pycat": "OSMagics",
        "pylab": "PylabMagics",
        "qtconsole": "KernelMagics",
        "quickref": "BasicMagics",
        "recall": "HistoryMagics",
        "rehashx": "OSMagics",
        "reload_ext": "ExtensionMagics",
        "rep": "Other",
        "rerun": "HistoryMagics",
        "reset": "NamespaceMagics",
        "reset_selective": "NamespaceMagics",
        "rm": "Other",
        "rmdir": "Other",
        "run": "ExecutionMagics",
        "save": "CodeMagics",
        "sc": "OSMagics",
        "set_env": "OSMagics",
        "store": "StoreMagics",
        "sx": "OSMagics",
        "system": "OSMagics",
        "tb": "ExecutionMagics",
        "time": "ExecutionMagics",
        "timeit": "ExecutionMagics",
        "unalias": "OSMagics",
        "unload_ext": "ExtensionMagics",
        "who": "NamespaceMagics",
        "who_ls": "NamespaceMagics",
        "whos": "NamespaceMagics",
        "xdel": "NamespaceMagics",
        "xmode": "BasicMagics"
       }
      },
      "text/plain": [
       "Available line magics:\n",
       "%alias  %alias_magic  %autoawait  %autocall  %automagic  %autosave  %bookmark  %cat  %cd  %clear  %colors  %conda  %config  %connect_info  %cp  %debug  %dhist  %dirs  %doctest_mode  %ed  %edit  %env  %gui  %hist  %history  %killbgscripts  %ldir  %less  %lf  %lk  %ll  %load  %load_ext  %loadpy  %logoff  %logon  %logstart  %logstate  %logstop  %ls  %lsmagic  %lx  %macro  %magic  %man  %matplotlib  %mkdir  %more  %mv  %notebook  %page  %pastebin  %pdb  %pdef  %pdoc  %pfile  %pinfo  %pinfo2  %pip  %popd  %pprint  %precision  %prun  %psearch  %psource  %pushd  %pwd  %pycat  %pylab  %qtconsole  %quickref  %recall  %rehashx  %reload_ext  %rep  %rerun  %reset  %reset_selective  %rm  %rmdir  %run  %save  %sc  %set_env  %store  %sx  %system  %tb  %time  %timeit  %unalias  %unload_ext  %who  %who_ls  %whos  %xdel  %xmode\n",
       "\n",
       "Available cell magics:\n",
       "%%!  %%HTML  %%SVG  %%bash  %%capture  %%debug  %%file  %%html  %%javascript  %%js  %%latex  %%markdown  %%perl  %%prun  %%pypy  %%python  %%python2  %%python3  %%ruby  %%script  %%sh  %%svg  %%sx  %%system  %%time  %%timeit  %%writefile\n",
       "\n",
       "Automagic is ON, % prefix IS NOT needed for line magics."
      ]
     },
     "execution_count": 35,
     "metadata": {},
     "output_type": "execute_result"
    }
   ],
   "source": [
    "%lsmagic"
   ]
  },
  {
   "cell_type": "markdown",
   "id": "white-cycle",
   "metadata": {},
   "source": [
    "### 6. Running codes from a [Python](https://docs.python.org/3/tutorial/interpreter.html) or [IPython](https://jakevdp.github.io/PythonDataScienceHandbook/01.02-shell-keyboard-shortcuts.html) shell session\n",
    "- You can even paste straight from a Python or IPython shell session:"
   ]
  },
  {
   "cell_type": "code",
   "execution_count": 28,
   "id": "sharp-cleaners",
   "metadata": {},
   "outputs": [
    {
     "name": "stdout",
     "output_type": "stream",
     "text": [
      "Be careful not to fall off!\n"
     ]
    }
   ],
   "source": [
    ">>> the_world_is_flat = True\n",
    ">>> if the_world_is_flat:\n",
    "...     print(\"Be careful not to fall off!\")\n",
    "..."
   ]
  },
  {
   "cell_type": "code",
   "execution_count": 29,
   "id": "lesser-spirit",
   "metadata": {},
   "outputs": [
    {
     "data": {
      "text/plain": [
       "4"
      ]
     },
     "execution_count": 29,
     "metadata": {},
     "output_type": "execute_result"
    }
   ],
   "source": [
    "In [1]: def square(a):\n",
    "    \"\"\"Return the square of a\"\"\"\n",
    "    return a ** 2\n",
    "\n",
    "In [2]: square(2)"
   ]
  },
  {
   "cell_type": "markdown",
   "id": "auburn-strand",
   "metadata": {},
   "source": [
    "### 7. Code Compensation\n",
    "\n",
    "- Code completion, especially for attributes, is a very convenient way to help you write codes quickly and efficiently. \n",
    "- Simply type object_name.<TAB> to view the object’s attributes. "
   ]
  },
  {
   "cell_type": "code",
   "execution_count": null,
   "id": "legal-production",
   "metadata": {},
   "outputs": [],
   "source": [
    "import numpy as np\n",
    "np"
   ]
  },
  {
   "cell_type": "markdown",
   "id": "oriental-scottish",
   "metadata": {},
   "source": [
    "- Install a more powerful code autocompensation extention\n",
    "- [`TabNine`](https://github.com/codota/jupyter-tabnine) created by wenmin-wu \n",
    "- It enables the use of coding auto-completion based on Deep Learning\n",
    "- This plugin supports MacOS, Linux and Windows all these systems\n",
    "- It supports Chrome,firefox and Safari browsersbut not IE"
   ]
  },
  {
   "cell_type": "markdown",
   "id": "smoking-abortion",
   "metadata": {},
   "source": [
    "The simplest way to install and configure this plugin is by issuing following command:\n",
    "```\n",
    "pip3 install jupyter-tabnine --user\n",
    "jupyter nbextension install --py jupyter_tabnine --user\n",
    "jupyter nbextension enable --py jupyter_tabnine --user\n",
    "jupyter serverextension enable --py jupyter_tabnine --user\n",
    "```\n",
    "Jupyter TabNine will be active after being installed."
   ]
  },
  {
   "cell_type": "markdown",
   "id": "friendly-patio",
   "metadata": {},
   "source": [
    "If you want to show the Jupyter original complete temporally, you can click `shift + space`."
   ]
  },
  {
   "cell_type": "markdown",
   "id": "confidential-dressing",
   "metadata": {},
   "source": [
    "### 8. Handy Shutcuts for Run a Cell"
   ]
  },
  {
   "cell_type": "markdown",
   "id": "printable-blake",
   "metadata": {},
   "source": [
    "- In the notebook, to run a cell of code, hit `Shift-Enter` \n",
    "- This executes the cell and puts the cursor in the next cell below, or\n",
    "- makes a new one if you are at the end. \n",
    "\n",
    "Alternately, you can use:\n",
    "\n",
    "- `Alt-Enter` to force the creation of a new cell unconditionally (useful when inserting new content in the middle of an existing notebook).\n",
    "- `Control-Enter` executes the cell and keeps the cursor in the same cell, useful for quick experimentation of snippets that you don't need to keep permanently.\n",
    "\n",
    "More shutcuts:\n",
    "- press \"h\", or \n",
    "- go to --> help --> Keyboard Shutcuts"
   ]
  },
  {
   "cell_type": "markdown",
   "id": "sonic-second",
   "metadata": {},
   "source": [
    "### 9. Multiline Cursor\n",
    "\n",
    "`Alt/Option` and `hold mouse to pull down`\n",
    "- It is very handy for multiline\n",
    "  - Comments\n",
    "  - Indentation\n",
    "  - Bullets\n",
    "  - Emphasized text\n",
    "  - Make Tables"
   ]
  },
  {
   "cell_type": "markdown",
   "id": "heavy-jimmy",
   "metadata": {},
   "source": [
    "### 10. Show and Acess Work Directory"
   ]
  },
  {
   "cell_type": "markdown",
   "id": "needed-bearing",
   "metadata": {},
   "source": [
    "#### Show your current directory"
   ]
  },
  {
   "cell_type": "code",
   "execution_count": 8,
   "id": "inappropriate-tuning",
   "metadata": {},
   "outputs": [
    {
     "name": "stdout",
     "output_type": "stream",
     "text": [
      "/home/sigmund/Documents/notes/pythonNote\r\n"
     ]
    }
   ],
   "source": [
    "!pwd"
   ]
  },
  {
   "cell_type": "markdown",
   "id": "appropriate-spectrum",
   "metadata": {},
   "source": [
    "#### Display the files in your current working directory"
   ]
  },
  {
   "cell_type": "code",
   "execution_count": 7,
   "id": "viral-lyric",
   "metadata": {},
   "outputs": [
    {
     "name": "stdout",
     "output_type": "stream",
     "text": [
      "The files in my current directory:\n",
      "['Book_Learn_pyhton_easiest way.md', 'carClass.py', 'cargameClass.py', 'data', 'dataType.py', 'dataVisulization', 'dist2pts.py', 'dracula.css', 'fieldcostClass.py', 'forLoops.py', 'fruitClassChinese.py', 'function_python.py', 'greeting.txt', 'guessGame.py', 'hipython.ipynb', 'images', 'item_in_list.py', 'itemInSet.py', 'jupyter_more_than_know.ipynb', 'Learn_pyhton_easiest way.md', 'learn_python_ten_example.ipynb', 'openfile.py', 'outStock.py', 'pandas.ipynb', 'pieGraph.py', 'Plot.py', 'ProblemSet1.py', 'ProblemSet2.py', 'python_easiest', 'python_intro.ipynb', 'pythonStudy.md', 'run_py_file_jupyter.ipynb', 'solveequation.py', 'StartPython.py', 'studentFileClass.py', 'temconverter.py', 'temp_operation2.py', 'theme', 'value2string.py', 'voila-master', 'welcome.py', 'whilebreakLoop.py', 'whilecontinueLoop.py', 'whileelseLoop.py', 'whileLoop.py', 'workingdirectory.py', 'yournameInput.py']\n"
     ]
    }
   ],
   "source": [
    "files = !ls\n",
    "print(\"The files in my current directory:\")\n",
    "print(files)"
   ]
  },
  {
   "cell_type": "code",
   "execution_count": 6,
   "id": "proof-reducing",
   "metadata": {},
   "outputs": [
    {
     "name": "stdout",
     "output_type": "stream",
     "text": [
      "My files in current directory:\n",
      "[Book_Learn_pyhton_easiest way.md, carClass.py, cargameClass.py, data, dataType.py, dataVisulization, dist2pts.py, dracula.css, fieldcostClass.py, forLoops.py, fruitClassChinese.py, function_python.py, greeting.txt, guessGame.py, hipython.ipynb, images, item_in_list.py, itemInSet.py, jupyter_more_than_know.ipynb, Learn_pyhton_easiest way.md, learn_python_ten_example.ipynb, openfile.py, outStock.py, pandas.ipynb, pieGraph.py, Plot.py, ProblemSet1.py, ProblemSet2.py, python_easiest, python_intro.ipynb, pythonStudy.md, run_py_file_jupyter.ipynb, solveequation.py, StartPython.py, studentFileClass.py, temconverter.py, temp_operation2.py, theme, value2string.py, voila-master, welcome.py, whilebreakLoop.py, whilecontinueLoop.py, whileelseLoop.py, whileLoop.py, workingdirectory.py, yournameInput.py]\r\n"
     ]
    }
   ],
   "source": [
    "# or\n",
    "print(\"The files in my current directory:\")\n",
    "!echo $files"
   ]
  },
  {
   "cell_type": "markdown",
   "id": "convertible-stewart",
   "metadata": {},
   "source": [
    "#### Diplay a pointed file"
   ]
  },
  {
   "cell_type": "code",
   "execution_count": 11,
   "id": "egyptian-theme",
   "metadata": {},
   "outputs": [
    {
     "name": "stdout",
     "output_type": "stream",
     "text": [
      "BOOK_LEARN_PYHTON_EASIEST WAY.MD\r\n"
     ]
    }
   ],
   "source": [
    "!echo {files[0].upper()}"
   ]
  },
  {
   "cell_type": "markdown",
   "id": "closed-garage",
   "metadata": {},
   "source": [
    "#### Show one type of files "
   ]
  },
  {
   "cell_type": "code",
   "execution_count": 9,
   "id": "descending-tension",
   "metadata": {},
   "outputs": [
    {
     "name": "stdout",
     "output_type": "stream",
     "text": [
      "--\n",
      "--\n",
      "--\n",
      "--\n",
      "--\n",
      "--\n",
      "--\n",
      "--\n",
      "--\n",
      "--\n",
      "--\n",
      "--\n",
      "--\n",
      "--\n",
      "14 - hipython\n",
      "--\n",
      "--\n",
      "--\n",
      "18 - jupyter_more_than_know\n",
      "--\n",
      "20 - learn_python_ten_example\n",
      "--\n",
      "--\n",
      "23 - pandas\n",
      "--\n",
      "--\n",
      "--\n",
      "--\n",
      "--\n",
      "29 - python_intro\n",
      "--\n",
      "31 - run_py_file_jupyter\n",
      "--\n",
      "--\n",
      "--\n",
      "--\n",
      "--\n",
      "--\n",
      "--\n",
      "--\n",
      "--\n",
      "--\n",
      "--\n",
      "--\n",
      "--\n",
      "--\n",
      "--\n"
     ]
    }
   ],
   "source": [
    "import os\n",
    "for i,f in enumerate(files):\n",
    "    if f.endswith('ipynb'):\n",
    "        !echo {\"%02d\" % i} - \"{os.path.splitext(f)[0]}\"\n",
    "    else:\n",
    "        print('--')"
   ]
  },
  {
   "cell_type": "markdown",
   "id": "international-cincinnati",
   "metadata": {},
   "source": [
    "### 11. Install Packages Inside Jupyter Notebook"
   ]
  },
  {
   "cell_type": "code",
   "execution_count": null,
   "id": "ancient-observer",
   "metadata": {},
   "outputs": [],
   "source": [
    "!pip install bqplot"
   ]
  },
  {
   "cell_type": "markdown",
   "id": "worth-breakdown",
   "metadata": {},
   "source": [
    "### 12. Run Codes of Other Languages\n",
    "#### html\n",
    "##### Method 1: magic comand"
   ]
  },
  {
   "cell_type": "code",
   "execution_count": 11,
   "id": "exclusive-delhi",
   "metadata": {
    "scrolled": true
   },
   "outputs": [
    {
     "data": {
      "text/html": [
       "<table>\n",
       "<tr>\n",
       "<th>Header 1</th>\n",
       "<th>Header 2</th>\n",
       "<th>Header 3</th>\n",
       "</tr>\n",
       "<tr>\n",
       "<td>row 1, cell 1</td>\n",
       "<td>row 1, cell 2</td>\n",
       "<td>row 1, cell 3</td>\n",
       "</tr>\n",
       "<tr>\n",
       "<td>row 2, cell 1</td>\n",
       "<td>row 2, cell 2</td>\n",
       "<td>row 2, cell 3</td>\n",
       "</tr>\n",
       "<tr>\n",
       "<td>row 3, cell 1</td>\n",
       "<td>row 3, cell 2</td>\n",
       "<td>row 3, cell 3</td>\n",
       "</tr>\n",
       "</table>\n"
      ],
      "text/plain": [
       "<IPython.core.display.HTML object>"
      ]
     },
     "metadata": {},
     "output_type": "display_data"
    }
   ],
   "source": [
    "%%html\n",
    "<table>\n",
    "<tr>\n",
    "<th>Header 1</th>\n",
    "<th>Header 2</th>\n",
    "<th>Header 3</th>\n",
    "</tr>\n",
    "<tr>\n",
    "<td>row 1, cell 1</td>\n",
    "<td>row 1, cell 2</td>\n",
    "<td>row 1, cell 3</td>\n",
    "</tr>\n",
    "<tr>\n",
    "<td>row 2, cell 1</td>\n",
    "<td>row 2, cell 2</td>\n",
    "<td>row 2, cell 3</td>\n",
    "</tr>\n",
    "<tr>\n",
    "<td>row 3, cell 1</td>\n",
    "<td>row 3, cell 2</td>\n",
    "<td>row 3, cell 3</td>\n",
    "</tr>\n",
    "</table>"
   ]
  },
  {
   "cell_type": "markdown",
   "id": "automatic-politics",
   "metadata": {},
   "source": [
    "##### IPython HTML module"
   ]
  },
  {
   "cell_type": "code",
   "execution_count": 15,
   "id": "defined-encounter",
   "metadata": {},
   "outputs": [],
   "source": [
    "from IPython.display import HTML"
   ]
  },
  {
   "cell_type": "code",
   "execution_count": 16,
   "id": "provincial-munich",
   "metadata": {},
   "outputs": [],
   "source": [
    "htable = \"\"\"<table>\n",
    "<tr>\n",
    "<th>Header 1</th>\n",
    "<th>Header 2</th>\n",
    "<th>Header 3</th>\n",
    "</tr>\n",
    "<tr>\n",
    "<td>row 1, cell 1</td>\n",
    "<td>row 1, cell 2</td>\n",
    "<td>row 1, cell 3</td>\n",
    "</tr>\n",
    "<tr>\n",
    "<td>row 2, cell 1</td>\n",
    "<td>row 2, cell 2</td>\n",
    "<td>row 2, cell 3</td>\n",
    "</tr>\n",
    "<tr>\n",
    "<td>row 3, cell 1</td>\n",
    "<td>row 3, cell 2</td>\n",
    "<td>row 3, cell 3</td>\n",
    "</tr>\n",
    "</table>\"\"\""
   ]
  },
  {
   "cell_type": "code",
   "execution_count": 17,
   "id": "indie-celtic",
   "metadata": {},
   "outputs": [],
   "source": [
    "mytable = HTML(htable)"
   ]
  },
  {
   "cell_type": "code",
   "execution_count": 18,
   "id": "conscious-dating",
   "metadata": {
    "scrolled": true
   },
   "outputs": [
    {
     "data": {
      "text/html": [
       "<table>\n",
       "<tr>\n",
       "<th>Header 1</th>\n",
       "<th>Header 2</th>\n",
       "<th>Header 3</th>\n",
       "</tr>\n",
       "<tr>\n",
       "<td>row 1, cell 1</td>\n",
       "<td>row 1, cell 2</td>\n",
       "<td>row 1, cell 3</td>\n",
       "</tr>\n",
       "<tr>\n",
       "<td>row 2, cell 1</td>\n",
       "<td>row 2, cell 2</td>\n",
       "<td>row 2, cell 3</td>\n",
       "</tr>\n",
       "<tr>\n",
       "<td>row 3, cell 1</td>\n",
       "<td>row 3, cell 2</td>\n",
       "<td>row 3, cell 3</td>\n",
       "</tr>\n",
       "</table>"
      ],
      "text/plain": [
       "<IPython.core.display.HTML object>"
      ]
     },
     "metadata": {},
     "output_type": "display_data"
    }
   ],
   "source": [
    "display(mytable)"
   ]
  },
  {
   "cell_type": "markdown",
   "id": "historical-creator",
   "metadata": {},
   "source": [
    "#### Javascript"
   ]
  },
  {
   "cell_type": "markdown",
   "id": "analyzed-soviet",
   "metadata": {},
   "source": [
    "##### Magic command"
   ]
  },
  {
   "cell_type": "code",
   "execution_count": 38,
   "id": "brilliant-invasion",
   "metadata": {},
   "outputs": [
    {
     "data": {
      "application/javascript": [
       "alert(\"hello, world!\");\n"
      ],
      "text/plain": [
       "<IPython.core.display.Javascript object>"
      ]
     },
     "metadata": {},
     "output_type": "display_data"
    }
   ],
   "source": [
    "%%js\n",
    "alert(\"hello, world!\");"
   ]
  },
  {
   "cell_type": "code",
   "execution_count": 39,
   "id": "muslim-cooperative",
   "metadata": {},
   "outputs": [
    {
     "data": {
      "application/javascript": [
       "var x = 5;\n",
       "var y = 6;\n",
       "var z = x + y;\n",
       "element.text(z)\n"
      ],
      "text/plain": [
       "<IPython.core.display.Javascript object>"
      ]
     },
     "metadata": {},
     "output_type": "display_data"
    }
   ],
   "source": [
    "%%js\n",
    "var x = 5;\n",
    "var y = 6;\n",
    "var z = x + y;\n",
    "element.text(z)"
   ]
  },
  {
   "cell_type": "markdown",
   "id": "adult-yield",
   "metadata": {},
   "source": [
    "##### IPython Javascript module"
   ]
  },
  {
   "cell_type": "code",
   "execution_count": 42,
   "id": "complex-arctic",
   "metadata": {},
   "outputs": [],
   "source": [
    "from IPython.display import Javascript"
   ]
  },
  {
   "cell_type": "code",
   "execution_count": 40,
   "id": "loose-lincoln",
   "metadata": {},
   "outputs": [],
   "source": [
    "js=\"\"\"var x = 5;\n",
    "var y = 6;\n",
    "var z = x + y;\n",
    "element.text(z)\"\"\""
   ]
  },
  {
   "cell_type": "code",
   "execution_count": 43,
   "id": "minimal-angle",
   "metadata": {},
   "outputs": [],
   "source": [
    "jsvar=Javascript(js)"
   ]
  },
  {
   "cell_type": "code",
   "execution_count": 44,
   "id": "handy-singer",
   "metadata": {},
   "outputs": [
    {
     "data": {
      "application/javascript": [
       "var x = 5;\n",
       "var y = 6;\n",
       "var z = x + y;\n",
       "element.text(z)"
      ],
      "text/plain": [
       "<IPython.core.display.Javascript object>"
      ]
     },
     "metadata": {},
     "output_type": "display_data"
    }
   ],
   "source": [
    "display(jsvar)"
   ]
  },
  {
   "cell_type": "code",
   "execution_count": 49,
   "id": "dressed-preparation",
   "metadata": {},
   "outputs": [
    {
     "data": {
      "application/javascript": [
       "var x = 5;\n",
       "var y = 6;\n",
       "var z = x + y;\n",
       "element.text(z)"
      ],
      "text/plain": [
       "<IPython.core.display.Javascript object>"
      ]
     },
     "metadata": {},
     "output_type": "display_data"
    }
   ],
   "source": [
    "js=Javascript(\n",
    "'''var x = 5;\n",
    "var y = 6;\n",
    "var z = x + y;\n",
    "element.text(z)''')\n",
    "display(js)"
   ]
  },
  {
   "cell_type": "markdown",
   "id": "surrounded-lounge",
   "metadata": {},
   "source": [
    "*one line* "
   ]
  },
  {
   "cell_type": "code",
   "execution_count": 50,
   "id": "banned-treasure",
   "metadata": {},
   "outputs": [
    {
     "data": {
      "application/javascript": [
       "alert(\"hello, world!\")"
      ],
      "text/plain": [
       "<IPython.core.display.Javascript object>"
      ]
     },
     "metadata": {},
     "output_type": "display_data"
    }
   ],
   "source": [
    "simpjs = Javascript('alert(\"hello, world!\")')\n",
    "display(simpjs)"
   ]
  },
  {
   "cell_type": "markdown",
   "id": "lyric-raleigh",
   "metadata": {},
   "source": [
    "### 13. Text Alignment"
   ]
  },
  {
   "cell_type": "markdown",
   "id": "suburban-bunny",
   "metadata": {},
   "source": []
  },
  {
   "cell_type": "markdown",
   "id": "acoustic-sustainability",
   "metadata": {},
   "source": [
    "<center> <h1>This is header 1</h1> </center> \n",
    "<center> <h2>This is header 2</h2> </center> \n",
    "<center> <h3>This is header 2</h3> </center> "
   ]
  },
  {
   "cell_type": "markdown",
   "id": "negative-cross",
   "metadata": {},
   "source": [
    "<h1><center>This is header 1</center></h1>  \n",
    "<h2><center>This is header 1</center></h2>   \n",
    "<h2><center>This is header 1</center></h2>   "
   ]
  },
  {
   "cell_type": "markdown",
   "id": "enormous-dance",
   "metadata": {},
   "source": [
    "# <center>This is header 1</center>\n",
    "## <center>This is header 2</center>\n",
    "### <center>This is header 3</center>"
   ]
  },
  {
   "cell_type": "markdown",
   "id": "printable-halloween",
   "metadata": {},
   "source": [
    "### 13. Markdown Table Alignment\n",
    "- It is very handy to make a table use markedown, but\n",
    "- The defaut table is center alignmenment\n",
    "- Many people ask this question\n",
    "\n",
    "#### Table: left or right alignment"
   ]
  },
  {
   "cell_type": "markdown",
   "id": "missing-proportion",
   "metadata": {},
   "source": [
    "| Name | Gender | Age| Origin| \n",
    "| :--- | :---: | :---: | :---:|\n",
    "| Jack | Male| 23 |USA|\n",
    "|Susan | Female| 22 | Canada |"
   ]
  },
  {
   "cell_type": "code",
   "execution_count": 21,
   "id": "subtle-modeling",
   "metadata": {},
   "outputs": [
    {
     "data": {
      "text/html": [
       "<style>\n",
       "table {float:left}\n",
       "</style>\n"
      ],
      "text/plain": [
       "<IPython.core.display.HTML object>"
      ]
     },
     "metadata": {},
     "output_type": "display_data"
    }
   ],
   "source": [
    "%%html\n",
    "<style>\n",
    "table {float:left}\n",
    "</style>"
   ]
  },
  {
   "cell_type": "markdown",
   "id": "herbal-authentication",
   "metadata": {},
   "source": [
    "### 14.  Math equation alignments \n",
    "\n",
    "Right alignment\n",
    "\n",
    "$ax^2+bc+c$\n",
    "\n",
    "Center alignment\n",
    "\n",
    "$$I_{xx}=\\int\\int_Ry^2f(x,y)\\cdot{}dydx$$"
   ]
  },
  {
   "cell_type": "markdown",
   "id": "mental-tumor",
   "metadata": {},
   "source": [
    "### 15. Image size and alignment"
   ]
  },
  {
   "cell_type": "markdown",
   "id": "needed-brunswick",
   "metadata": {},
   "source": [
    "#### Normal way to insert a image in Markdown\n",
    " \n",
    "![width:100](./images/line3.png)\n",
    "\n",
    "－But it does not work to just the size and align the position"
   ]
  },
  {
   "cell_type": "markdown",
   "id": "medium-contact",
   "metadata": {},
   "source": [
    "<img src=\"./images/line3.png\" \n",
    "     alt=\"alt_text\" align=\"left\" \n",
    "     width=\"500\" />"
   ]
  },
  {
   "cell_type": "markdown",
   "id": "satellite-communications",
   "metadata": {},
   "source": [
    "#### More images on one row "
   ]
  },
  {
   "cell_type": "markdown",
   "id": "amino-journalist",
   "metadata": {},
   "source": [
    "<img src=\"./images/simpleLine.png\" \n",
    "     alt=\"alt_text\" align=\"left\" \n",
    "     width=\"300\" />\n",
    "<img src=\"./images/simpleBar.png\" \n",
    "     alt=\"alt_text\" align=\"center\" \n",
    "     width=\"300\" />"
   ]
  },
  {
   "cell_type": "code",
   "execution_count": 2,
   "id": "suffering-second",
   "metadata": {
    "scrolled": true
   },
   "outputs": [
    {
     "data": {
      "text/html": [
       "<table>      <tr>      <td>      <img src='./images/simplePie.png'width=200>      </td>      <td>      <img src='./images/simpleBar.png'width=200>      </td>      <td>      <img src='./images/simpleLine.png'width=200>      </td>      </tr>      </table>"
      ],
      "text/plain": [
       "<IPython.core.display.HTML object>"
      ]
     },
     "metadata": {},
     "output_type": "display_data"
    }
   ],
   "source": [
    "from IPython.display import HTML, display\n",
    "display\\3\n",
    "(HTML(\"<table>\\\n",
    "      <tr>\\\n",
    "      <td>\\\n",
    "      <img src='./images/simplePie.png'width=200>\\\n",
    "      </td>\\\n",
    "      <td>\\\n",
    "      <img src='./images/simpleBar.png'width=200>\\\n",
    "      </td>\\\n",
    "      <td>\\\n",
    "      <img src='./images/simpleLine.png'width=200>\\\n",
    "      </td>\\\n",
    "      </tr>\\\n",
    "      </table>\"))"
   ]
  },
  {
   "cell_type": "markdown",
   "id": "located-advancement",
   "metadata": {},
   "source": [
    "### 16. Awesome Slideshow\n",
    "#### JS Slide Maker"
   ]
  },
  {
   "cell_type": "markdown",
   "id": "respiratory-ordinance",
   "metadata": {},
   "source": [
    "#### Powerful Slideshow\n",
    "- view --> Cell Toolbars --> Slideshow -->"
   ]
  },
  {
   "cell_type": "markdown",
   "id": "wound-surge",
   "metadata": {},
   "source": [
    "### 17. Standalone Web Applications and Dashboards\n",
    "- Jupyter notbook is not ideal to address non-technical readers due to many codes\n",
    "  - we have to run our codes to show the results\n",
    "  - Many codes might distract their attention and confuse them\n",
    "- Sometime, we don‘t　want disclouse your methods and model to public\n",
    "- **Voilà** Converts Jupyter notebook to a standalone web applications and dashboards "
   ]
  },
  {
   "cell_type": "markdown",
   "id": "scenic-profile",
   "metadata": {},
   "source": [
    "#### Installation and first-time use\n",
    "`pip install voila` or    \n",
    "`conda install voila -c conda-forge`"
   ]
  },
  {
   "cell_type": "code",
   "execution_count": null,
   "id": "tracked-checklist",
   "metadata": {},
   "outputs": [],
   "source": []
  }
 ],
 "metadata": {
  "celltoolbar": "Slideshow",
  "kernelspec": {
   "display_name": "Python 3",
   "language": "python",
   "name": "python3"
  },
  "language_info": {
   "codemirror_mode": {
    "name": "ipython",
    "version": 3
   },
   "file_extension": ".py",
   "mimetype": "text/x-python",
   "name": "python",
   "nbconvert_exporter": "python",
   "pygments_lexer": "ipython3",
   "version": "3.9.1"
  }
 },
 "nbformat": 4,
 "nbformat_minor": 5
}
