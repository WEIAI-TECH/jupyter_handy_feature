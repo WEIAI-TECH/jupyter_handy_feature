{
 "cells": [
  {
   "cell_type": "markdown",
   "id": "2a6e1bde",
   "metadata": {
    "slideshow": {
     "slide_type": "slide"
    }
   },
   "source": [
    "<br />       \n",
    "\n",
    "<img src='./images/school_logo.png' alt=\"Drawing\" style=\"width:300px;float: center\"/>   \n",
    "<br /> \n",
    "<br />    \n",
    "<h1 style='text-align: center;'> Running R Programming Language in Jupyter Notebook</h1>\n",
    "\n",
    "<h2 style='text-align: center;'> Shouke Wei, Ph.D.</h2>\n",
    "\n",
    "<br /> "
   ]
  },
  {
   "cell_type": "markdown",
   "id": "e0b5e041",
   "metadata": {},
   "source": [
    "The Jupyter system supports over 100 programming languages (called “kernels” in the Jupyter ecosystem) including Python, Java, R, Julia, Matlab,Scala, and many more (https://github.com/jupyter/jupyter/wiki/Jupyter-kernels). \n",
    "\n",
    "## Objective:\n",
    "- learn how to run R programming language in Jupyter notebook\n",
    "    - run R in Jupyter notebook using Python Kernel\n",
    "    - run R in Jupyter notebook using R kernel"
   ]
  },
  {
   "cell_type": "markdown",
   "id": "a24a65ea",
   "metadata": {},
   "source": [
    "## R Language\n",
    "\n",
    "R is an interpreted programming language for statistical computing and graphics, which is widely used among statisticians and data miners for developing statistical software and data analysis.\n",
    "\n",
    "There are several ways to setup Jupyter Notebook for R. We learn two straightforward ways:"
   ]
  },
  {
   "cell_type": "markdown",
   "id": "a34a3fdb",
   "metadata": {},
   "source": [
    "## 1. Run R in Jupyter notebook using Python Kernel\n",
    "This way allows us to run R and Python together in the same notebook."
   ]
  },
  {
   "cell_type": "markdown",
   "id": "174e41ea",
   "metadata": {},
   "source": [
    "### (1) Installation Requirements\n",
    "- Have Python installed in version 3.5 or higher\n",
    " - install Anaconda\n",
    " - install traditional Python \n",
    "- Have R installed in version 3.2 or highger\n",
    " - install by installer\n",
    " - install by conda  \n",
    "   `conda install -c r r-essentials`\n",
    "- Have Jupyter Notebook installed   \n",
    " `pip install notebook`   or   \n",
    " `conda install notebook`"
   ]
  },
  {
   "cell_type": "markdown",
   "id": "ce53696e",
   "metadata": {},
   "source": [
    "### (2) Install rpy2 library"
   ]
  },
  {
   "cell_type": "markdown",
   "id": "3828e06a",
   "metadata": {},
   "source": [
    "- install numpy   \n",
    "`pip install numpy`  \n",
    "- install pandas  \n",
    " `pip install pandas`\n",
    "- install rpy2 library  \n",
    " `pip install rpy2`  or   \n",
    " `conda install rpy2`"
   ]
  },
  {
   "cell_type": "code",
   "execution_count": 28,
   "id": "4266da81",
   "metadata": {},
   "outputs": [
    {
     "name": "stdout",
     "output_type": "stream",
     "text": [
      "The rpy2.ipython extension is already loaded. To reload it, use:\n",
      "  %reload_ext rpy2.ipython\n"
     ]
    }
   ],
   "source": [
    "# enables the %%R magic,only need run once\n",
    "%load_ext rpy2.ipython  "
   ]
  },
  {
   "cell_type": "code",
   "execution_count": 29,
   "id": "250fd11a",
   "metadata": {},
   "outputs": [
    {
     "name": "stdout",
     "output_type": "stream",
     "text": [
      "[1] 6\n"
     ]
    }
   ],
   "source": [
    "%%R\n",
    "x=6\n",
    "print(x)"
   ]
  },
  {
   "cell_type": "code",
   "execution_count": 50,
   "id": "adfcee0a",
   "metadata": {},
   "outputs": [
    {
     "name": "stderr",
     "output_type": "stream",
     "text": [
      "Exception ignored from cffi callback <function _consolewrite_ex at 0x000001A399A97760>:\n",
      "Traceback (most recent call last):\n",
      "  File \"C:\\Users\\Administrator.SC-202007221415\\AppData\\Local\\Programs\\Python\\Python310\\lib\\site-packages\\rpy2\\rinterface_lib\\callbacks.py\", line 132, in _consolewrite_ex\n",
      "    s = conversion._cchar_to_str_with_maxlen(buf, n, _CCHAR_ENCODING)\n",
      "  File \"C:\\Users\\Administrator.SC-202007221415\\AppData\\Local\\Programs\\Python\\Python310\\lib\\site-packages\\rpy2\\rinterface_lib\\conversion.py\", line 133, in _cchar_to_str_with_maxlen\n",
      "    s = ffi.string(c, maxlen).decode(encoding)\n",
      "UnicodeDecodeError: 'utf-8' codec can't decode byte 0xbd in position 0: invalid start byte\n",
      "Exception ignored from cffi callback <function _consolewrite_ex at 0x000001A399A97760>:\n",
      "Traceback (most recent call last):\n",
      "  File \"C:\\Users\\Administrator.SC-202007221415\\AppData\\Local\\Programs\\Python\\Python310\\lib\\site-packages\\rpy2\\rinterface_lib\\callbacks.py\", line 132, in _consolewrite_ex\n",
      "    s = conversion._cchar_to_str_with_maxlen(buf, n, _CCHAR_ENCODING)\n",
      "  File \"C:\\Users\\Administrator.SC-202007221415\\AppData\\Local\\Programs\\Python\\Python310\\lib\\site-packages\\rpy2\\rinterface_lib\\conversion.py\", line 133, in _cchar_to_str_with_maxlen\n",
      "    s = ffi.string(c, maxlen).decode(encoding)\n",
      "UnicodeDecodeError: 'utf-8' codec can't decode byte 0xd4 in position 4: invalid continuation byte\n"
     ]
    },
    {
     "name": "stdout",
     "output_type": "stream",
     "text": [
      "\n"
     ]
    }
   ],
   "source": [
    "%%R\n",
    "install.packages('ggplot')"
   ]
  },
  {
   "cell_type": "code",
   "execution_count": 41,
   "id": "11cce39d",
   "metadata": {},
   "outputs": [],
   "source": [
    "%%R\n",
    "install.packages('ggplot',repos='http://cran.us.r-project.org', quiet=TRUE)"
   ]
  },
  {
   "cell_type": "code",
   "execution_count": 55,
   "id": "b1a783ce",
   "metadata": {
    "scrolled": false
   },
   "outputs": [],
   "source": [
    "%%R\n",
    "library(ggplot2)"
   ]
  },
  {
   "cell_type": "markdown",
   "id": "0b1484c5",
   "metadata": {},
   "source": [
    "### （4） An example"
   ]
  },
  {
   "cell_type": "markdown",
   "id": "2c3115b9",
   "metadata": {},
   "source": [
    "### Python cell"
   ]
  },
  {
   "cell_type": "code",
   "execution_count": 52,
   "id": "ecffb0c6",
   "metadata": {
    "scrolled": true
   },
   "outputs": [
    {
     "data": {
      "text/html": [
       "<div>\n",
       "<style scoped>\n",
       "    .dataframe tbody tr th:only-of-type {\n",
       "        vertical-align: middle;\n",
       "    }\n",
       "\n",
       "    .dataframe tbody tr th {\n",
       "        vertical-align: top;\n",
       "    }\n",
       "\n",
       "    .dataframe thead th {\n",
       "        text-align: right;\n",
       "    }\n",
       "</style>\n",
       "<table border=\"1\" class=\"dataframe\">\n",
       "  <thead>\n",
       "    <tr style=\"text-align: right;\">\n",
       "      <th></th>\n",
       "      <th>x_var</th>\n",
       "      <th>y_var</th>\n",
       "    </tr>\n",
       "  </thead>\n",
       "  <tbody>\n",
       "    <tr>\n",
       "      <th>0</th>\n",
       "      <td>0</td>\n",
       "      <td>3</td>\n",
       "    </tr>\n",
       "    <tr>\n",
       "      <th>1</th>\n",
       "      <td>1</td>\n",
       "      <td>5</td>\n",
       "    </tr>\n",
       "    <tr>\n",
       "      <th>2</th>\n",
       "      <td>2</td>\n",
       "      <td>7</td>\n",
       "    </tr>\n",
       "    <tr>\n",
       "      <th>3</th>\n",
       "      <td>3</td>\n",
       "      <td>6</td>\n",
       "    </tr>\n",
       "    <tr>\n",
       "      <th>4</th>\n",
       "      <td>4</td>\n",
       "      <td>9</td>\n",
       "    </tr>\n",
       "    <tr>\n",
       "      <th>5</th>\n",
       "      <td>5</td>\n",
       "      <td>8</td>\n",
       "    </tr>\n",
       "    <tr>\n",
       "      <th>6</th>\n",
       "      <td>6</td>\n",
       "      <td>10</td>\n",
       "    </tr>\n",
       "    <tr>\n",
       "      <th>7</th>\n",
       "      <td>7</td>\n",
       "      <td>12</td>\n",
       "    </tr>\n",
       "    <tr>\n",
       "      <th>8</th>\n",
       "      <td>8</td>\n",
       "      <td>13</td>\n",
       "    </tr>\n",
       "    <tr>\n",
       "      <th>9</th>\n",
       "      <td>9</td>\n",
       "      <td>11</td>\n",
       "    </tr>\n",
       "  </tbody>\n",
       "</table>\n",
       "</div>"
      ],
      "text/plain": [
       "   x_var  y_var\n",
       "0      0      3\n",
       "1      1      5\n",
       "2      2      7\n",
       "3      3      6\n",
       "4      4      9\n",
       "5      5      8\n",
       "6      6     10\n",
       "7      7     12\n",
       "8      8     13\n",
       "9      9     11"
      ]
     },
     "execution_count": 52,
     "metadata": {},
     "output_type": "execute_result"
    }
   ],
   "source": [
    "import pandas as pd\n",
    "import numpy as np\n",
    "df = pd.DataFrame({\n",
    "    'x_var': [0, 1, 2, 3, 4, 5, 6, 7, 8, 9],\n",
    "    'y_var': [3, 5, 7, 6, 9, 8, 10, 12, 13, 11]\n",
    "})\n",
    "df"
   ]
  },
  {
   "cell_type": "markdown",
   "id": "40f4bde5",
   "metadata": {},
   "source": [
    "### R cell"
   ]
  },
  {
   "cell_type": "code",
   "execution_count": 56,
   "id": "604d3fbb",
   "metadata": {},
   "outputs": [
    {
     "name": "stderr",
     "output_type": "stream",
     "text": [
      "R[write to console]: `geom_smooth()` using method = 'loess' and formula 'y ~ x'\n",
      "\n"
     ]
    },
    {
     "data": {
      "image/png": "[encoded data removed]"
     },
     "metadata": {},
     "output_type": "display_data"
    }
   ],
   "source": [
    "%%R -i df -w 3 -h 3 --units in -r 200\n",
    "# -i is for \"input\": means that we pass data df as input to R\n",
    "# make default figure size 3 by 3 inches with 200 dpi resolution\n",
    "# units can be changed to px, cm, etc\n",
    "install.packages('ggplot',repos='http://cran.us.r-project.org', quiet=TRUE)\n",
    "library(ggplot2)\n",
    "\n",
    "ggplot(data = df, aes(x = x_var, y = y_var)) +\n",
    "  geom_point(color = 'red', size = 4) +\n",
    "    stat_smooth()"
   ]
  },
  {
   "cell_type": "markdown",
   "id": "7451604d",
   "metadata": {},
   "source": [
    "`%%R` must be at beginning of a cell, otherwise it will cause errors."
   ]
  },
  {
   "cell_type": "code",
   "execution_count": 57,
   "id": "1633796b",
   "metadata": {},
   "outputs": [
    {
     "ename": "SyntaxError",
     "evalue": "positional argument follows keyword argument (Temp/ipykernel_4768/2871605531.py, line 9)",
     "output_type": "error",
     "traceback": [
      "\u001b[1;36m  File \u001b[1;32m\"C:\\Users\\ADMINI~1.SC-\\AppData\\Local\\Temp/ipykernel_4768/2871605531.py\"\u001b[1;36m, line \u001b[1;32m9\u001b[0m\n\u001b[1;33m    ggplot(data = df, aes(x = x_var, y = y_var)) +\u001b[0m\n\u001b[1;37m                                               ^\u001b[0m\n\u001b[1;31mSyntaxError\u001b[0m\u001b[1;31m:\u001b[0m positional argument follows keyword argument\n"
     ]
    }
   ],
   "source": [
    "# import df from global environment\n",
    "# make default figure size 3 by 3 inches with 200 dpi resolution\n",
    "# units can be changed to px, cm, etc\n",
    "%%R -i df -w 3 -h 3 --units in -r 200\n",
    "\n",
    "install.packages('ggplot',repos='http://cran.us.r-project.org', quiet=TRUE)\n",
    "library(ggplot2)\n",
    "\n",
    "ggplot(data = df, aes(x = x_var, y = y_var)) +\n",
    "  geom_point(color = 'red', size = 4) +\n",
    "    stat_smooth()"
   ]
  },
  {
   "cell_type": "markdown",
   "id": "eceed0f2",
   "metadata": {},
   "source": [
    "## 2. Run R in Jupyter notebook using R kernel"
   ]
  },
  {
   "cell_type": "markdown",
   "id": "dadd8d83",
   "metadata": {},
   "source": [
    "### (1) Install R kernel for Jupyter Notebook via CRAN  \n",
    "`IRkernel` can be installed via the Comprehensive R Archive Network [CRAN]. \n",
    " \n",
    "`install.packages('IRkernel')` "
   ]
  },
  {
   "cell_type": "markdown",
   "id": "e640993d",
   "metadata": {},
   "source": [
    "### (2) Making the kernel available to Jupyter\n",
    "\n",
    "`IRkernel::installspec()` will install a kernel with the name “ir” and a display name of “R”. \n",
    "\n",
    "By default, it installs the kernel per-user. To install system-wide, set user to False in the installspec command:   \n",
    " `IRkernel::installspec(user = FALSE)` # to register the kernel in the current R installation"
   ]
  },
  {
   "cell_type": "markdown",
   "id": "567c6a9c",
   "metadata": {},
   "source": [
    "### (3) Create R Jupyter Notebook\n",
    "Creat a new notebook and select R kernel, and copy the following code in the cell."
   ]
  },
  {
   "cell_type": "markdown",
   "id": "d9801d4b",
   "metadata": {},
   "source": [
    "```R\n",
    "n <- floor(rnorm(10000, mean = 200, sd = 50))\n",
    "t <- table(n)\n",
    "barplot(t)\n",
    "```"
   ]
  },
  {
   "cell_type": "markdown",
   "id": "689f428d",
   "metadata": {},
   "source": [
    "And then run jupyter notebook, and the Jupyter Notebook now supports both Python 3 and R programming languages."
   ]
  },
  {
   "cell_type": "code",
   "execution_count": null,
   "id": "3c126811",
   "metadata": {},
   "outputs": [],
   "source": []
  }
 ],
 "metadata": {
  "kernelspec": {
   "display_name": "Python 3",
   "language": "python",
   "name": "python3"
  },
  "language_info": {
   "codemirror_mode": {
    "name": "ipython",
    "version": 3
   },
   "file_extension": ".py",
   "mimetype": "text/x-python",
   "name": "python",
   "nbconvert_exporter": "python",
   "pygments_lexer": "ipython3",
   "version": "3.8.8"
  }
 },
 "nbformat": 4,
 "nbformat_minor": 5
}
