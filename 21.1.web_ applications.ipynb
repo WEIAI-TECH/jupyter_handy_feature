{
 "cells": [
  {
   "cell_type": "markdown",
   "id": "neural-group",
   "metadata": {
    "slideshow": {
     "slide_type": "slide"
    }
   },
   "source": [
    "<img src=\"./images/weiailogo2.png\"\n",
    "     style=\"float: right\"\n",
    "     width=100\n",
    "     style=\"padding-bottom:30px;\"/>\n",
    "<br>\n",
    "\n",
    "<img style=\"float: left;\" src= \"./images/python-logo.svg\" width=\"300\">    \n",
    "<img  style=\"float: center;\" src=\"./images/jupyter-logo.svg\" width=\"100\">\n",
    "\n",
    "\n",
    "# Converting Jupyter Notebooks into Standalone Web Applications\n",
    "\n",
    "## Sigmund S. Wei, Ph.D. Professor"
   ]
  },
  {
   "cell_type": "code",
   "execution_count": null,
   "id": "israeli-allocation",
   "metadata": {},
   "outputs": [],
   "source": []
  },
  {
   "cell_type": "markdown",
   "id": "broken-positive",
   "metadata": {},
   "source": [
    "## 12.1. What is Voilà\n",
    "\n",
    "Voilà is an open-source Python library, which allows you to turn the jupyter notebook into a standalone web application and dashboards. \n",
    "\n",
    "For more information about Voilà, please refers to the [Document of Voilà](https://voila.readthedocs.io/en/stable/)."
   ]
  },
  {
   "cell_type": "markdown",
   "id": "forbidden-christmas",
   "metadata": {
    "slideshow": {
     "slide_type": "slide"
    }
   },
   "source": [
    "## 12.2. Installation Voilà\n",
    "\n",
    "Voilà can be installed from either pypi or conda:\n",
    "\n",
    "**from pypy:**   \n",
    "`pip install voila`\n",
    "\n",
    "**or from conda-forge:**   \n",
    "`conda install voila -c conda-forge`"
   ]
  },
  {
   "cell_type": "markdown",
   "id": "obvious-standing",
   "metadata": {
    "slideshow": {
     "slide_type": "slide"
    }
   },
   "source": [
    "## 12.3. Create a Web Plot  App "
   ]
  },
  {
   "cell_type": "markdown",
   "id": "rapid-revolution",
   "metadata": {},
   "source": [
    "### (1) Import required libraries, packages and methods"
   ]
  },
  {
   "cell_type": "code",
   "execution_count": 2,
   "id": "polished-triumph",
   "metadata": {
    "slideshow": {
     "slide_type": "slide"
    }
   },
   "outputs": [],
   "source": [
    "import numpy as np\n",
    "import matplotlib.pyplot as plt\n",
    "from ipywidgets import interactive, HBox,Layout,Button,GridspecLayout"
   ]
  },
  {
   "cell_type": "markdown",
   "id": "leading-grant",
   "metadata": {},
   "source": [
    "### (2) Choose aesthetic styles for plot"
   ]
  },
  {
   "cell_type": "code",
   "execution_count": 3,
   "id": "retired-frequency",
   "metadata": {
    "slideshow": {
     "slide_type": "slide"
    }
   },
   "outputs": [],
   "source": [
    "plt.style.use('ggplot')"
   ]
  },
  {
   "cell_type": "markdown",
   "id": "fatal-spray",
   "metadata": {},
   "source": [
    "### (3) Use matplotlib widget\n",
    "\n",
    "Use matplotlib with widget extension by calling jupyter magic command `%matplotlib widget`. The reason behind this is that we want a matplotlib plot as a widget."
   ]
  },
  {
   "cell_type": "code",
   "execution_count": 4,
   "id": "laughing-selling",
   "metadata": {},
   "outputs": [],
   "source": [
    "%matplotlib widget "
   ]
  },
  {
   "cell_type": "markdown",
   "id": "creative-traveler",
   "metadata": {},
   "source": [
    "### (4) Define the sinwave plot function"
   ]
  },
  {
   "cell_type": "code",
   "execution_count": 14,
   "id": "variable-visiting",
   "metadata": {
    "slideshow": {
     "slide_type": "slide"
    }
   },
   "outputs": [],
   "source": [
    "def sinwave(A, f, phi,color):\n",
    "    # set up plot\n",
    "    fig, ax = plt.subplots(figsize=(10,4))\n",
    "    ax.set_ylim([-4, 4])\n",
    "    ax.grid(True)\n",
    "    ax.set_xlabel('X')\n",
    "    ax.set_ylabel('Sine Wave')\n",
    "    ax.set_title('Sine Wave Widget for Interactive Plot')\n",
    "    \n",
    "    fig.canvas.toolbar_position = 'bottom' # set zoom-able and resize-able under the figure\n",
    "    fig.canvas.header_visible = False # Hide the Figure name at the top of the figure\n",
    "    \n",
    "    # generate x values\n",
    "    x = np.linspace(0, 2 * np.pi, 100)\n",
    "    y = A*np.sin(x*f + phi);\n",
    "\n",
    "    ax.plot(x,y,color)"
   ]
  },
  {
   "cell_type": "markdown",
   "id": "funky-sampling",
   "metadata": {},
   "source": [
    "### (5) Create a color list "
   ]
  },
  {
   "cell_type": "code",
   "execution_count": 6,
   "id": "pursuant-absence",
   "metadata": {
    "slideshow": {
     "slide_type": "slide"
    }
   },
   "outputs": [],
   "source": [
    "colors = ['blue', 'red', 'orange']"
   ]
  },
  {
   "cell_type": "markdown",
   "id": "intense-wyoming",
   "metadata": {},
   "source": [
    "### (6) Create a widget for interative plot"
   ]
  },
  {
   "cell_type": "code",
   "execution_count": 7,
   "id": "comprehensive-silver",
   "metadata": {
    "slideshow": {
     "slide_type": "slide"
    }
   },
   "outputs": [],
   "source": [
    "widget = interactive(sinwave,A=(0, 4, .1),f=(0, 10, 1), phi=(0, 2, 0.5),color=colors)"
   ]
  },
  {
   "cell_type": "markdown",
   "id": "mysterious-coaching",
   "metadata": {},
   "source": [
    "The children of the interactive is a list, which inlcudes a dropdown color list,two floatsliders, one intslider and a plot output widget."
   ]
  },
  {
   "cell_type": "code",
   "execution_count": 8,
   "id": "indonesian-allah",
   "metadata": {},
   "outputs": [
    {
     "data": {
      "text/plain": [
       "(Dropdown(description='color', options=('blue', 'red', 'orange'), value='blue'),\n",
       " FloatSlider(value=2.0, description='A', max=4.0),\n",
       " IntSlider(value=5, description='f', max=10),\n",
       " FloatSlider(value=1.0, description='phi', max=2.0, step=0.5),\n",
       " Output())"
      ]
     },
     "execution_count": 8,
     "metadata": {},
     "output_type": "execute_result"
    }
   ],
   "source": [
    "widget.children"
   ]
  },
  {
   "cell_type": "markdown",
   "id": "addressed-motorcycle",
   "metadata": {},
   "source": [
    "### (7) Create the control widget and plot widget\n",
    "\n"
   ]
  },
  {
   "cell_type": "code",
   "execution_count": 11,
   "id": "alive-termination",
   "metadata": {},
   "outputs": [],
   "source": [
    "controls = HBox(widget.children[:-1], layout = Layout(flex_flow='column wrap'),width='auto', height='auto')\n",
    "output = widget.children[-1]"
   ]
  },
  {
   "cell_type": "markdown",
   "id": "lightweight-modeling",
   "metadata": {},
   "source": [
    "### (8) Define expanded button function"
   ]
  },
  {
   "cell_type": "code",
   "execution_count": 12,
   "id": "viral-spice",
   "metadata": {},
   "outputs": [],
   "source": [
    "def create_expanded_button(description, button_style):\n",
    "    return Button(description=description, button_style=button_style, layout=Layout(height='auto', width='auto'))"
   ]
  },
  {
   "cell_type": "markdown",
   "id": "medieval-meaning",
   "metadata": {},
   "source": [
    "### (9) Using widget template \n",
    "Ipywidgets have three main different layout templates used to arrange multiple widgets together. \n",
    "- `TwoByTwoLayout`: create a layout with 4 widgets arranged on 2x2 matrix\n",
    "- `AppLayout`: allows you to create an application-like widget arrangements, which consists of a header, a footer, two sidebars and a central pane. \n",
    "- `GridspecLayout`: a N-by-M grid layout, which allows to create flexible layout \n",
    "\n",
    "More details about these widget templates can be refered to [layout templates](https://ipywidgets.readthedocs.io/en/latest/examples/Layout%20Templates.html) of ipywidgets.   "
   ]
  },
  {
   "cell_type": "code",
   "execution_count": 15,
   "id": "antique-boost",
   "metadata": {},
   "outputs": [
    {
     "data": {
      "application/vnd.jupyter.widget-view+json": {
       "model_id": "47ecec50ea36485188d33d99f60997b7",
       "version_major": 2,
       "version_minor": 0
      },
      "text/plain": [
       "GridspecLayout(children=(Button(button_style='success', description='Sine Web Plot App', layout=Layout(grid_ar…"
      ]
     },
     "metadata": {},
     "output_type": "display_data"
    }
   ],
   "source": [
    "grid = GridspecLayout(17, 6, height='600px')\n",
    "grid[0,:] = create_expanded_button('Sine Web Plot App', 'success')\n",
    "grid[2:15, 0:2] = controls\n",
    "grid[1:16, 2:] = output\n",
    "grid[16,:] = create_expanded_button('\\xa9 2021 Copyright Shouke Wei', 'info')\n",
    "\n",
    "grid"
   ]
  },
  {
   "cell_type": "markdown",
   "id": "devoted-cornell",
   "metadata": {},
   "source": [
    "The Button widget has a button_style attribute that may take 5 different values:\n",
    "```markdown\n",
    "'primary'\n",
    "'success'\n",
    "'info'\n",
    "'warning'\n",
    "'danger'\n",
    "```"
   ]
  },
  {
   "cell_type": "markdown",
   "id": "increased-airport",
   "metadata": {},
   "source": [
    "## 12.4. Test Web App with Voilà\n",
    "\n",
    "Let's create a seperate new notebook named as `sinplotApp` for example, and then copy the above codes in the new notebook. The final codes looks as follows:"
   ]
  }
 ],
 "metadata": {
  "kernelspec": {
   "display_name": "Python 3",
   "language": "python",
   "name": "python3"
  },
  "language_info": {
   "codemirror_mode": {
    "name": "ipython",
    "version": 3
   },
   "file_extension": ".py",
   "mimetype": "text/x-python",
   "name": "python",
   "nbconvert_exporter": "python",
   "pygments_lexer": "ipython3",
   "version": "3.8.8"
  }
 },
 "nbformat": 4,
 "nbformat_minor": 5
}
