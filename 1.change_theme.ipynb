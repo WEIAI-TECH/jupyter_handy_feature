{
 "cells": [
  {
   "cell_type": "markdown",
   "id": "excess-supervision",
   "metadata": {
    "slideshow": {
     "slide_type": "slide"
    }
   },
   "source": [
    " <img src=\"./images/python-logo.png\" \n",
    "     alt=\"alt_text\" align=\"left\" \n",
    "     width=\"350\" />\n",
    "<img src=\"./images/jupyter-logo.svg\" \n",
    "     alt=\"alt_text\" align=\"center\" \n",
    "     width=\"100\" />\n",
    "\n",
    "# Handy Features of Jupyter Notebook: 1. Change Theme\n",
    "                                                                    \n",
    "\n",
    "### Sigmund S. Wei, Ph.D. Professor\n",
    "\n",
    "Email: shouke.wei@gmail.com\n",
    "\n",
    "2021-02-18"
   ]
  },
  {
   "cell_type": "markdown",
   "id": "quiet-elizabeth",
   "metadata": {
    "slideshow": {
     "slide_type": "skip"
    }
   },
   "source": [
    "### Objective\n",
    "- introduce you some pretty handy and interesting features of Jupyter Notebook rather than to \n",
    "- teach you how to use Jupyter notebook in details."
   ]
  },
  {
   "cell_type": "markdown",
   "id": "adverse-ontario",
   "metadata": {
    "slideshow": {
     "slide_type": "slide"
    }
   },
   "source": [
    "### 1. Chang the Theme of Jupyter Notebook   \n",
    "The defaut theme of Jupyter notebook is white, and there is no menue where we can change the theme. In this tutorial, we will learn how to change the theme of Jupyter notebook. I will introduce you the package from four points:\n",
    "\n",
    "- Install jupyter-theme package\n",
    "- Check the available themes in the package\n",
    "- Change the theme\n",
    "- Restore the orginal theme\n"
   ]
  },
  {
   "cell_type": "markdown",
   "id": "incredible-equilibrium",
   "metadata": {
    "slideshow": {
     "slide_type": "slide"
    }
   },
   "source": [
    "### (1) Install `jupyter-theme package`\n",
    "\n",
    "#### use `pip`"
   ]
  },
  {
   "cell_type": "code",
   "execution_count": null,
   "id": "individual-description",
   "metadata": {
    "slideshow": {
     "slide_type": "slide"
    }
   },
   "outputs": [],
   "source": [
    "pip install jupyterthemes"
   ]
  },
  {
   "cell_type": "markdown",
   "id": "dedicated-differential",
   "metadata": {
    "slideshow": {
     "slide_type": "slide"
    }
   },
   "source": [
    "#### or use conda"
   ]
  },
  {
   "cell_type": "code",
   "execution_count": null,
   "id": "sized-yugoslavia",
   "metadata": {
    "slideshow": {
     "slide_type": "slide"
    }
   },
   "outputs": [],
   "source": [
    "conda install -c conda-forge jupyterthemes"
   ]
  },
  {
   "cell_type": "markdown",
   "id": "corporate-barbados",
   "metadata": {
    "slideshow": {
     "slide_type": "slide"
    }
   },
   "source": [
    "### (2) Check the available themes"
   ]
  },
  {
   "cell_type": "code",
   "execution_count": null,
   "id": "official-turtle",
   "metadata": {
    "slideshow": {
     "slide_type": "slide"
    }
   },
   "outputs": [],
   "source": [
    "jt -l # in terminal or windows cmd, powershell"
   ]
  },
  {
   "cell_type": "code",
   "execution_count": 2,
   "id": "floral-morocco",
   "metadata": {
    "slideshow": {
     "slide_type": "slide"
    }
   },
   "outputs": [
    {
     "name": "stdout",
     "output_type": "stream",
     "text": [
      "Available Themes: \r\n",
      "   chesterish\r\n",
      "   grade3\r\n",
      "   gruvboxd\r\n",
      "   gruvboxl\r\n",
      "   monokai\r\n",
      "   oceans16\r\n",
      "   onedork\r\n",
      "   solarizedd\r\n",
      "   solarizedl\r\n"
     ]
    }
   ],
   "source": [
    "!jt -l # inside Jupyter notebook"
   ]
  },
  {
   "cell_type": "markdown",
   "id": "liberal-amsterdam",
   "metadata": {
    "slideshow": {
     "slide_type": "slide"
    }
   },
   "source": [
    "### (3) change the theme:\n",
    "`jt -t [themename]` or   \n",
    "`jt -t [themename] -T`\n",
    "\n",
    "The difference is that the first one makes toolbar unavaible."
   ]
  },
  {
   "cell_type": "markdown",
   "id": "further-newark",
   "metadata": {
    "slideshow": {
     "slide_type": "skip"
    }
   },
   "source": [
    "### The first method"
   ]
  },
  {
   "cell_type": "code",
   "execution_count": null,
   "id": "variable-utilization",
   "metadata": {},
   "outputs": [],
   "source": [
    "# In terminal\n",
    "jt -t monokai "
   ]
  },
  {
   "cell_type": "code",
   "execution_count": null,
   "id": "abroad-wireless",
   "metadata": {},
   "outputs": [],
   "source": [
    "# inside jupyter notebook\n",
    "\n",
    "!jt -t monokai"
   ]
  },
  {
   "cell_type": "markdown",
   "id": "pediatric-contribution",
   "metadata": {},
   "source": [
    "- For the first time to change the theme, you should restart the notebook.\n",
    "- But it only need refresh the browser when changing the theme again"
   ]
  },
  {
   "cell_type": "markdown",
   "id": "genetic-plasma",
   "metadata": {},
   "source": [
    "Toolbar are missing"
   ]
  },
  {
   "cell_type": "markdown",
   "id": "paperback-bracket",
   "metadata": {},
   "source": [
    "### The second methods "
   ]
  },
  {
   "cell_type": "code",
   "execution_count": null,
   "id": "hungry-trunk",
   "metadata": {},
   "outputs": [],
   "source": [
    "# In terminal\n",
    "jt -t monokai -T"
   ]
  },
  {
   "cell_type": "code",
   "execution_count": null,
   "id": "hispanic-minneapolis",
   "metadata": {},
   "outputs": [],
   "source": [
    "# Inside Jupyter notebook\n",
    "!jt -t monokai -T"
   ]
  },
  {
   "cell_type": "markdown",
   "id": "satellite-headquarters",
   "metadata": {},
   "source": [
    "It need \"Toggle the toolbar\"\n",
    "- run each of the following code\n",
    "- then go to `view`, choose `Toggle Toolbar`"
   ]
  },
  {
   "cell_type": "markdown",
   "id": "robust-aggregate",
   "metadata": {},
   "source": [
    "### (4) Retore the orginal theme"
   ]
  },
  {
   "cell_type": "code",
   "execution_count": null,
   "id": "twelve-houston",
   "metadata": {},
   "outputs": [],
   "source": [
    "# In termal: \n",
    "`jt -r`"
   ]
  },
  {
   "cell_type": "code",
   "execution_count": 1,
   "id": "rolled-glossary",
   "metadata": {},
   "outputs": [
    {
     "name": "stdout",
     "output_type": "stream",
     "text": [
      "Reset css and font defaults in:\r\n",
      "/home/sigmund/.jupyter/custom &\r\n",
      "/home/sigmund/.local/share/jupyter/nbextensions\r\n"
     ]
    }
   ],
   "source": [
    "# Inside Jupyter\n",
    "!jt -r"
   ]
  },
  {
   "cell_type": "code",
   "execution_count": null,
   "id": "animated-courtesy",
   "metadata": {},
   "outputs": [],
   "source": []
  }
 ],
 "metadata": {
  "celltoolbar": "Slideshow",
  "kernelspec": {
   "display_name": "Python 3",
   "language": "python",
   "name": "python3"
  },
  "language_info": {
   "codemirror_mode": {
    "name": "ipython",
    "version": 3
   },
   "file_extension": ".py",
   "mimetype": "text/x-python",
   "name": "python",
   "nbconvert_exporter": "python",
   "pygments_lexer": "ipython3",
   "version": "3.8.5"
  }
 },
 "nbformat": 4,
 "nbformat_minor": 5
}
