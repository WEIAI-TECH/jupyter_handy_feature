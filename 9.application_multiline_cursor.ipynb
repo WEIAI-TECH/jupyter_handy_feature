{
 "cells": [
  {
   "cell_type": "markdown",
   "id": "vocal-energy",
   "metadata": {
    "slideshow": {
     "slide_type": "slide"
    }
   },
   "source": [
    "<img src=\"./images/weiailogo2.png\"\n",
    "     style=\"float: right\"\n",
    "     width=150\n",
    "     style=\"padding-bottom:30px;\"/>\n",
    "<br>\n",
    "\n",
    "<img style=\"float: left;\" src= \"./images/python-logo.svg\" width=\"400\">    \n",
    "<img  style=\"float: center;\" src=\"./images/jupyter-logo.svg\" width=\"130\">\n",
    "\n",
    "\n",
    "# How to Use Multiline Cursor in Jupyter Notebook\n",
    "\n",
    "\n",
    "## Shouke Wei, Ph.D. Professor\n",
    "\n",
    "### 2021-03-01"
   ]
  },
  {
   "cell_type": "markdown",
   "id": "fitting-affect",
   "metadata": {
    "slideshow": {
     "slide_type": "slide"
    }
   },
   "source": [
    "## Contents\n",
    "- `Alt/Option` and `hold mouse to pull down`\n",
    "- It is very handy for multiline operations, including but not limited to\n",
    "  - Comments\n",
    "  - Indentation\n",
    "  - Bullets\n",
    "  - Emphasized text\n",
    "  - Text Alignment\n",
    "  - Make Tables\n",
    "  - Multiple Plots\n",
    "  - Multiple String Items"
   ]
  },
  {
   "cell_type": "markdown",
   "id": "inclusive-unemployment",
   "metadata": {
    "slideshow": {
     "slide_type": "slide"
    }
   },
   "source": [
    "## 1. Multiline Comments"
   ]
  },
  {
   "cell_type": "code",
   "execution_count": null,
   "id": "abandoned-participation",
   "metadata": {
    "slideshow": {
     "slide_type": "slide"
    }
   },
   "outputs": [],
   "source": [
    "print(\"Hello\")\n",
    "print(\"hi\")print(20)\n",
    "print(\"Hello1\")\n",
    "#print(\"hi2\")\n",
    "#print(20)\n",
    "#print(\"Hello1\")\n",
    "#print(\"hi2\")\n",
    "#print(23)"
   ]
  },
  {
   "cell_type": "markdown",
   "id": "fabulous-lingerie",
   "metadata": {
    "slideshow": {
     "slide_type": "slide"
    }
   },
   "source": [
    "## 2. Indentation "
   ]
  },
  {
   "cell_type": "markdown",
   "id": "acting-arbor",
   "metadata": {
    "slideshow": {
     "slide_type": "slide"
    }
   },
   "source": [
    "    Comments\n",
    "    Indentation\n",
    "    Bullets\n",
    "    Emphasized text\n",
    "    Text Alignment\n",
    "    Make Tables\n",
    "    Multiple Plots\n",
    "    Multiple String Items"
   ]
  },
  {
   "cell_type": "markdown",
   "id": "hispanic-suffering",
   "metadata": {
    "slideshow": {
     "slide_type": "slide"
    }
   },
   "source": [
    "## 3. Bullets "
   ]
  },
  {
   "cell_type": "markdown",
   "id": "equal-treatment",
   "metadata": {
    "slideshow": {
     "slide_type": "slide"
    }
   },
   "source": [
    "- Comments\n",
    "- Indentation\n",
    "- Bullets\n",
    "- Emphasized text\n",
    "- Text Alignment\n",
    "- Make Tables\n",
    "- Multiple Plots\n",
    "- Multiple String Items"
   ]
  },
  {
   "cell_type": "markdown",
   "id": "buried-travel",
   "metadata": {
    "slideshow": {
     "slide_type": "slide"
    }
   },
   "source": [
    "## 4. Emphasized Text"
   ]
  },
  {
   "cell_type": "markdown",
   "id": "minus-practitioner",
   "metadata": {
    "slideshow": {
     "slide_type": "slide"
    }
   },
   "source": [
    "**Comments**   \n",
    "**Indentation**   \n",
    "**Bullets**   \n",
    "**Emphasized text**   \n",
    "**Text Alignment**   \n",
    "**Make Tables**   \n",
    "**Multiple Plots**   \n",
    "**Multiple String It **     "
   ]
  },
  {
   "cell_type": "markdown",
   "id": "handed-puppy",
   "metadata": {
    "slideshow": {
     "slide_type": "slide"
    }
   },
   "source": [
    "## 5. Text Alignment"
   ]
  },
  {
   "cell_type": "markdown",
   "id": "uniform-judgment",
   "metadata": {},
   "source": [
    "# This is header 1\n",
    "## This is header 2\n",
    "## This is header 3"
   ]
  },
  {
   "cell_type": "markdown",
   "id": "competitive-compatibility",
   "metadata": {
    "slideshow": {
     "slide_type": "slide"
    }
   },
   "source": [
    "<center><h1>This is header 1</header1></center>\n",
    "<center><h2>This is header 2</header2></center>\n",
    "<center><h3>This is header 3</header3></center>"
   ]
  },
  {
   "cell_type": "markdown",
   "id": "removable-staff",
   "metadata": {
    "slideshow": {
     "slide_type": "slide"
    }
   },
   "source": [
    "## 5. Make Tables"
   ]
  },
  {
   "cell_type": "markdown",
   "id": "traditional-oracle",
   "metadata": {
    "slideshow": {
     "slide_type": "slide"
    }
   },
   "source": [
    "|head1|head2|head3|\n",
    "|---|---|---|\n",
    "|cell1|cell2|cell3|"
   ]
  },
  {
   "cell_type": "markdown",
   "id": "fatty-checklist",
   "metadata": {
    "slideshow": {
     "slide_type": "slide"
    }
   },
   "source": [
    "## 6. Multiple Plots"
   ]
  },
  {
   "cell_type": "code",
   "execution_count": 7,
   "id": "respected-isaac",
   "metadata": {
    "slideshow": {
     "slide_type": "slide"
    }
   },
   "outputs": [
    {
     "data": {
      "image/png": "[encoded data removed]",
      "text/plain": [
       "<Figure size 432x288 with 4 Axes>"
      ]
     },
     "metadata": {
      "needs_background": "light"
     },
     "output_type": "display_data"
    }
   ],
   "source": [
    "# Example \n",
    "import matplotlib\n",
    "import matplotlib.pyplot as plt\n",
    "import matplotlib.gridspec as gridspec\n",
    "\n",
    "fig2 = plt.figure(constrained_layout=True)\n",
    "spec2 = gridspec.GridSpec(ncols=2, nrows=2, figure=fig2)\n",
    "f2_ax1 = fig2.add_subplot(spec2[0, 0])\n",
    "f2_ax2 = fig2.add_subplot(spec2[0, 1])\n",
    "f2_ax3 = fig2.add_subplot(spec2[1, 0])\n",
    "f2_ax4 = fig2.add_subplot(spec2[1, 1])"
   ]
  },
  {
   "cell_type": "markdown",
   "id": "capable-norway",
   "metadata": {
    "slideshow": {
     "slide_type": "slide"
    }
   },
   "source": [
    "## 7. Multiple String Items"
   ]
  },
  {
   "cell_type": "code",
   "execution_count": 5,
   "id": "plain-grove",
   "metadata": {
    "slideshow": {
     "slide_type": "slide"
    }
   },
   "outputs": [],
   "source": [
    "fruitList=[\n",
    "    \"apple“，\n",
    "    \"banana“，\n",
    "    \"orange“，\n",
    "]"
   ]
  }
 ],
 "metadata": {
  "celltoolbar": "Slideshow",
  "kernelspec": {
   "display_name": "Python 3",
   "language": "python",
   "name": "python3"
  },
  "language_info": {
   "codemirror_mode": {
    "name": "ipython",
    "version": 3
   },
   "file_extension": ".py",
   "mimetype": "text/x-python",
   "name": "python",
   "nbconvert_exporter": "python",
   "pygments_lexer": "ipython3",
   "version": "3.8.5"
  }
 },
 "nbformat": 4,
 "nbformat_minor": 5
}
