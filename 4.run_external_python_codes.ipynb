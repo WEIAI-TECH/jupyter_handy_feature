{
 "cells": [
  {
   "cell_type": "markdown",
   "id": "vocal-energy",
   "metadata": {
    "slideshow": {
     "slide_type": "slide"
    }
   },
   "source": [
    "<img src=\"./images/weiailogo2.png\"\n",
    "     style=\"float: right\"\n",
    "     width=150\n",
    "     style=\"padding-bottom:30px;\"/>\n",
    "<br>\n",
    "\n",
    "<img style=\"float: left;\" src= \"./images/python-logo.svg\" width=\"400\">    \n",
    "<img  style=\"float: center;\" src=\"./images/jupyter-logo.svg\" width=\"130\">\n",
    "\n",
    "\n",
    "#  How to Run External Python Codes in Jupyter Notebook\n",
    "\n",
    "## Sigmund S. Wei, Ph.D. Professor\n",
    "\n",
    "### 2021-02-26"
   ]
  },
  {
   "cell_type": "markdown",
   "id": "fitting-affect",
   "metadata": {
    "slideshow": {
     "slide_type": "slide"
    }
   },
   "source": [
    "## Contents\n",
    "1. Run Python `.py` files\n",
    "2. Run Jupyter notebook `.ipynb` files\n",
    "3. Run Codes from Python and IPython Shells"
   ]
  },
  {
   "cell_type": "markdown",
   "id": "inclusive-unemployment",
   "metadata": {
    "slideshow": {
     "slide_type": "slide"
    }
   },
   "source": [
    "## 1. Run Python `.py` file\n",
    "### (1) Inisde Jupyter Notebook\n",
    "### (2) From Buit-in Terminal"
   ]
  },
  {
   "cell_type": "markdown",
   "id": "hispanic-suffering",
   "metadata": {
    "slideshow": {
     "slide_type": "slide"
    }
   },
   "source": [
    "### (1) Run .py files inside a Jupyter notebook \n",
    "- using a magic command %"
   ]
  },
  {
   "cell_type": "code",
   "execution_count": 15,
   "id": "printable-welsh",
   "metadata": {
    "slideshow": {
     "slide_type": "slide"
    }
   },
   "outputs": [
    {
     "data": {
      "image/png": "[encoded data removed]",
      "text/plain": [
       "<Figure size 432x288 with 1 Axes>"
      ]
     },
     "metadata": {
      "needs_background": "light"
     },
     "output_type": "display_data"
    }
   ],
   "source": [
    "# Example 1: a general Python code\n",
    "%run plot.py"
   ]
  },
  {
   "cell_type": "code",
   "execution_count": 16,
   "id": "christian-young",
   "metadata": {
    "slideshow": {
     "slide_type": "slide"
    }
   },
   "outputs": [],
   "source": [
    "# Example 2: function or class \n",
    "# method 1: using the magic comand %\n",
    "%run greeting.py"
   ]
  },
  {
   "cell_type": "code",
   "execution_count": 17,
   "id": "german-thirty",
   "metadata": {
    "slideshow": {
     "slide_type": "slide"
    }
   },
   "outputs": [
    {
     "name": "stdout",
     "output_type": "stream",
     "text": [
      "Hello, Jack!\n"
     ]
    }
   ],
   "source": [
    "hello(\"Jack\")"
   ]
  },
  {
   "cell_type": "code",
   "execution_count": 18,
   "id": "sweet-august",
   "metadata": {
    "slideshow": {
     "slide_type": "slide"
    }
   },
   "outputs": [
    {
     "name": "stdout",
     "output_type": "stream",
     "text": [
      "Hello, Jack!\n"
     ]
    }
   ],
   "source": [
    "# function and class\n",
    "# method 2: regard the .py as a module\n",
    "import greeting as gt\n",
    "gt.hello(\"Jack\")"
   ]
  },
  {
   "cell_type": "markdown",
   "id": "focal-housing",
   "metadata": {
    "slideshow": {
     "slide_type": "slide"
    }
   },
   "source": [
    "### (2) Run .py file from the build-in terminal\n",
    "- just as the normal terminal, but \n",
    "- it is already in the working directory"
   ]
  },
  {
   "cell_type": "markdown",
   "id": "buried-travel",
   "metadata": {
    "slideshow": {
     "slide_type": "slide"
    }
   },
   "source": [
    "## 2. Run external Jupyter notebook `.ipynb` files\n",
    "- inside a Jupyter notebook we run other Jupyter notebooks "
   ]
  },
  {
   "cell_type": "code",
   "execution_count": 19,
   "id": "incident-miniature",
   "metadata": {
    "slideshow": {
     "slide_type": "slide"
    }
   },
   "outputs": [
    {
     "name": "stdout",
     "output_type": "stream",
     "text": [
      "Hello, Jack!\n"
     ]
    }
   ],
   "source": [
    "# run other jupyter note file\n",
    "%run hello.ipynb"
   ]
  },
  {
   "cell_type": "markdown",
   "id": "filled-example",
   "metadata": {
    "slideshow": {
     "slide_type": "slide"
    }
   },
   "source": [
    "## 3. Run Codes from a [Python](https://docs.python.org/3/tutorial/interpreter.html) or [IPython](https://jakevdp.github.io/PythonDataScienceHandbook/01.02-shell-keyboard-shortcuts.html) Shell Session\n"
   ]
  },
  {
   "cell_type": "code",
   "execution_count": 20,
   "id": "functional-particular",
   "metadata": {
    "slideshow": {
     "slide_type": "slide"
    }
   },
   "outputs": [
    {
     "name": "stdout",
     "output_type": "stream",
     "text": [
      "Be careful not to fall off!\n"
     ]
    }
   ],
   "source": [
    "# code from a python shell\n",
    ">>> the_world_is_flat = True\n",
    ">>> if the_world_is_flat:\n",
    "...     print(\"Be careful not to fall off!\")"
   ]
  },
  {
   "cell_type": "code",
   "execution_count": 21,
   "id": "recorded-wright",
   "metadata": {
    "slideshow": {
     "slide_type": "slide"
    }
   },
   "outputs": [
    {
     "data": {
      "text/plain": [
       "4"
      ]
     },
     "execution_count": 21,
     "metadata": {},
     "output_type": "execute_result"
    }
   ],
   "source": [
    "# codes from a IPython shell\n",
    "In [1]: def square(a):\n",
    "    \"\"\"Return the square of a\"\"\"\n",
    "    return a ** 2\n",
    "\n",
    "In [2]: square(2)"
   ]
  }
 ],
 "metadata": {
  "celltoolbar": "Slideshow",
  "kernelspec": {
   "display_name": "Python 3",
   "language": "python",
   "name": "python3"
  },
  "language_info": {
   "codemirror_mode": {
    "name": "ipython",
    "version": 3
   },
   "file_extension": ".py",
   "mimetype": "text/x-python",
   "name": "python",
   "nbconvert_exporter": "python",
   "pygments_lexer": "ipython3",
   "version": "3.8.5"
  }
 },
 "nbformat": 4,
 "nbformat_minor": 5
}
