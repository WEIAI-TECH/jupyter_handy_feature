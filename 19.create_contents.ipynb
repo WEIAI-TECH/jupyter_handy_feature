{
 "cells": [
  {
   "cell_type": "markdown",
   "id": "vocal-energy",
   "metadata": {
    "slideshow": {
     "slide_type": "slide"
    }
   },
   "source": [
    "<img src=\"./images/weiailogo2.png\"\n",
    "     style=\"float: right\"\n",
    "     width=150\n",
    "     style=\"padding-bottom:30px;\"/>\n",
    "<br>\n",
    "<br>\n",
    "&nbsp; <img style=\"float:center;\" src= \"./images/Python-jupyter-logo.png\" width=\"900\">    \n",
    "<center> <h1>How to Create Table of Contents(TOC) in Jupyter Notebook</h1> </center> \n",
    "\n",
    "<center> <h2>Shouke Wei, Ph.D. Professor</h2> </center> \n",
    "\n",
    "<center> <h3>Email: shouke.wei@gmail.com</h3> </center> "
   ]
  },
  {
   "cell_type": "markdown",
   "id": "encouraging-sight",
   "metadata": {
    "slideshow": {
     "slide_type": "slide"
    }
   },
   "source": [
    " ## Contents   \n",
    " \n",
    "1. [Introduction](#1.-Introduction)   \n",
    "     1.1 [Background](#1.1-Background)   \n",
    "     1.2 [Objectives](#1.2-Objectives)   \n",
    "2. [Methods](#2.-Methods)   \n",
    "      2.1 [Models](#2.1-Models)   \n",
    "      2.2 [Data sampling](#2.2-Data-sampling)  "
   ]
  },
  {
   "cell_type": "code",
   "execution_count": null,
   "id": "negative-shore",
   "metadata": {},
   "outputs": [],
   "source": []
  },
  {
   "cell_type": "code",
   "execution_count": null,
   "id": "understanding-worker",
   "metadata": {},
   "outputs": [],
   "source": []
  },
  {
   "cell_type": "code",
   "execution_count": null,
   "id": "central-essence",
   "metadata": {},
   "outputs": [],
   "source": []
  },
  {
   "cell_type": "code",
   "execution_count": null,
   "id": "upper-residence",
   "metadata": {},
   "outputs": [],
   "source": []
  },
  {
   "cell_type": "markdown",
   "id": "working-christmas",
   "metadata": {
    "slideshow": {
     "slide_type": "slide"
    }
   },
   "source": [
    "## 1. Introduction\n",
    "Content for the introudction.\n"
   ]
  },
  {
   "cell_type": "code",
   "execution_count": null,
   "id": "regulation-redhead",
   "metadata": {},
   "outputs": [],
   "source": []
  },
  {
   "cell_type": "markdown",
   "id": "arbitrary-delhi",
   "metadata": {},
   "source": [
    "### 1.1 Background\n",
    "Text for the background"
   ]
  },
  {
   "cell_type": "code",
   "execution_count": null,
   "id": "imperial-framework",
   "metadata": {},
   "outputs": [],
   "source": []
  },
  {
   "cell_type": "code",
   "execution_count": null,
   "id": "rocky-turkish",
   "metadata": {},
   "outputs": [],
   "source": []
  },
  {
   "cell_type": "markdown",
   "id": "involved-sender",
   "metadata": {},
   "source": [
    "### 1.2 Objectives\n",
    "Text for the objectives"
   ]
  },
  {
   "cell_type": "code",
   "execution_count": null,
   "id": "steady-elimination",
   "metadata": {},
   "outputs": [],
   "source": []
  },
  {
   "cell_type": "code",
   "execution_count": null,
   "id": "cleared-domestic",
   "metadata": {},
   "outputs": [],
   "source": []
  },
  {
   "cell_type": "markdown",
   "id": "brilliant-guyana",
   "metadata": {
    "slideshow": {
     "slide_type": "slide"
    }
   },
   "source": [
    "\n",
    "## 2. Methods\n",
    "\n",
    "Content for this part."
   ]
  },
  {
   "cell_type": "code",
   "execution_count": null,
   "id": "judicial-samoa",
   "metadata": {},
   "outputs": [],
   "source": []
  },
  {
   "cell_type": "markdown",
   "id": "optimum-marijuana",
   "metadata": {},
   "source": [
    "### 2.1 Models\n",
    "\n",
    "Text for this section."
   ]
  },
  {
   "cell_type": "code",
   "execution_count": null,
   "id": "educational-algeria",
   "metadata": {},
   "outputs": [],
   "source": []
  },
  {
   "cell_type": "code",
   "execution_count": null,
   "id": "induced-recovery",
   "metadata": {},
   "outputs": [],
   "source": []
  },
  {
   "cell_type": "markdown",
   "id": "lucky-auckland",
   "metadata": {
    "slideshow": {
     "slide_type": "slide"
    }
   },
   "source": [
    "\n",
    "### 2.2 Data sampling\n",
    "Content for chapter three."
   ]
  },
  {
   "cell_type": "code",
   "execution_count": null,
   "id": "julian-lesbian",
   "metadata": {},
   "outputs": [],
   "source": []
  },
  {
   "cell_type": "markdown",
   "id": "proprietary-green",
   "metadata": {},
   "source": [
    "## TOC of Multi Notebooks\n",
    "\n",
    "### Header of the TOC  \n",
    "```markdown\n",
    "[Title of the Chapter](the path of a notebook)\n",
    "```"
   ]
  },
  {
   "cell_type": "markdown",
   "id": "certified-aberdeen",
   "metadata": {},
   "source": [
    "## Contents\n",
    "\n",
    "### [Chapter 1: Change Theme](./1.change_theme.ipynb)    \n",
    "### [Chapter 2: Solution to Terminal Unavaliable on Windows](./2.jupyter_terminal_unvaliables.ipynb)\n",
    "### [Chapter 3: Create .py files](./3.create_pyfile.ipynb)\n"
   ]
  },
  {
   "cell_type": "code",
   "execution_count": null,
   "id": "threaded-dictionary",
   "metadata": {},
   "outputs": [],
   "source": []
  }
 ],
 "metadata": {
  "kernelspec": {
   "display_name": "Python 3",
   "language": "python",
   "name": "python3"
  },
  "language_info": {
   "codemirror_mode": {
    "name": "ipython",
    "version": 3
   },
   "file_extension": ".py",
   "mimetype": "text/x-python",
   "name": "python",
   "nbconvert_exporter": "python",
   "pygments_lexer": "ipython3",
   "version": "3.8.8"
  }
 },
 "nbformat": 4,
 "nbformat_minor": 5
}
