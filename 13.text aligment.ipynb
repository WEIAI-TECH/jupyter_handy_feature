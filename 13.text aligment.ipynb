{
 "cells": [
  {
   "cell_type": "markdown",
   "id": "vocal-energy",
   "metadata": {
    "slideshow": {
     "slide_type": "slide"
    }
   },
   "source": [
    "<img src=\"./images/weiailogo2.png\"\n",
    "     style=\"float: right\"\n",
    "     width=150\n",
    "     style=\"padding-bottom:30px;\"/>\n",
    "<br>\n",
    "<br>\n",
    "<img style=\"float:center;\" src= \"./images/Python-jupyter-logo.png\" width=\"900\">    \n",
    "<center> <h1>How to Aligh Text in Jupyter Notebook</h1> </center> \n",
    "<center> <h2>Shouke Wei, Ph.D. Professor</h2> </center> \n",
    "<center> <h3>2021-03-10</h3> </center> "
   ]
  },
  {
   "cell_type": "markdown",
   "id": "boxed-adjustment",
   "metadata": {
    "slideshow": {
     "slide_type": "slide"
    }
   },
   "source": [
    "## The defaut text alighment in Mardown"
   ]
  },
  {
   "cell_type": "markdown",
   "id": "different-trinity",
   "metadata": {
    "slideshow": {
     "slide_type": "slide"
    }
   },
   "source": [
    "## Text Alighment\n",
    "- the HTML style attribute"
   ]
  },
  {
   "cell_type": "markdown",
   "id": "interpreted-custody",
   "metadata": {
    "slideshow": {
     "slide_type": "slide"
    }
   },
   "source": [
    "<p style='text-align: right;'> Text center Alighment </p>"
   ]
  },
  {
   "cell_type": "markdown",
   "id": "centered-neighbor",
   "metadata": {
    "slideshow": {
     "slide_type": "slide"
    }
   },
   "source": [
    "<h1 style='text-align: right;'> A right aligned header 1 </h1>"
   ]
  },
  {
   "cell_type": "markdown",
   "id": "rotary-natural",
   "metadata": {
    "slideshow": {
     "slide_type": "slide"
    }
   },
   "source": [
    "<div style=\"text-align: center\"> <h1>A center alighed header 1<h2></div>"
   ]
  }
 ],
 "metadata": {
  "kernelspec": {
   "display_name": "Python 3",
   "language": "python",
   "name": "python3"
  },
  "language_info": {
   "codemirror_mode": {
    "name": "ipython",
    "version": 3
   },
   "file_extension": ".py",
   "mimetype": "text/x-python",
   "name": "python",
   "nbconvert_exporter": "python",
   "pygments_lexer": "ipython3",
   "version": "3.8.8"
  }
 },
 "nbformat": 4,
 "nbformat_minor": 5
}
