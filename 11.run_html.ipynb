{
 "cells": [
  {
   "cell_type": "markdown",
   "id": "vocal-energy",
   "metadata": {
    "slideshow": {
     "slide_type": "slide"
    }
   },
   "source": [
    "<img src=\"./images/weiailogo2.png\"\n",
    "     style=\"float: right\"\n",
    "     width=150\n",
    "     style=\"padding-bottom:30px;\"/>\n",
    "<br>\n",
    "\n",
    "<img style=\"float: left;\" src= \"./images/python-logo.svg\" width=\"400\">    \n",
    "<img  style=\"float: center;\" src=\"./images/jupyter-logo.svg\" width=\"130\">\n",
    "\n",
    "\n",
    "#  Run html inside Jupyter Notebook\n",
    "\n",
    "## Sigmund S. Wei, Ph.D. Professor"
   ]
  },
  {
   "cell_type": "markdown",
   "id": "inclusive-unemployment",
   "metadata": {
    "slideshow": {
     "slide_type": "slide"
    }
   },
   "source": [
    "### 1. Run html\n",
    "#### Method 1: Markdown cell"
   ]
  },
  {
   "cell_type": "markdown",
   "id": "educational-kernel",
   "metadata": {
    "slideshow": {
     "slide_type": "-"
    }
   },
   "source": [
    "<h1>This is Header 1</h1>"
   ]
  },
  {
   "cell_type": "markdown",
   "id": "aware-finger",
   "metadata": {
    "slideshow": {
     "slide_type": "slide"
    }
   },
   "source": [
    "<a href=\"https://jupyter.org/\">Jupyter Notebook</a>"
   ]
  },
  {
   "cell_type": "markdown",
   "id": "lesbian-correspondence",
   "metadata": {
    "slideshow": {
     "slide_type": "slide"
    }
   },
   "source": [
    "<img  src= \"./images/jupyter-logo.svg\">    "
   ]
  },
  {
   "cell_type": "markdown",
   "id": "olive-contributor",
   "metadata": {
    "slideshow": {
     "slide_type": "slide"
    }
   },
   "source": [
    "<table>\n",
    "    <tr>\n",
    "        <th>Header 1</th>\n",
    "        <th>Header 2</th>\n",
    "        <th>Header 3</th>\n",
    "    </tr>\n",
    "    <tr>\n",
    "        <td>row 1, cell 1</td>\n",
    "        <td>row 1, cell 2</td>\n",
    "        <td>row 1, cell 3</td>\n",
    "    </tr>\n",
    "    <tr>\n",
    "        <td>row 2, cell 1</td>\n",
    "        <td>row 2, cell 2</td>\n",
    "        <td>row 2, cell 3</td>\n",
    "    </tr>\n",
    "    <tr>\n",
    "        <td>row 3, cell 1</td>\n",
    "        <td>row 3, cell 2</td>\n",
    "        <td>row 3, cell 3</td>\n",
    "    </tr>\n",
    "</table>"
   ]
  },
  {
   "cell_type": "markdown",
   "id": "going-series",
   "metadata": {
    "slideshow": {
     "slide_type": "slide"
    }
   },
   "source": [
    "#### Method 2: magic command"
   ]
  },
  {
   "cell_type": "code",
   "execution_count": 36,
   "id": "paperback-asthma",
   "metadata": {
    "slideshow": {
     "slide_type": "-"
    }
   },
   "outputs": [
    {
     "data": {
      "text/html": [
       "<h1>This is header 1</h1>\n"
      ],
      "text/plain": [
       "<IPython.core.display.HTML object>"
      ]
     },
     "metadata": {},
     "output_type": "display_data"
    }
   ],
   "source": [
    "%%HTML\n",
    "<h1>This is header 1</h1>"
   ]
  },
  {
   "cell_type": "code",
   "execution_count": null,
   "id": "daily-space",
   "metadata": {
    "slideshow": {
     "slide_type": "slide"
    }
   },
   "outputs": [],
   "source": [
    "%%html\n",
    "<a href=\"https://jupyter.org/\">Jupyter Notebook</a>"
   ]
  },
  {
   "cell_type": "code",
   "execution_count": 37,
   "id": "killing-equipment",
   "metadata": {
    "slideshow": {
     "slide_type": "slide"
    }
   },
   "outputs": [
    {
     "data": {
      "text/html": [
       "<img  src= \"./images/jupyter-logo.svg\"> \n"
      ],
      "text/plain": [
       "<IPython.core.display.HTML object>"
      ]
     },
     "metadata": {},
     "output_type": "display_data"
    }
   ],
   "source": [
    "%%html\n",
    "<img  src= \"./images/jupyter-logo.svg\"> "
   ]
  },
  {
   "cell_type": "code",
   "execution_count": 38,
   "id": "adjustable-maple",
   "metadata": {
    "slideshow": {
     "slide_type": "slide"
    }
   },
   "outputs": [
    {
     "data": {
      "text/html": [
       "<table>\n",
       "    <tr>\n",
       "        <th>Header 1</th>\n",
       "        <th>Header 2</th>\n",
       "        <th>Header 3</th>\n",
       "    </tr>\n",
       "    <tr>\n",
       "        <td>row 1, cell 1</td>\n",
       "        <td>row 1, cell 2</td>\n",
       "        <td>row 1, cell 3</td>\n",
       "    </tr>\n",
       "\n",
       "    <tr>\n",
       "        <td>row 2, cell 1</td>\n",
       "        <td>row 2, cell 2</td>\n",
       "        <td>row 2, cell 3</td>\n",
       "    </tr>\n",
       "    <tr>\n",
       "        <td>row 3, cell 1</td>\n",
       "        <td>row 3, cell 2</td>\n",
       "        <td>row 3, cell 3</td>\n",
       "    </tr>\n",
       "</table>\n"
      ],
      "text/plain": [
       "<IPython.core.display.HTML object>"
      ]
     },
     "metadata": {},
     "output_type": "display_data"
    }
   ],
   "source": [
    "%%html\n",
    "<table>\n",
    "    <tr>\n",
    "        <th>Header 1</th>\n",
    "        <th>Header 2</th>\n",
    "        <th>Header 3</th>\n",
    "    </tr>\n",
    "    <tr>\n",
    "        <td>row 1, cell 1</td>\n",
    "        <td>row 1, cell 2</td>\n",
    "        <td>row 1, cell 3</td>\n",
    "    </tr>\n",
    "\n",
    "    <tr>\n",
    "        <td>row 2, cell 1</td>\n",
    "        <td>row 2, cell 2</td>\n",
    "        <td>row 2, cell 3</td>\n",
    "    </tr>\n",
    "    <tr>\n",
    "        <td>row 3, cell 1</td>\n",
    "        <td>row 3, cell 2</td>\n",
    "        <td>row 3, cell 3</td>\n",
    "    </tr>\n",
    "</table>"
   ]
  },
  {
   "cell_type": "markdown",
   "id": "considerable-georgia",
   "metadata": {
    "slideshow": {
     "slide_type": "slide"
    }
   },
   "source": [
    "#### Method 3: IPython HTML module\n"
   ]
  },
  {
   "cell_type": "code",
   "execution_count": 39,
   "id": "complete-argument",
   "metadata": {
    "scrolled": true,
    "slideshow": {
     "slide_type": "-"
    }
   },
   "outputs": [
    {
     "data": {
      "text/html": [
       "<h1>This is a header 1</h1>"
      ],
      "text/plain": [
       "<IPython.core.display.HTML object>"
      ]
     },
     "execution_count": 39,
     "metadata": {},
     "output_type": "execute_result"
    }
   ],
   "source": [
    "from IPython.core.display import HTML\n",
    "HTML('<h1>This is a header 1</h1>')"
   ]
  },
  {
   "cell_type": "code",
   "execution_count": 40,
   "id": "chubby-container",
   "metadata": {
    "slideshow": {
     "slide_type": "slide"
    }
   },
   "outputs": [
    {
     "data": {
      "text/html": [
       "<a href=\"https://jupyter.org/\">Jupyter Notebook</a>"
      ],
      "text/plain": [
       "<IPython.core.display.HTML object>"
      ]
     },
     "execution_count": 40,
     "metadata": {},
     "output_type": "execute_result"
    }
   ],
   "source": [
    "from IPython.core.display import HTML\n",
    "HTML('<a href=\"https://jupyter.org/\">Jupyter Notebook</a>')"
   ]
  },
  {
   "cell_type": "code",
   "execution_count": 41,
   "id": "olive-myrtle",
   "metadata": {
    "slideshow": {
     "slide_type": "slide"
    }
   },
   "outputs": [
    {
     "data": {
      "text/html": [
       "<img src= \"./images/jupyter-logo.svg\">"
      ],
      "text/plain": [
       "<IPython.core.display.HTML object>"
      ]
     },
     "execution_count": 41,
     "metadata": {},
     "output_type": "execute_result"
    }
   ],
   "source": [
    "from IPython.core.display import HTML\n",
    "HTML('<img src= \"./images/jupyter-logo.svg\">')"
   ]
  },
  {
   "cell_type": "code",
   "execution_count": 42,
   "id": "fantastic-ethnic",
   "metadata": {
    "slideshow": {
     "slide_type": "slide"
    }
   },
   "outputs": [],
   "source": [
    "from IPython.display import HTML\n",
    "\n",
    "myhtable = \"\"\"\n",
    "<table>\n",
    "    <tr>\n",
    "        <th>Header 1</th>\n",
    "        <th>Header 2</th>\n",
    "        <th>Header 3</th>\n",
    "    </tr>\n",
    "    <tr>\n",
    "        <td>row 1, cell 1</td>\n",
    "        <td>row 1, cell 2</td>\n",
    "        <td>row 1, cell 3</td>\n",
    "    </tr>\n",
    "    <tr>\n",
    "        <td>row 2, cell 1</td>\n",
    "    <td>row 2, cell 2</td>\n",
    "    <td>row 2, cell 3</td>\n",
    "    </tr>\n",
    "    <tr>\n",
    "        <td>row 3, cell 1</td>\n",
    "        <td>row 3, cell 2</td>\n",
    "        <td>row 3, cell 3</td>\n",
    "    </tr>\n",
    "</table>\n",
    "\"\"\""
   ]
  },
  {
   "cell_type": "code",
   "execution_count": 43,
   "id": "administrative-hierarchy",
   "metadata": {
    "slideshow": {
     "slide_type": "slide"
    }
   },
   "outputs": [
    {
     "data": {
      "text/html": [
       "\n",
       "<table>\n",
       "    <tr>\n",
       "        <th>Header 1</th>\n",
       "        <th>Header 2</th>\n",
       "        <th>Header 3</th>\n",
       "    </tr>\n",
       "    <tr>\n",
       "        <td>row 1, cell 1</td>\n",
       "        <td>row 1, cell 2</td>\n",
       "        <td>row 1, cell 3</td>\n",
       "    </tr>\n",
       "    <tr>\n",
       "        <td>row 2, cell 1</td>\n",
       "    <td>row 2, cell 2</td>\n",
       "    <td>row 2, cell 3</td>\n",
       "    </tr>\n",
       "    <tr>\n",
       "        <td>row 3, cell 1</td>\n",
       "        <td>row 3, cell 2</td>\n",
       "        <td>row 3, cell 3</td>\n",
       "    </tr>\n",
       "</table>\n"
      ],
      "text/plain": [
       "<IPython.core.display.HTML object>"
      ]
     },
     "execution_count": 43,
     "metadata": {},
     "output_type": "execute_result"
    }
   ],
   "source": [
    "HTML(myhtable)"
   ]
  },
  {
   "cell_type": "markdown",
   "id": "boolean-blame",
   "metadata": {
    "slideshow": {
     "slide_type": "skip"
    }
   },
   "source": [
    "## Summary\n",
    "This video gives three methods to run html inside Jupyter notebook: \n",
    "- run directly in markdown syntax\n",
    " - simple syntax\n",
    " - the code is hidden\n",
    "- run as code using `%%html`\n",
    " - easy and simple\n",
    "- run as code using IPython modules of display, HTML, \n",
    " - you can define the code as a variable, and then display it any Jupyter cell"
   ]
  }
 ],
 "metadata": {
  "celltoolbar": "Slideshow",
  "kernelspec": {
   "display_name": "Python 3",
   "language": "python",
   "name": "python3"
  },
  "language_info": {
   "codemirror_mode": {
    "name": "ipython",
    "version": 3
   },
   "file_extension": ".py",
   "mimetype": "text/x-python",
   "name": "python",
   "nbconvert_exporter": "python",
   "pygments_lexer": "ipython3",
   "version": "3.8.8"
  }
 },
 "nbformat": 4,
 "nbformat_minor": 5
}
