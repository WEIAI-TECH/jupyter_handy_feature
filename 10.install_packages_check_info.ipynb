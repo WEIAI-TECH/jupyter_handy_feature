{
 "cells": [
  {
   "cell_type": "markdown",
   "id": "vocal-energy",
   "metadata": {
    "slideshow": {
     "slide_type": "slide"
    }
   },
   "source": [
    "<img src=\"./images/weiailogo2.png\"\n",
    "     style=\"float: right\"\n",
    "     width=150\n",
    "     style=\"padding-bottom:30px;\"/>\n",
    "<br>\n",
    "\n",
    "<img style=\"float: left;\" src= \"./images/python-logo.svg\" width=\"400\">    \n",
    "<img  style=\"float: center;\" src=\"./images/jupyter-logo.svg\" width=\"130\">\n",
    "\n",
    "\n",
    "#  Install Package and Check its Info. in Jupyter Notebook\n",
    "\n",
    "## Sigmund S. Wei, Ph.D. Professor"
   ]
  },
  {
   "cell_type": "markdown",
   "id": "inclusive-unemployment",
   "metadata": {
    "slideshow": {
     "slide_type": "slide"
    }
   },
   "source": [
    "### 1. Install Packages"
   ]
  },
  {
   "cell_type": "code",
   "execution_count": 16,
   "id": "adjustable-maple",
   "metadata": {
    "slideshow": {
     "slide_type": "slide"
    }
   },
   "outputs": [
    {
     "name": "stdout",
     "output_type": "stream",
     "text": [
      "Requirement already satisfied: bqplot in /home/sigmund/anaconda3/lib/python3.8/site-packages (0.12.22)\n",
      "Requirement already satisfied: pandas in /home/sigmund/anaconda3/lib/python3.8/site-packages (from bqplot) (1.2.1)\n",
      "Requirement already satisfied: traittypes>=0.0.6 in /home/sigmund/anaconda3/lib/python3.8/site-packages (from bqplot) (0.2.1)\n",
      "Requirement already satisfied: traitlets>=4.3.0 in /home/sigmund/anaconda3/lib/python3.8/site-packages (from bqplot) (5.0.5)\n",
      "Requirement already satisfied: ipywidgets>=7.5.0 in /home/sigmund/anaconda3/lib/python3.8/site-packages (from bqplot) (7.6.3)\n",
      "Requirement already satisfied: numpy>=1.10.4 in /home/sigmund/anaconda3/lib/python3.8/site-packages (from bqplot) (1.19.4)\n",
      "Requirement already satisfied: widgetsnbextension~=3.5.0 in /home/sigmund/anaconda3/lib/python3.8/site-packages (from ipywidgets>=7.5.0->bqplot) (3.5.1)\n",
      "Requirement already satisfied: jupyterlab-widgets>=1.0.0 in /home/sigmund/anaconda3/lib/python3.8/site-packages (from ipywidgets>=7.5.0->bqplot) (1.0.0)\n",
      "Requirement already satisfied: nbformat>=4.2.0 in /home/sigmund/anaconda3/lib/python3.8/site-packages (from ipywidgets>=7.5.0->bqplot) (5.1.2)\n",
      "Requirement already satisfied: ipykernel>=4.5.1 in /home/sigmund/anaconda3/lib/python3.8/site-packages (from ipywidgets>=7.5.0->bqplot) (5.3.4)\n",
      "Requirement already satisfied: ipython>=4.0.0 in /home/sigmund/anaconda3/lib/python3.8/site-packages (from ipywidgets>=7.5.0->bqplot) (7.20.0)\n",
      "Requirement already satisfied: jupyter-client in /home/sigmund/anaconda3/lib/python3.8/site-packages (from ipykernel>=4.5.1->ipywidgets>=7.5.0->bqplot) (6.1.7)\n",
      "Requirement already satisfied: tornado>=4.2 in /home/sigmund/anaconda3/lib/python3.8/site-packages (from ipykernel>=4.5.1->ipywidgets>=7.5.0->bqplot) (6.1)\n",
      "Requirement already satisfied: pickleshare in /home/sigmund/anaconda3/lib/python3.8/site-packages (from ipython>=4.0.0->ipywidgets>=7.5.0->bqplot) (0.7.5)\n",
      "Requirement already satisfied: decorator in /home/sigmund/anaconda3/lib/python3.8/site-packages (from ipython>=4.0.0->ipywidgets>=7.5.0->bqplot) (4.4.2)\n",
      "Requirement already satisfied: setuptools>=18.5 in /home/sigmund/anaconda3/lib/python3.8/site-packages (from ipython>=4.0.0->ipywidgets>=7.5.0->bqplot) (52.0.0.post20210125)\n",
      "Requirement already satisfied: prompt-toolkit!=3.0.0,!=3.0.1,<3.1.0,>=2.0.0 in /home/sigmund/anaconda3/lib/python3.8/site-packages (from ipython>=4.0.0->ipywidgets>=7.5.0->bqplot) (3.0.8)\n",
      "Requirement already satisfied: jedi>=0.16 in /home/sigmund/anaconda3/lib/python3.8/site-packages (from ipython>=4.0.0->ipywidgets>=7.5.0->bqplot) (0.17.2)\n",
      "Requirement already satisfied: backcall in /home/sigmund/anaconda3/lib/python3.8/site-packages (from ipython>=4.0.0->ipywidgets>=7.5.0->bqplot) (0.2.0)\n",
      "Requirement already satisfied: pexpect>4.3 in /home/sigmund/anaconda3/lib/python3.8/site-packages (from ipython>=4.0.0->ipywidgets>=7.5.0->bqplot) (4.8.0)\n",
      "Requirement already satisfied: pygments in /home/sigmund/anaconda3/lib/python3.8/site-packages (from ipython>=4.0.0->ipywidgets>=7.5.0->bqplot) (2.7.4)\n",
      "Requirement already satisfied: parso<0.8.0,>=0.7.0 in /home/sigmund/anaconda3/lib/python3.8/site-packages (from jedi>=0.16->ipython>=4.0.0->ipywidgets>=7.5.0->bqplot) (0.7.0)\n",
      "Requirement already satisfied: ipython-genutils in /home/sigmund/anaconda3/lib/python3.8/site-packages (from nbformat>=4.2.0->ipywidgets>=7.5.0->bqplot) (0.2.0)\n",
      "Requirement already satisfied: jupyter-core in /home/sigmund/anaconda3/lib/python3.8/site-packages (from nbformat>=4.2.0->ipywidgets>=7.5.0->bqplot) (4.7.1)\n",
      "Requirement already satisfied: jsonschema!=2.5.0,>=2.4 in /home/sigmund/anaconda3/lib/python3.8/site-packages (from nbformat>=4.2.0->ipywidgets>=7.5.0->bqplot) (3.2.0)\n",
      "Requirement already satisfied: six>=1.11.0 in /home/sigmund/anaconda3/lib/python3.8/site-packages (from jsonschema!=2.5.0,>=2.4->nbformat>=4.2.0->ipywidgets>=7.5.0->bqplot) (1.15.0)\n",
      "Requirement already satisfied: pyrsistent>=0.14.0 in /home/sigmund/anaconda3/lib/python3.8/site-packages (from jsonschema!=2.5.0,>=2.4->nbformat>=4.2.0->ipywidgets>=7.5.0->bqplot) (0.17.3)\n",
      "Requirement already satisfied: attrs>=17.4.0 in /home/sigmund/anaconda3/lib/python3.8/site-packages (from jsonschema!=2.5.0,>=2.4->nbformat>=4.2.0->ipywidgets>=7.5.0->bqplot) (20.3.0)\n",
      "Requirement already satisfied: ptyprocess>=0.5 in /home/sigmund/anaconda3/lib/python3.8/site-packages (from pexpect>4.3->ipython>=4.0.0->ipywidgets>=7.5.0->bqplot) (0.7.0)\n",
      "Requirement already satisfied: wcwidth in /home/sigmund/anaconda3/lib/python3.8/site-packages (from prompt-toolkit!=3.0.0,!=3.0.1,<3.1.0,>=2.0.0->ipython>=4.0.0->ipywidgets>=7.5.0->bqplot) (0.2.5)\n",
      "Requirement already satisfied: notebook>=4.4.1 in /home/sigmund/anaconda3/lib/python3.8/site-packages (from widgetsnbextension~=3.5.0->ipywidgets>=7.5.0->bqplot) (6.2.0)\n",
      "Requirement already satisfied: prometheus-client in /home/sigmund/anaconda3/lib/python3.8/site-packages (from notebook>=4.4.1->widgetsnbextension~=3.5.0->ipywidgets>=7.5.0->bqplot) (0.9.0)\n",
      "Requirement already satisfied: pyzmq>=17 in /home/sigmund/anaconda3/lib/python3.8/site-packages (from notebook>=4.4.1->widgetsnbextension~=3.5.0->ipywidgets>=7.5.0->bqplot) (20.0.0)\n",
      "Requirement already satisfied: Send2Trash>=1.5.0 in /home/sigmund/anaconda3/lib/python3.8/site-packages (from notebook>=4.4.1->widgetsnbextension~=3.5.0->ipywidgets>=7.5.0->bqplot) (1.5.0)\n",
      "Requirement already satisfied: jinja2 in /home/sigmund/anaconda3/lib/python3.8/site-packages (from notebook>=4.4.1->widgetsnbextension~=3.5.0->ipywidgets>=7.5.0->bqplot) (2.11.3)\n",
      "Requirement already satisfied: argon2-cffi in /home/sigmund/anaconda3/lib/python3.8/site-packages (from notebook>=4.4.1->widgetsnbextension~=3.5.0->ipywidgets>=7.5.0->bqplot) (20.1.0)\n",
      "Requirement already satisfied: nbconvert in /home/sigmund/anaconda3/lib/python3.8/site-packages (from notebook>=4.4.1->widgetsnbextension~=3.5.0->ipywidgets>=7.5.0->bqplot) (5.6.1)\n",
      "Requirement already satisfied: terminado>=0.8.3 in /home/sigmund/anaconda3/lib/python3.8/site-packages (from notebook>=4.4.1->widgetsnbextension~=3.5.0->ipywidgets>=7.5.0->bqplot) (0.9.2)\n",
      "Requirement already satisfied: python-dateutil>=2.1 in /home/sigmund/anaconda3/lib/python3.8/site-packages (from jupyter-client->ipykernel>=4.5.1->ipywidgets>=7.5.0->bqplot) (2.8.1)\n",
      "Requirement already satisfied: cffi>=1.0.0 in /home/sigmund/anaconda3/lib/python3.8/site-packages (from argon2-cffi->notebook>=4.4.1->widgetsnbextension~=3.5.0->ipywidgets>=7.5.0->bqplot) (1.14.4)\n",
      "Requirement already satisfied: pycparser in /home/sigmund/anaconda3/lib/python3.8/site-packages (from cffi>=1.0.0->argon2-cffi->notebook>=4.4.1->widgetsnbextension~=3.5.0->ipywidgets>=7.5.0->bqplot) (2.20)\n",
      "Requirement already satisfied: MarkupSafe>=0.23 in /home/sigmund/anaconda3/lib/python3.8/site-packages (from jinja2->notebook>=4.4.1->widgetsnbextension~=3.5.0->ipywidgets>=7.5.0->bqplot) (1.1.1)\n",
      "Requirement already satisfied: testpath in /home/sigmund/anaconda3/lib/python3.8/site-packages (from nbconvert->notebook>=4.4.1->widgetsnbextension~=3.5.0->ipywidgets>=7.5.0->bqplot) (0.4.4)\n",
      "Requirement already satisfied: pandocfilters>=1.4.1 in /home/sigmund/anaconda3/lib/python3.8/site-packages (from nbconvert->notebook>=4.4.1->widgetsnbextension~=3.5.0->ipywidgets>=7.5.0->bqplot) (1.4.3)\n",
      "Requirement already satisfied: bleach in /home/sigmund/anaconda3/lib/python3.8/site-packages (from nbconvert->notebook>=4.4.1->widgetsnbextension~=3.5.0->ipywidgets>=7.5.0->bqplot) (3.3.0)\n",
      "Requirement already satisfied: mistune<2,>=0.8.1 in /home/sigmund/anaconda3/lib/python3.8/site-packages (from nbconvert->notebook>=4.4.1->widgetsnbextension~=3.5.0->ipywidgets>=7.5.0->bqplot) (0.8.4)\n",
      "Requirement already satisfied: defusedxml in /home/sigmund/anaconda3/lib/python3.8/site-packages (from nbconvert->notebook>=4.4.1->widgetsnbextension~=3.5.0->ipywidgets>=7.5.0->bqplot) (0.6.0)\n",
      "Requirement already satisfied: entrypoints>=0.2.2 in /home/sigmund/anaconda3/lib/python3.8/site-packages (from nbconvert->notebook>=4.4.1->widgetsnbextension~=3.5.0->ipywidgets>=7.5.0->bqplot) (0.3)\n",
      "Requirement already satisfied: webencodings in /home/sigmund/anaconda3/lib/python3.8/site-packages (from bleach->nbconvert->notebook>=4.4.1->widgetsnbextension~=3.5.0->ipywidgets>=7.5.0->bqplot) (0.5.1)\n",
      "Requirement already satisfied: packaging in /home/sigmund/anaconda3/lib/python3.8/site-packages (from bleach->nbconvert->notebook>=4.4.1->widgetsnbextension~=3.5.0->ipywidgets>=7.5.0->bqplot) (20.9)\n",
      "Requirement already satisfied: pyparsing>=2.0.2 in /home/sigmund/anaconda3/lib/python3.8/site-packages (from packaging->bleach->nbconvert->notebook>=4.4.1->widgetsnbextension~=3.5.0->ipywidgets>=7.5.0->bqplot) (2.4.7)\n",
      "Requirement already satisfied: pytz>=2017.3 in /home/sigmund/anaconda3/lib/python3.8/site-packages (from pandas->bqplot) (2021.1)\n"
     ]
    }
   ],
   "source": [
    "!pip install bqplot"
   ]
  },
  {
   "cell_type": "code",
   "execution_count": 17,
   "id": "smooth-triumph",
   "metadata": {
    "slideshow": {
     "slide_type": "slide"
    }
   },
   "outputs": [
    {
     "name": "stdout",
     "output_type": "stream",
     "text": [
      "Requirement already satisfied: bqplot in /home/sigmund/anaconda3/lib/python3.8/site-packages (0.12.22)\n",
      "Requirement already satisfied: traitlets>=4.3.0 in /home/sigmund/anaconda3/lib/python3.8/site-packages (from bqplot) (5.0.5)\n",
      "Requirement already satisfied: pandas in /home/sigmund/anaconda3/lib/python3.8/site-packages (from bqplot) (1.2.1)\n",
      "Requirement already satisfied: numpy>=1.10.4 in /home/sigmund/anaconda3/lib/python3.8/site-packages (from bqplot) (1.19.4)\n",
      "Requirement already satisfied: ipywidgets>=7.5.0 in /home/sigmund/anaconda3/lib/python3.8/site-packages (from bqplot) (7.6.3)\n",
      "Requirement already satisfied: traittypes>=0.0.6 in /home/sigmund/anaconda3/lib/python3.8/site-packages (from bqplot) (0.2.1)\n",
      "Requirement already satisfied: widgetsnbextension~=3.5.0 in /home/sigmund/anaconda3/lib/python3.8/site-packages (from ipywidgets>=7.5.0->bqplot) (3.5.1)\n",
      "Requirement already satisfied: jupyterlab-widgets>=1.0.0 in /home/sigmund/anaconda3/lib/python3.8/site-packages (from ipywidgets>=7.5.0->bqplot) (1.0.0)\n",
      "Requirement already satisfied: ipykernel>=4.5.1 in /home/sigmund/anaconda3/lib/python3.8/site-packages (from ipywidgets>=7.5.0->bqplot) (5.3.4)\n",
      "Requirement already satisfied: ipython>=4.0.0 in /home/sigmund/anaconda3/lib/python3.8/site-packages (from ipywidgets>=7.5.0->bqplot) (7.20.0)\n",
      "Requirement already satisfied: nbformat>=4.2.0 in /home/sigmund/anaconda3/lib/python3.8/site-packages (from ipywidgets>=7.5.0->bqplot) (5.1.2)\n",
      "Requirement already satisfied: jupyter-client in /home/sigmund/anaconda3/lib/python3.8/site-packages (from ipykernel>=4.5.1->ipywidgets>=7.5.0->bqplot) (6.1.7)\n",
      "Requirement already satisfied: tornado>=4.2 in /home/sigmund/anaconda3/lib/python3.8/site-packages (from ipykernel>=4.5.1->ipywidgets>=7.5.0->bqplot) (6.1)\n",
      "Requirement already satisfied: setuptools>=18.5 in /home/sigmund/anaconda3/lib/python3.8/site-packages (from ipython>=4.0.0->ipywidgets>=7.5.0->bqplot) (52.0.0.post20210125)\n",
      "Requirement already satisfied: pexpect>4.3 in /home/sigmund/anaconda3/lib/python3.8/site-packages (from ipython>=4.0.0->ipywidgets>=7.5.0->bqplot) (4.8.0)\n",
      "Requirement already satisfied: backcall in /home/sigmund/anaconda3/lib/python3.8/site-packages (from ipython>=4.0.0->ipywidgets>=7.5.0->bqplot) (0.2.0)\n",
      "Requirement already satisfied: jedi>=0.16 in /home/sigmund/anaconda3/lib/python3.8/site-packages (from ipython>=4.0.0->ipywidgets>=7.5.0->bqplot) (0.17.2)\n",
      "Requirement already satisfied: prompt-toolkit!=3.0.0,!=3.0.1,<3.1.0,>=2.0.0 in /home/sigmund/anaconda3/lib/python3.8/site-packages (from ipython>=4.0.0->ipywidgets>=7.5.0->bqplot) (3.0.8)\n",
      "Requirement already satisfied: decorator in /home/sigmund/anaconda3/lib/python3.8/site-packages (from ipython>=4.0.0->ipywidgets>=7.5.0->bqplot) (4.4.2)\n",
      "Requirement already satisfied: pygments in /home/sigmund/anaconda3/lib/python3.8/site-packages (from ipython>=4.0.0->ipywidgets>=7.5.0->bqplot) (2.7.4)\n",
      "Requirement already satisfied: pickleshare in /home/sigmund/anaconda3/lib/python3.8/site-packages (from ipython>=4.0.0->ipywidgets>=7.5.0->bqplot) (0.7.5)\n",
      "Requirement already satisfied: parso<0.8.0,>=0.7.0 in /home/sigmund/anaconda3/lib/python3.8/site-packages (from jedi>=0.16->ipython>=4.0.0->ipywidgets>=7.5.0->bqplot) (0.7.0)\n",
      "Requirement already satisfied: jsonschema!=2.5.0,>=2.4 in /home/sigmund/anaconda3/lib/python3.8/site-packages (from nbformat>=4.2.0->ipywidgets>=7.5.0->bqplot) (3.2.0)\n",
      "Requirement already satisfied: ipython-genutils in /home/sigmund/anaconda3/lib/python3.8/site-packages (from nbformat>=4.2.0->ipywidgets>=7.5.0->bqplot) (0.2.0)\n",
      "Requirement already satisfied: jupyter-core in /home/sigmund/anaconda3/lib/python3.8/site-packages (from nbformat>=4.2.0->ipywidgets>=7.5.0->bqplot) (4.7.1)\n",
      "Requirement already satisfied: pyrsistent>=0.14.0 in /home/sigmund/anaconda3/lib/python3.8/site-packages (from jsonschema!=2.5.0,>=2.4->nbformat>=4.2.0->ipywidgets>=7.5.0->bqplot) (0.17.3)\n",
      "Requirement already satisfied: attrs>=17.4.0 in /home/sigmund/anaconda3/lib/python3.8/site-packages (from jsonschema!=2.5.0,>=2.4->nbformat>=4.2.0->ipywidgets>=7.5.0->bqplot) (20.3.0)\n",
      "Requirement already satisfied: six>=1.11.0 in /home/sigmund/anaconda3/lib/python3.8/site-packages (from jsonschema!=2.5.0,>=2.4->nbformat>=4.2.0->ipywidgets>=7.5.0->bqplot) (1.15.0)\n",
      "Requirement already satisfied: ptyprocess>=0.5 in /home/sigmund/anaconda3/lib/python3.8/site-packages (from pexpect>4.3->ipython>=4.0.0->ipywidgets>=7.5.0->bqplot) (0.7.0)\n",
      "Requirement already satisfied: wcwidth in /home/sigmund/anaconda3/lib/python3.8/site-packages (from prompt-toolkit!=3.0.0,!=3.0.1,<3.1.0,>=2.0.0->ipython>=4.0.0->ipywidgets>=7.5.0->bqplot) (0.2.5)\n",
      "Requirement already satisfied: notebook>=4.4.1 in /home/sigmund/anaconda3/lib/python3.8/site-packages (from widgetsnbextension~=3.5.0->ipywidgets>=7.5.0->bqplot) (6.2.0)\n",
      "Requirement already satisfied: terminado>=0.8.3 in /home/sigmund/anaconda3/lib/python3.8/site-packages (from notebook>=4.4.1->widgetsnbextension~=3.5.0->ipywidgets>=7.5.0->bqplot) (0.9.2)\n",
      "Requirement already satisfied: argon2-cffi in /home/sigmund/anaconda3/lib/python3.8/site-packages (from notebook>=4.4.1->widgetsnbextension~=3.5.0->ipywidgets>=7.5.0->bqplot) (20.1.0)\n",
      "Requirement already satisfied: jinja2 in /home/sigmund/anaconda3/lib/python3.8/site-packages (from notebook>=4.4.1->widgetsnbextension~=3.5.0->ipywidgets>=7.5.0->bqplot) (2.11.3)\n",
      "Requirement already satisfied: Send2Trash>=1.5.0 in /home/sigmund/anaconda3/lib/python3.8/site-packages (from notebook>=4.4.1->widgetsnbextension~=3.5.0->ipywidgets>=7.5.0->bqplot) (1.5.0)\n",
      "Requirement already satisfied: pyzmq>=17 in /home/sigmund/anaconda3/lib/python3.8/site-packages (from notebook>=4.4.1->widgetsnbextension~=3.5.0->ipywidgets>=7.5.0->bqplot) (20.0.0)\n",
      "Requirement already satisfied: prometheus-client in /home/sigmund/anaconda3/lib/python3.8/site-packages (from notebook>=4.4.1->widgetsnbextension~=3.5.0->ipywidgets>=7.5.0->bqplot) (0.9.0)\n",
      "Requirement already satisfied: nbconvert in /home/sigmund/anaconda3/lib/python3.8/site-packages (from notebook>=4.4.1->widgetsnbextension~=3.5.0->ipywidgets>=7.5.0->bqplot) (5.6.1)\n",
      "Requirement already satisfied: python-dateutil>=2.1 in /home/sigmund/anaconda3/lib/python3.8/site-packages (from jupyter-client->ipykernel>=4.5.1->ipywidgets>=7.5.0->bqplot) (2.8.1)\n",
      "Requirement already satisfied: cffi>=1.0.0 in /home/sigmund/anaconda3/lib/python3.8/site-packages (from argon2-cffi->notebook>=4.4.1->widgetsnbextension~=3.5.0->ipywidgets>=7.5.0->bqplot) (1.14.4)\n",
      "Requirement already satisfied: pycparser in /home/sigmund/anaconda3/lib/python3.8/site-packages (from cffi>=1.0.0->argon2-cffi->notebook>=4.4.1->widgetsnbextension~=3.5.0->ipywidgets>=7.5.0->bqplot) (2.20)\n",
      "Requirement already satisfied: MarkupSafe>=0.23 in /home/sigmund/anaconda3/lib/python3.8/site-packages (from jinja2->notebook>=4.4.1->widgetsnbextension~=3.5.0->ipywidgets>=7.5.0->bqplot) (1.1.1)\n",
      "Requirement already satisfied: bleach in /home/sigmund/anaconda3/lib/python3.8/site-packages (from nbconvert->notebook>=4.4.1->widgetsnbextension~=3.5.0->ipywidgets>=7.5.0->bqplot) (3.3.0)\n",
      "Requirement already satisfied: mistune<2,>=0.8.1 in /home/sigmund/anaconda3/lib/python3.8/site-packages (from nbconvert->notebook>=4.4.1->widgetsnbextension~=3.5.0->ipywidgets>=7.5.0->bqplot) (0.8.4)\n",
      "Requirement already satisfied: testpath in /home/sigmund/anaconda3/lib/python3.8/site-packages (from nbconvert->notebook>=4.4.1->widgetsnbextension~=3.5.0->ipywidgets>=7.5.0->bqplot) (0.4.4)\n",
      "Requirement already satisfied: defusedxml in /home/sigmund/anaconda3/lib/python3.8/site-packages (from nbconvert->notebook>=4.4.1->widgetsnbextension~=3.5.0->ipywidgets>=7.5.0->bqplot) (0.6.0)\n",
      "Requirement already satisfied: entrypoints>=0.2.2 in /home/sigmund/anaconda3/lib/python3.8/site-packages (from nbconvert->notebook>=4.4.1->widgetsnbextension~=3.5.0->ipywidgets>=7.5.0->bqplot) (0.3)\n",
      "Requirement already satisfied: pandocfilters>=1.4.1 in /home/sigmund/anaconda3/lib/python3.8/site-packages (from nbconvert->notebook>=4.4.1->widgetsnbextension~=3.5.0->ipywidgets>=7.5.0->bqplot) (1.4.3)\n",
      "Requirement already satisfied: packaging in /home/sigmund/anaconda3/lib/python3.8/site-packages (from bleach->nbconvert->notebook>=4.4.1->widgetsnbextension~=3.5.0->ipywidgets>=7.5.0->bqplot) (20.9)\n",
      "Requirement already satisfied: webencodings in /home/sigmund/anaconda3/lib/python3.8/site-packages (from bleach->nbconvert->notebook>=4.4.1->widgetsnbextension~=3.5.0->ipywidgets>=7.5.0->bqplot) (0.5.1)\n",
      "Requirement already satisfied: pyparsing>=2.0.2 in /home/sigmund/anaconda3/lib/python3.8/site-packages (from packaging->bleach->nbconvert->notebook>=4.4.1->widgetsnbextension~=3.5.0->ipywidgets>=7.5.0->bqplot) (2.4.7)\n",
      "Requirement already satisfied: pytz>=2017.3 in /home/sigmund/anaconda3/lib/python3.8/site-packages (from pandas->bqplot) (2021.1)\n"
     ]
    },
    {
     "name": "stdout",
     "output_type": "stream",
     "text": [
      "Note: you may need to restart the kernel to use updated packages.\n"
     ]
    }
   ],
   "source": [
    "%pip install bqplot"
   ]
  },
  {
   "cell_type": "code",
   "execution_count": 18,
   "id": "fantastic-ethnic",
   "metadata": {
    "slideshow": {
     "slide_type": "slide"
    }
   },
   "outputs": [
    {
     "name": "stdout",
     "output_type": "stream",
     "text": [
      "Requirement already satisfied: bqplot in /home/sigmund/anaconda3/lib/python3.8/site-packages (0.12.22)\n",
      "Requirement already satisfied: pandas in /home/sigmund/anaconda3/lib/python3.8/site-packages (from bqplot) (1.2.1)\n",
      "Requirement already satisfied: numpy>=1.10.4 in /home/sigmund/anaconda3/lib/python3.8/site-packages (from bqplot) (1.19.4)\n",
      "Requirement already satisfied: ipywidgets>=7.5.0 in /home/sigmund/anaconda3/lib/python3.8/site-packages (from bqplot) (7.6.3)\n",
      "Requirement already satisfied: traitlets>=4.3.0 in /home/sigmund/anaconda3/lib/python3.8/site-packages (from bqplot) (5.0.5)\n",
      "Requirement already satisfied: traittypes>=0.0.6 in /home/sigmund/anaconda3/lib/python3.8/site-packages (from bqplot) (0.2.1)\n",
      "Requirement already satisfied: ipython>=4.0.0 in /home/sigmund/anaconda3/lib/python3.8/site-packages (from ipywidgets>=7.5.0->bqplot) (7.20.0)\n",
      "Requirement already satisfied: ipykernel>=4.5.1 in /home/sigmund/anaconda3/lib/python3.8/site-packages (from ipywidgets>=7.5.0->bqplot) (5.3.4)\n",
      "Requirement already satisfied: nbformat>=4.2.0 in /home/sigmund/anaconda3/lib/python3.8/site-packages (from ipywidgets>=7.5.0->bqplot) (5.1.2)\n",
      "Requirement already satisfied: widgetsnbextension~=3.5.0 in /home/sigmund/anaconda3/lib/python3.8/site-packages (from ipywidgets>=7.5.0->bqplot) (3.5.1)\n",
      "Requirement already satisfied: jupyterlab-widgets>=1.0.0 in /home/sigmund/anaconda3/lib/python3.8/site-packages (from ipywidgets>=7.5.0->bqplot) (1.0.0)\n",
      "Requirement already satisfied: tornado>=4.2 in /home/sigmund/anaconda3/lib/python3.8/site-packages (from ipykernel>=4.5.1->ipywidgets>=7.5.0->bqplot) (6.1)\n",
      "Requirement already satisfied: jupyter-client in /home/sigmund/anaconda3/lib/python3.8/site-packages (from ipykernel>=4.5.1->ipywidgets>=7.5.0->bqplot) (6.1.7)\n",
      "Requirement already satisfied: decorator in /home/sigmund/anaconda3/lib/python3.8/site-packages (from ipython>=4.0.0->ipywidgets>=7.5.0->bqplot) (4.4.2)\n",
      "Requirement already satisfied: pygments in /home/sigmund/anaconda3/lib/python3.8/site-packages (from ipython>=4.0.0->ipywidgets>=7.5.0->bqplot) (2.7.4)\n",
      "Requirement already satisfied: pexpect>4.3 in /home/sigmund/anaconda3/lib/python3.8/site-packages (from ipython>=4.0.0->ipywidgets>=7.5.0->bqplot) (4.8.0)\n",
      "Requirement already satisfied: prompt-toolkit!=3.0.0,!=3.0.1,<3.1.0,>=2.0.0 in /home/sigmund/anaconda3/lib/python3.8/site-packages (from ipython>=4.0.0->ipywidgets>=7.5.0->bqplot) (3.0.8)\n",
      "Requirement already satisfied: setuptools>=18.5 in /home/sigmund/anaconda3/lib/python3.8/site-packages (from ipython>=4.0.0->ipywidgets>=7.5.0->bqplot) (52.0.0.post20210125)\n",
      "Requirement already satisfied: backcall in /home/sigmund/anaconda3/lib/python3.8/site-packages (from ipython>=4.0.0->ipywidgets>=7.5.0->bqplot) (0.2.0)\n",
      "Requirement already satisfied: jedi>=0.16 in /home/sigmund/anaconda3/lib/python3.8/site-packages (from ipython>=4.0.0->ipywidgets>=7.5.0->bqplot) (0.17.2)\n",
      "Requirement already satisfied: pickleshare in /home/sigmund/anaconda3/lib/python3.8/site-packages (from ipython>=4.0.0->ipywidgets>=7.5.0->bqplot) (0.7.5)\n",
      "Requirement already satisfied: parso<0.8.0,>=0.7.0 in /home/sigmund/anaconda3/lib/python3.8/site-packages (from jedi>=0.16->ipython>=4.0.0->ipywidgets>=7.5.0->bqplot) (0.7.0)\n",
      "Requirement already satisfied: jsonschema!=2.5.0,>=2.4 in /home/sigmund/anaconda3/lib/python3.8/site-packages (from nbformat>=4.2.0->ipywidgets>=7.5.0->bqplot) (3.2.0)\n",
      "Requirement already satisfied: ipython-genutils in /home/sigmund/anaconda3/lib/python3.8/site-packages (from nbformat>=4.2.0->ipywidgets>=7.5.0->bqplot) (0.2.0)\n",
      "Requirement already satisfied: jupyter-core in /home/sigmund/anaconda3/lib/python3.8/site-packages (from nbformat>=4.2.0->ipywidgets>=7.5.0->bqplot) (4.7.1)\n",
      "Requirement already satisfied: attrs>=17.4.0 in /home/sigmund/anaconda3/lib/python3.8/site-packages (from jsonschema!=2.5.0,>=2.4->nbformat>=4.2.0->ipywidgets>=7.5.0->bqplot) (20.3.0)\n",
      "Requirement already satisfied: six>=1.11.0 in /home/sigmund/anaconda3/lib/python3.8/site-packages (from jsonschema!=2.5.0,>=2.4->nbformat>=4.2.0->ipywidgets>=7.5.0->bqplot) (1.15.0)\n",
      "Requirement already satisfied: pyrsistent>=0.14.0 in /home/sigmund/anaconda3/lib/python3.8/site-packages (from jsonschema!=2.5.0,>=2.4->nbformat>=4.2.0->ipywidgets>=7.5.0->bqplot) (0.17.3)\n",
      "Requirement already satisfied: ptyprocess>=0.5 in /home/sigmund/anaconda3/lib/python3.8/site-packages (from pexpect>4.3->ipython>=4.0.0->ipywidgets>=7.5.0->bqplot) (0.7.0)\n",
      "Requirement already satisfied: wcwidth in /home/sigmund/anaconda3/lib/python3.8/site-packages (from prompt-toolkit!=3.0.0,!=3.0.1,<3.1.0,>=2.0.0->ipython>=4.0.0->ipywidgets>=7.5.0->bqplot) (0.2.5)\n",
      "Requirement already satisfied: notebook>=4.4.1 in /home/sigmund/anaconda3/lib/python3.8/site-packages (from widgetsnbextension~=3.5.0->ipywidgets>=7.5.0->bqplot) (6.2.0)\n",
      "Requirement already satisfied: pyzmq>=17 in /home/sigmund/anaconda3/lib/python3.8/site-packages (from notebook>=4.4.1->widgetsnbextension~=3.5.0->ipywidgets>=7.5.0->bqplot) (20.0.0)\n",
      "Requirement already satisfied: Send2Trash>=1.5.0 in /home/sigmund/anaconda3/lib/python3.8/site-packages (from notebook>=4.4.1->widgetsnbextension~=3.5.0->ipywidgets>=7.5.0->bqplot) (1.5.0)\n",
      "Requirement already satisfied: terminado>=0.8.3 in /home/sigmund/anaconda3/lib/python3.8/site-packages (from notebook>=4.4.1->widgetsnbextension~=3.5.0->ipywidgets>=7.5.0->bqplot) (0.9.2)\n",
      "Requirement already satisfied: jinja2 in /home/sigmund/anaconda3/lib/python3.8/site-packages (from notebook>=4.4.1->widgetsnbextension~=3.5.0->ipywidgets>=7.5.0->bqplot) (2.11.3)\n",
      "Requirement already satisfied: nbconvert in /home/sigmund/anaconda3/lib/python3.8/site-packages (from notebook>=4.4.1->widgetsnbextension~=3.5.0->ipywidgets>=7.5.0->bqplot) (5.6.1)\n",
      "Requirement already satisfied: prometheus-client in /home/sigmund/anaconda3/lib/python3.8/site-packages (from notebook>=4.4.1->widgetsnbextension~=3.5.0->ipywidgets>=7.5.0->bqplot) (0.9.0)\n",
      "Requirement already satisfied: argon2-cffi in /home/sigmund/anaconda3/lib/python3.8/site-packages (from notebook>=4.4.1->widgetsnbextension~=3.5.0->ipywidgets>=7.5.0->bqplot) (20.1.0)\n",
      "Requirement already satisfied: python-dateutil>=2.1 in /home/sigmund/anaconda3/lib/python3.8/site-packages (from jupyter-client->ipykernel>=4.5.1->ipywidgets>=7.5.0->bqplot) (2.8.1)\n",
      "Requirement already satisfied: cffi>=1.0.0 in /home/sigmund/anaconda3/lib/python3.8/site-packages (from argon2-cffi->notebook>=4.4.1->widgetsnbextension~=3.5.0->ipywidgets>=7.5.0->bqplot) (1.14.4)\n",
      "Requirement already satisfied: pycparser in /home/sigmund/anaconda3/lib/python3.8/site-packages (from cffi>=1.0.0->argon2-cffi->notebook>=4.4.1->widgetsnbextension~=3.5.0->ipywidgets>=7.5.0->bqplot) (2.20)\n",
      "Requirement already satisfied: MarkupSafe>=0.23 in /home/sigmund/anaconda3/lib/python3.8/site-packages (from jinja2->notebook>=4.4.1->widgetsnbextension~=3.5.0->ipywidgets>=7.5.0->bqplot) (1.1.1)\n",
      "Requirement already satisfied: testpath in /home/sigmund/anaconda3/lib/python3.8/site-packages (from nbconvert->notebook>=4.4.1->widgetsnbextension~=3.5.0->ipywidgets>=7.5.0->bqplot) (0.4.4)\n",
      "Requirement already satisfied: bleach in /home/sigmund/anaconda3/lib/python3.8/site-packages (from nbconvert->notebook>=4.4.1->widgetsnbextension~=3.5.0->ipywidgets>=7.5.0->bqplot) (3.3.0)\n",
      "Requirement already satisfied: mistune<2,>=0.8.1 in /home/sigmund/anaconda3/lib/python3.8/site-packages (from nbconvert->notebook>=4.4.1->widgetsnbextension~=3.5.0->ipywidgets>=7.5.0->bqplot) (0.8.4)\n",
      "Requirement already satisfied: entrypoints>=0.2.2 in /home/sigmund/anaconda3/lib/python3.8/site-packages (from nbconvert->notebook>=4.4.1->widgetsnbextension~=3.5.0->ipywidgets>=7.5.0->bqplot) (0.3)\n",
      "Requirement already satisfied: defusedxml in /home/sigmund/anaconda3/lib/python3.8/site-packages (from nbconvert->notebook>=4.4.1->widgetsnbextension~=3.5.0->ipywidgets>=7.5.0->bqplot) (0.6.0)\n",
      "Requirement already satisfied: pandocfilters>=1.4.1 in /home/sigmund/anaconda3/lib/python3.8/site-packages (from nbconvert->notebook>=4.4.1->widgetsnbextension~=3.5.0->ipywidgets>=7.5.0->bqplot) (1.4.3)\n",
      "Requirement already satisfied: webencodings in /home/sigmund/anaconda3/lib/python3.8/site-packages (from bleach->nbconvert->notebook>=4.4.1->widgetsnbextension~=3.5.0->ipywidgets>=7.5.0->bqplot) (0.5.1)\n",
      "Requirement already satisfied: packaging in /home/sigmund/anaconda3/lib/python3.8/site-packages (from bleach->nbconvert->notebook>=4.4.1->widgetsnbextension~=3.5.0->ipywidgets>=7.5.0->bqplot) (20.9)\n"
     ]
    },
    {
     "name": "stdout",
     "output_type": "stream",
     "text": [
      "Requirement already satisfied: pyparsing>=2.0.2 in /home/sigmund/anaconda3/lib/python3.8/site-packages (from packaging->bleach->nbconvert->notebook>=4.4.1->widgetsnbextension~=3.5.0->ipywidgets>=7.5.0->bqplot) (2.4.7)\n",
      "Requirement already satisfied: pytz>=2017.3 in /home/sigmund/anaconda3/lib/python3.8/site-packages (from pandas->bqplot) (2021.1)\n",
      "Note: you may need to restart the kernel to use updated packages.\n"
     ]
    }
   ],
   "source": [
    "pip install bqplot"
   ]
  },
  {
   "cell_type": "markdown",
   "id": "laden-option",
   "metadata": {
    "slideshow": {
     "slide_type": "slide"
    }
   },
   "source": [
    "## 2. Check Package Version "
   ]
  },
  {
   "cell_type": "code",
   "execution_count": 19,
   "id": "compact-douglas",
   "metadata": {
    "slideshow": {
     "slide_type": "slide"
    }
   },
   "outputs": [
    {
     "name": "stdout",
     "output_type": "stream",
     "text": [
      "Name: bqplot\r\n",
      "Version: 0.12.22\r\n",
      "Summary: Interactive plotting for the Jupyter notebook, using d3.js and ipywidgets.\r\n",
      "Home-page: https://github.com/bloomberg/bqplot\r\n",
      "Author: The BQplot Development Team\r\n",
      "Author-email: UNKNOWN\r\n",
      "License: Apache\r\n",
      "Location: /home/sigmund/anaconda3/lib/python3.8/site-packages\r\n",
      "Requires: ipywidgets, numpy, traittypes, pandas, traitlets\r\n",
      "Required-by: \r\n"
     ]
    }
   ],
   "source": [
    "!pip show bqplot"
   ]
  },
  {
   "cell_type": "code",
   "execution_count": 20,
   "id": "nutritional-canadian",
   "metadata": {
    "slideshow": {
     "slide_type": "slide"
    }
   },
   "outputs": [
    {
     "name": "stdout",
     "output_type": "stream",
     "text": [
      "Name: bqplot\n",
      "Version: 0.12.22\n",
      "Summary: Interactive plotting for the Jupyter notebook, using d3.js and ipywidgets.\n",
      "Home-page: https://github.com/bloomberg/bqplot\n",
      "Author: The BQplot Development Team\n",
      "Author-email: UNKNOWN\n",
      "License: Apache\n",
      "Location: /home/sigmund/anaconda3/lib/python3.8/site-packages\n",
      "Requires: traittypes, ipywidgets, pandas, traitlets, numpy\n",
      "Required-by: \n",
      "Note: you may need to restart the kernel to use updated packages.\n"
     ]
    }
   ],
   "source": [
    "%pip show bqplot"
   ]
  },
  {
   "cell_type": "code",
   "execution_count": 21,
   "id": "random-masters",
   "metadata": {
    "slideshow": {
     "slide_type": "slide"
    }
   },
   "outputs": [
    {
     "name": "stdout",
     "output_type": "stream",
     "text": [
      "Name: bqplot\n",
      "Version: 0.12.22\n",
      "Summary: Interactive plotting for the Jupyter notebook, using d3.js and ipywidgets.\n",
      "Home-page: https://github.com/bloomberg/bqplot\n",
      "Author: The BQplot Development Team\n",
      "Author-email: UNKNOWN\n",
      "License: Apache\n",
      "Location: /home/sigmund/anaconda3/lib/python3.8/site-packages\n",
      "Requires: traittypes, ipywidgets, pandas, traitlets, numpy\n",
      "Required-by: \n",
      "Note: you may need to restart the kernel to use updated packages.\n"
     ]
    }
   ],
   "source": [
    "pip show bqplot"
   ]
  }
 ],
 "metadata": {
  "celltoolbar": "Slideshow",
  "kernelspec": {
   "display_name": "Python 3",
   "language": "python",
   "name": "python3"
  },
  "language_info": {
   "codemirror_mode": {
    "name": "ipython",
    "version": 3
   },
   "file_extension": ".py",
   "mimetype": "text/x-python",
   "name": "python",
   "nbconvert_exporter": "python",
   "pygments_lexer": "ipython3",
   "version": "3.8.5"
  }
 },
 "nbformat": 4,
 "nbformat_minor": 5
}
