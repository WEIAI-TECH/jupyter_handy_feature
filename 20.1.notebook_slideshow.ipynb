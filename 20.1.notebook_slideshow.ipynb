{
 "cells": [
  {
   "cell_type": "markdown",
   "id": "vocal-energy",
   "metadata": {
    "slideshow": {
     "slide_type": "slide"
    }
   },
   "source": [
    "<img src=\"./images/weiailogo2.png\"\n",
    "     style=\"float: right\"\n",
    "     width=100\n",
    "     style=\"padding-bottom:30px;\"/>\n",
    "<br>\n",
    "\n",
    "<img style=\"float: left;\" src= \"./images/python-logo.svg\" width=\"300\">    \n",
    "<img  style=\"float: center;\" src=\"./images/jupyter-logo.svg\" width=\"100\">\n",
    "\n",
    "\n",
    "# Create Immdediate Slideshow in Jupyter Notebook\n",
    "\n",
    "## Sigmund S. Wei, Ph.D. Professor"
   ]
  },
  {
   "cell_type": "code",
   "execution_count": null,
   "id": "analyzed-conjunction",
   "metadata": {},
   "outputs": [],
   "source": []
  },
  {
   "cell_type": "markdown",
   "id": "undefined-experience",
   "metadata": {},
   "source": [
    "We will look at the third method by using `RISE` plug-in, and this plug-in allow your notebook turn into an immediate slide deck. \n",
    "\n",
    "The more important aspect is that it is a living slide deck where you can edit and run your code directly, and you can also freely switch between the slide mode and notebook mode.   "
   ]
  },
  {
   "cell_type": "markdown",
   "id": "lyric-current",
   "metadata": {},
   "source": [
    "## 1.  What is RISE\n",
    "\n",
    "[RISE]() is a Jupyter notebook extension, which enables you instantly turn your Jupyter Notebook into a live reveal.js-based presentation. In this section, we will view how to install the extention, and how we use RISE to turn our `simple_slidedeck` into the live and immediate slide deck."
   ]
  },
  {
   "cell_type": "markdown",
   "id": "seventh-hudson",
   "metadata": {},
   "source": [
    "## 2. RISE Installation\n",
    "Based on the [official document](https://rise.readthedocs.io/en/stable/installation.html), there are two options to install RISE.\n",
    "### (1) Use conda\n",
    "If you are an Anaconda user, just install RISE through the following command:    \n",
    "`conda install -c conda-forge rise`\n",
    "### (2) Use pip\n",
    "Normally you can install it through `pip` with the command as follows:    \n",
    "`pip install RISE`"
   ]
  },
  {
   "cell_type": "code",
   "execution_count": null,
   "id": "dramatic-ukraine",
   "metadata": {},
   "outputs": [],
   "source": []
  }
 ],
 "metadata": {
  "kernelspec": {
   "display_name": "Python 3",
   "language": "python",
   "name": "python3"
  },
  "language_info": {
   "codemirror_mode": {
    "name": "ipython",
    "version": 3
   },
   "file_extension": ".py",
   "mimetype": "text/x-python",
   "name": "python",
   "nbconvert_exporter": "python",
   "pygments_lexer": "ipython3",
   "version": "3.8.8"
  }
 },
 "nbformat": 4,
 "nbformat_minor": 5
}
