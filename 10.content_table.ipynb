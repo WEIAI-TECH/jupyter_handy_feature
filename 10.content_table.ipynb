{
 "cells": [
  {
   "cell_type": "markdown",
   "id": "vocal-energy",
   "metadata": {
    "slideshow": {
     "slide_type": "slide"
    }
   },
   "source": [
    "<br /> \n",
    "<span style=\"float: right;font-size:5em\">10 &nbsp;</span>         \n",
    "<br /> \n",
    "<br /> \n",
    "<h1 style='float: right'>Create a Table of Contents in Jupyter Notebook</h1>"
   ]
  },
  {
   "cell_type": "code",
   "execution_count": null,
   "id": "amber-travel",
   "metadata": {},
   "outputs": [],
   "source": []
  },
  {
   "cell_type": "code",
   "execution_count": null,
   "id": "immune-harvard",
   "metadata": {},
   "outputs": [],
   "source": []
  },
  {
   "cell_type": "markdown",
   "id": "paperback-cooling",
   "metadata": {},
   "source": [
    "It is very import to create a table of contents (TOC) in the Jupyter Notebook, which help us organize the contents of an article or a book, and provide us links to its sections or chapters to allow us to access them easily. This chapter will give you information on how to establish an internal TOC of the sessions in the same notebook and a TOC linking to different external notebooks. This chapter covers the following three topics:\n",
    "- TOC Structure\n",
    "- TOC of a Signal Notebook\n",
    "- TOC of Multi Notebooks"
   ]
  },
  {
   "cell_type": "markdown",
   "id": "featured-committee",
   "metadata": {},
   "source": [
    "## 10.1. TOC Structure \n",
    "A TOC is normally eigher an ordered list or unordered list, which is comprised by the title of the chapters or/and sections and their IDs. For example, we create a content table looks something as follows:\n",
    "\n",
    "1. [Title 1](#ID1)    \n",
    "    1.1.[Subtitle 1.1](#ID1.1)   \n",
    "    1.2.[Subtitle 1.2](#ID1.2)   \n",
    "2. [Title 2](#ID2)   \n",
    "    2.1.[Subtitle 2.1](#ID2.1)   \n",
    "    2.2.[Subtitle 2.2](#ID2.2)   \n",
    "3. [Title 3](#ID3)   \n",
    "4. [Title 4](#ID4)    \n",
    "\n",
    "or \n",
    "\n",
    "- [Title 1](#ID1)\n",
    "    - [Subtitle 1.1](#ID1.1)\n",
    "    - [Subtitle 1.2](#ID1.2)\n",
    "- [Title 2](#ID2)\n",
    "    - [Subtitle 2.1](#ID2.1)\n",
    "    - [Subtitle 2.2](#ID2.2)\n",
    "- [Title 3](#ID3)\n",
    "- [Title 1](#ID4)\n"
   ]
  },
  {
   "cell_type": "markdown",
   "id": "taken-nursing",
   "metadata": {},
   "source": [
    "## 10.2. TOC of One Notebook\n",
    "A TOC inside a single notebook is very helpful for us to organize the sections and to access them by links. "
   ]
  },
  {
   "cell_type": "markdown",
   "id": "spoken-ticket",
   "metadata": {},
   "source": [
    "### 10.2.1. TOC Layout of One Notebook\n",
    "To create TOC, you just use the following formate:\n",
    "```markdown\n",
    "Header of TOC\n",
    "\n",
    "[title of the session](#title-of-the-session)\n",
    "```\n",
    "<img src=\"./image/notice.png\" alt=\"alt_text\" align=\"left\" width=\"25\"/> &nbsp; Notice: There is no space between harsh(#), words and hyphens(-) in the round brackets, or it cause link fails to the sections."
   ]
  },
  {
   "cell_type": "markdown",
   "id": "active-college",
   "metadata": {},
   "source": [
    "### 10.2.2. TOC Example 1\n",
    "\n",
    "Let's create a TOC for this Chapter for example. "
   ]
  },
  {
   "cell_type": "markdown",
   "id": "noted-application",
   "metadata": {},
   "source": [
    "```markdown\n",
    "## Table of Content\n",
    " \n",
    "  * [10.1. TOC Structure](#10.1.-TOC-Structure)\n",
    "  * [10.2. TOC of One Notebook](#10.2.-TOC-of-One-Notebook)\n",
    "      - [10.2.1. TOC Layout of One Notebook](#10.2.1.-TOC-Layout-of-One-Notebook)\n",
    "      - [10.2.2. TOC Example 1](#10.2.2.-TOC-Example-1)\n",
    "  * [10.3. TOC of Multi Notebooks](#10.3.-TOC-of-Multi-Notebooks)\n",
    "      - [10.3.1. TOC Layout of multi Notebooks](#10.3.1.-TOC-Layout-of-Multi-Notebooks)\n",
    "      - [10.3.2. TOC Example 2](#10.3.2.-TOC-Example-2)\n",
    "```"
   ]
  },
  {
   "cell_type": "markdown",
   "id": "occasional-broad",
   "metadata": {},
   "source": [
    "The rendered output looks as follows:\n",
    "\n",
    "### Table of Content\n",
    "\n",
    "* [10.1. TOC Structure](#10.1.-TOC-Structure)\n",
    "* [10.2. TOC of One Notebook](#10.2.-TOC-of-One-Notebook)\n",
    "    - [10.2.1. TOC Layout of One Notebook](#10.2.1.-TOC-Layout-of-One-Notebook)\n",
    "    - [10.2.2. TOC Example 1](#10.2.2.-TOC-Example-1)\n",
    "* [10.3. TOC of Multi Notebooks](#10.3.-TOC-of-Multi-Notebooks)\n",
    "    - [10.3.1. TOC Layout of Multi Notebooks](#10.3.1.-TOC-Layout-of-Multi-Notebooks)\n",
    "    - [10.3.2. TOC Example 2](#10.3.2.-TOC-Example-2)"
   ]
  },
  {
   "cell_type": "markdown",
   "id": "second-finish",
   "metadata": {},
   "source": [
    "<img src=\"./image/tips.png\" alt=\"alt_text\" align=\"left\" width=\"25\"/> &nbsp; Tips: If it fails to link the sections, first, please double-check if there is any space between harsh(#), words and hyphens(-) in the round brackets. If it still does not work, then go to the section titles to check if there is any extra space between the session numbers and the words, for example, between **10.2.1.** and **TOC Layout of One Notebook**, where there should be only ***a singal space***. "
   ]
  },
  {
   "cell_type": "markdown",
   "id": "outstanding-instruction",
   "metadata": {},
   "source": [
    "## 10.3. TOC of Multi Notebooks"
   ]
  },
  {
   "cell_type": "markdown",
   "id": "fifteen-moment",
   "metadata": {},
   "source": [
    "### 10.3.1. TOC Layout of Multi Notebooks"
   ]
  },
  {
   "cell_type": "markdown",
   "id": "inclusive-unemployment",
   "metadata": {
    "slideshow": {
     "slide_type": "slide"
    }
   },
   "source": [
    "For example, the content table of this Chapter\n",
    "## Header of the TOC  \n",
    "```markdown\n",
    "[Title of the Chapter](the path of a notebook)\n",
    "```"
   ]
  },
  {
   "cell_type": "markdown",
   "id": "distinct-watch",
   "metadata": {},
   "source": [
    "### 10.3.2. TOC Example 2\n",
    "\n",
    "For example, the content table of this Chapter\n"
   ]
  },
  {
   "cell_type": "markdown",
   "id": "brilliant-guyana",
   "metadata": {},
   "source": [
    "\n",
    "## Contents\n",
    "\n",
    "###  [Preface](./preface.md)"
   ]
  },
  {
   "cell_type": "markdown",
   "id": "moral-cholesterol",
   "metadata": {},
   "source": []
  },
  {
   "cell_type": "code",
   "execution_count": null,
   "id": "dutch-newsletter",
   "metadata": {},
   "outputs": [],
   "source": []
  }
 ],
 "metadata": {
  "kernelspec": {
   "display_name": "Python 3",
   "language": "python",
   "name": "python3"
  },
  "language_info": {
   "codemirror_mode": {
    "name": "ipython",
    "version": 3
   },
   "file_extension": ".py",
   "mimetype": "text/x-python",
   "name": "python",
   "nbconvert_exporter": "python",
   "pygments_lexer": "ipython3",
   "version": "3.8.8"
  }
 },
 "nbformat": 4,
 "nbformat_minor": 5
}
